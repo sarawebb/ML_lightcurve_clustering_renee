{
 "cells": [
  {
   "cell_type": "code",
   "execution_count": 1,
   "metadata": {},
   "outputs": [
    {
     "name": "stderr",
     "output_type": "stream",
     "text": [
      "/anaconda3/lib/python3.6/site-packages/sklearn/externals/six.py:31: FutureWarning: The module is deprecated in version 0.21 and will be removed in version 0.23 since we've dropped support for Python 2.7. Please rely on the official version of six (https://pypi.org/project/six/).\n",
      "  \"(https://pypi.org/project/six/).\", FutureWarning)\n",
      "/anaconda3/lib/python3.6/site-packages/sklearn/externals/joblib/__init__.py:15: FutureWarning: sklearn.externals.joblib is deprecated in 0.21 and will be removed in 0.23. Please import this functionality directly from joblib, which can be installed with: pip install joblib. If this warning is raised when loading pickled models, you may need to re-serialize those models with scikit-learn 0.21+.\n",
      "  warnings.warn(msg, category=FutureWarning)\n"
     ]
    }
   ],
   "source": [
    "import feets\n",
    "import os \n",
    "import math \n",
    "import numpy as np \n",
    "import argparse \n",
    "from astropy.table import Table, Column, join\n",
    "from astropy.coordinates import SkyCoord\n",
    "from astropy import units as u\n",
    "from astroquery.vizier import Vizier\n",
    "import sys\n",
    "import hdbscan\n",
    "from sklearn.manifold import TSNE\n",
    "import matplotlib.pyplot as plt\n",
    "import seaborn as sns\n",
    "from sklearn.decomposition import PCA\n",
    "import pandas as pd\n",
    "from sklearn.preprocessing import StandardScaler\n",
    "fft = False\n",
    "import pickle\n",
    "import matplotlib.pylab as pylab\n",
    "from astropy.table import Table, Column, join \n"
   ]
  },
  {
   "cell_type": "markdown",
   "metadata": {},
   "source": [
    "# Step 1: Reading in the light curves, save as seperate ascii files "
   ]
  },
  {
   "cell_type": "code",
   "execution_count": 2,
   "metadata": {
    "scrolled": true
   },
   "outputs": [
    {
     "name": "stdout",
     "output_type": "stream",
     "text": [
      "                hjd        mag    magerr  type  contam   chp       xp  \\\n",
      "objid                                                                   \n",
      "54     58833.526351  21.120489  0.011924   1.0     0.0  28.0   910.06   \n",
      "125    58833.526351  20.617530  0.011911   1.0     0.0  24.0  1194.42   \n",
      "130    58833.526351  20.795530  0.011911   1.0     0.0  24.0  1119.04   \n",
      "747    58833.526351  22.634489  0.021824   1.0     0.0  28.0  1906.37   \n",
      "783    58833.526351  22.235489  0.017844   1.0     0.0  28.0  1369.97   \n",
      "...             ...        ...       ...   ...     ...   ...      ...   \n",
      "7487   58833.526351  24.485530  0.094776   1.0     0.0  24.0   619.99   \n",
      "11164  58833.526351  25.366530  0.217772   7.0     0.0  24.0  1982.92   \n",
      "11371      0.000000   0.000000  0.000000   0.0     0.0   0.0     0.00   \n",
      "6654   58833.526351  24.828489  0.122771   7.0     0.0  28.0   694.27   \n",
      "11143      0.000000   0.000000  0.000000   0.0     0.0   0.0     0.00   \n",
      "\n",
      "            yp    bfloor   moffset  ...       xp       yp    bfloor   moffset  \\\n",
      "objid                               ...                                         \n",
      "54      880.42 -0.005763  0.214511  ...   905.19   903.69 -0.004969  0.156258   \n",
      "125    2873.55 -0.006768  0.223470  ...  1186.77  2896.67 -0.003974  0.153588   \n",
      "130    2645.34 -0.006768  0.223470  ...  1111.61  2668.34 -0.003974  0.153588   \n",
      "747    2214.62 -0.005763  0.214511  ...  1900.40  2239.44 -0.004969  0.156258   \n",
      "783     863.19 -0.005763  0.214511  ...  1365.07   887.15 -0.004969  0.156258   \n",
      "...        ...       ...       ...  ...      ...      ...       ...       ...   \n",
      "7487    257.31 -0.006768  0.223470  ...   613.79   278.59 -0.003974  0.153588   \n",
      "11164  2628.00 -0.006768  0.223470  ...  1976.45  2650.46 -0.003974  0.153588   \n",
      "11371     0.00  0.000000  0.000000  ...  1829.31   791.77 -0.003974  0.153588   \n",
      "6654   3904.77 -0.005763  0.214511  ...   686.90  3928.29 -0.004969  0.156258   \n",
      "11143     0.00  0.000000  0.000000  ...  2008.55   258.98 -0.003974  0.153588   \n",
      "\n",
      "       fitsky    errlim    mean ra  mean decl   mean mag  count data  \n",
      "objid                                                                 \n",
      "54     401.12  0.071326  91.139041 -70.931899  21.151110         570  \n",
      "125    431.18  0.069528  92.043372 -70.779149  20.554564         570  \n",
      "130    416.92  0.070204  91.992267 -70.774301  20.789918         570  \n",
      "747    395.40  0.081723  91.443097 -71.001862  22.646158         569  \n",
      "783    394.97  0.079467  91.137423 -70.965433  22.342798         570  \n",
      "...       ...       ...        ...        ...        ...         ...  \n",
      "7487   390.93  0.121719  91.460108 -70.743782  24.333221         570  \n",
      "11164  388.76  0.202702  91.994855 -70.837389  25.437300         567  \n",
      "11371  392.71  0.264806  91.580986 -70.831319  25.670483         556  \n",
      "6654   392.55  0.167272  91.812925 -70.909527  24.915364         568  \n",
      "11143  388.65  0.225386  91.463616 -70.845561  25.731446         543  \n",
      "\n",
      "[135 rows x 6844 columns]\n"
     ]
    }
   ],
   "source": [
    "df = pd.read_hdf('PATH'+/+'lmc_rawdata_sample.h5', 'df', mode='r')\n",
    "#replace NaNs with zeros to help with feature extaction later on \n",
    "df = df.replace(np.nan, 0)\n",
    "print(df)"
   ]
  },
  {
   "cell_type": "code",
   "execution_count": 3,
   "metadata": {},
   "outputs": [],
   "source": [
    "#save each objects lightcurve as a single ascii file (for looking at later, and also easy to read for clustering :) \n",
    "\n",
    "\n",
    "for index, row in df.iterrows():\n",
    "    hjd = []\n",
    "    mag = []\n",
    "    magerr = []\n",
    "    for i in row.hjd: \n",
    "        hjd.append(i)\n",
    "    for i in row.mag:\n",
    "        mag.append(i)\n",
    "    for i in row.magerr:\n",
    "        magerr.append(i)\n",
    "    object_table = Table()\n",
    "    object_table['HJD'] = hjd\n",
    "    object_table['mag'] = mag\n",
    "    object_table['magerr'] = magerr\n",
    "    file_name= '/Users/swebb/Documents/renee/LC_files/objectID_'+str(index)+'_lc.ascii'\n",
    "    object_table.write(file_name, format='ascii', overwrite=True)\n",
    "    #print(object_table)"
   ]
  },
  {
   "cell_type": "markdown",
   "metadata": {},
   "source": [
    "# Step 2: Reading in the light curves for features "
   ]
  },
  {
   "cell_type": "code",
   "execution_count": null,
   "metadata": {},
   "outputs": [],
   "source": [
    "def get_feats_blank():\n",
    "    path = '/Users/swebb/Documents/renee/LC_files/'\n",
    "    lc_with_only_zeros = []\n",
    "    used_lcs = []\n",
    "    filenames = []\n",
    "    \n",
    "    # the following at the features we'll grab using the feets package \n",
    "    Autocor_length = []\n",
    "    Beyond1Std = []\n",
    "    CAR_sigma = []\n",
    "    CAR_mean = []\n",
    "    CAR_tau =[]\n",
    "    Con =[]\n",
    "    Eta_e = []\n",
    "    LinearTrend = []\n",
    "    MaxSlope =[]\n",
    "    Mean = []\n",
    "    Meanvariance = []\n",
    "    MedianAbsDev =[]\n",
    "    MedianBRP =[]\n",
    "    PairSlopeTrend =[]\n",
    "    PercentAmplitude =[]\n",
    "    Q31 =[]\n",
    "    Rcs =[]\n",
    "    Skew =[]\n",
    "    SlottedA_length =[]\n",
    "    SmallKurtosis =[]\n",
    "    Std = []\n",
    "    StetsonK_AC = []\n",
    "    Amplitudes = []\n",
    "    VariabilityIndex = []\n",
    "    hl_ratio = []\n",
    "    amp1_val = []\n",
    "    amp_2_1_ratio = []\n",
    "    amp_3_1_ratio = []\n",
    "    phase_2_1_ratio = []\n",
    "    phase_3_1_ratio = []\n",
    "    files = os.listdir(path)\n",
    "    for filename in files: \n",
    "        if filename.endswith('lc.ascii'):\n",
    "            try:\n",
    "                hjd, mag, emag = np.loadtxt(path + filename, unpack = True, skiprows=1)\n",
    "            except: \n",
    "                print('FILE EMPTY)')\n",
    "            sum_mag = np.sum(mag)\n",
    "            #print(filename, sum_mag)\n",
    "            if sum_mag == 0:\n",
    "                lc_with_only_zeros.append(filename)\n",
    "            elif sum_mag != 0:\n",
    "                used_lcs.append(filename)\n",
    "            clean_hjd = []\n",
    "            clean_mag = []\n",
    "            clean_emag = []\n",
    "            for l,m,n in zip(hjd,mag, emag):\n",
    "                if m != 0:\n",
    "                    if m != 0:\n",
    "                        clean_hjd.append(l)\n",
    "                        clean_mag.append(m)\n",
    "                        clean_emag.append(n)\n",
    "                    elif m != float: \n",
    "                        pass \n",
    "            if len(clean_hjd) > 3:\n",
    "                lc = np.array([clean_mag, clean_hjd, clean_emag])\n",
    "                fs=feets.FeatureSpace(only=['Autocor_length', 'Beyond1Std', 'CAR_sigma', 'CAR_mean',\n",
    "                                            'CAR_tau', 'Con', 'LinearTrend', 'MaxSlope',\n",
    "                                            'Mean', 'Meanvariance', 'MedianAbsDev', 'MedianBRP',\n",
    "                                            'PairSlopeTrend', 'PercentAmplitude', 'Q31', 'Rcs', 'Skew',\n",
    "                                            'SlottedA_length', 'SmallKurtosis', 'Std',\n",
    "                                            'StetsonK_AC' ])\n",
    "                features, values = fs.extract(*lc)\n",
    "                #print(features)\n",
    "                results = dict(zip(features,values))\n",
    "                filenames.append(filename)\n",
    "                Autocor_length.append(results['Autocor_length'])\n",
    "                Beyond1Std.append(results['Beyond1Std'])\n",
    "                CAR_sigma.append(results['CAR_sigma'])\n",
    "                CAR_mean.append(results['CAR_mean'])\n",
    "                CAR_tau.append(results['CAR_tau'])\n",
    "                Con.append(results['Con'])\n",
    "                LinearTrend.append(results['LinearTrend'])\n",
    "                MaxSlope.append(results['MaxSlope'])\n",
    "                Mean.append(results['Mean'])\n",
    "                Meanvariance.append(results['Meanvariance'])\n",
    "                MedianAbsDev.append(results['MedianAbsDev'])\n",
    "                MedianBRP.append(results['MedianBRP'])\n",
    "                PairSlopeTrend.append(results['PairSlopeTrend'])\n",
    "                PercentAmplitude.append(results['PercentAmplitude'])\n",
    "                Q31.append(results['Q31'])\n",
    "                Rcs.append(results['Rcs'])\n",
    "                Skew.append(results['Skew'])\n",
    "                SlottedA_length.append(results['SlottedA_length'])\n",
    "                SmallKurtosis.append(results['SmallKurtosis'])\n",
    "                Std.append(results['Std'])\n",
    "                StetsonK_AC.append(results['StetsonK_AC'])\n",
    "                N = len(clean_mag)\n",
    "                sorted_mag = np.sort(clean_mag)\n",
    "                amp = (np.median(sorted_mag[-int(math.ceil(0.05*N)):]) - np.median(sorted_mag[0:int(math.ceil(0.05*N))])) / 2\n",
    "                Amplitudes.append(amp)\n",
    "                clean_mag_array = np.asarray(clean_mag)\n",
    "                sigma2 = np.var(clean_mag)\n",
    "                VarIndex = 1/((N-1)*sigma2)*np.sum(np.power(clean_mag_array[1:]-clean_mag_array[:-1], 2))\n",
    "                VariabilityIndex.append(VarIndex)\n",
    "                non_detects = []\n",
    "                fft = np.fft.rfft(clean_mag)\n",
    "                amps = np.sqrt(fft.real**2+fft.imag**2)\n",
    "                amp1 = amps[0]\n",
    "                amp1_val.append(amp1)\n",
    "                amp2 = amps[1]\n",
    "                amp3 = amps[2]\n",
    "                amp_2_1 = amp2/amp1\n",
    "                amp_3_1 = amp3/amp1 \n",
    "                amp_2_1_ratio.append(amp_2_1)\n",
    "                amp_3_1_ratio.append(amp_3_1)\n",
    "                phases = np.arctan2(fft.imag, fft.real)\n",
    "                phase1 = phases[0]\n",
    "                phase2 = phases[1]\n",
    "                phase3 = phases[2]\n",
    "                phase_2_1 = phase2/phase1\n",
    "                phase_3_1 = phase3/phase1  \n",
    "                phase_2_1_ratio.append(phase_2_1)\n",
    "                phase_3_1_ratio.append(phase_3_1)\n",
    "            else: \n",
    "                print('Not enough data points')\n",
    "    #put all into a mega table with each row representing a different light curve \n",
    "    feature_table = Table()\n",
    "    feature_table['LC_name'] = filenames\n",
    "    feature_table['Autocor_length'] = Autocor_length\n",
    "    feature_table['Beyond1Std'] = Beyond1Std\n",
    "    feature_table['CAR_sigma'] = CAR_sigma\n",
    "    feature_table['CAR_mean'] = CAR_mean\n",
    "    feature_table['CAR_tau'] = CAR_tau\n",
    "    feature_table['Con'] = Con\n",
    "    feature_table['LinearTrend'] = LinearTrend\n",
    "    feature_table['MaxSlope'] = MaxSlope\n",
    "    feature_table['Mean'] =Mean\n",
    "    feature_table['Meanvariance'] =Meanvariance\n",
    "    feature_table['MedianAbsDev'] =MedianAbsDev\n",
    "    feature_table['MedianBRP'] =MedianBRP\n",
    "    feature_table['PairSlopeTrend'] =PairSlopeTrend\n",
    "    feature_table['PercentAmplitude'] =PercentAmplitude\n",
    "    feature_table['Q31'] =Q31\n",
    "    feature_table['Rcs'] =Rcs\n",
    "    feature_table['Skew'] =Skew\n",
    "    feature_table['SlottedA_length'] =SlottedA_length\n",
    "    feature_table['SmallKurtosis'] =SmallKurtosis\n",
    "    feature_table['Std'] =Std\n",
    "    feature_table['StetsonK_AC'] =StetsonK_AC\n",
    "    feature_table['Amplitudes'] = Amplitudes\n",
    "    feature_table['amp1'] = amp1_val\n",
    "    feature_table['amp_2_1_ratio'] = amp_2_1_ratio \n",
    "    feature_table['amp_3_1_ratio'] = amp_3_1_ratio\n",
    "    output ='/Users/swebb/Documents/renee/feature_files/features_test_set.csv'\n",
    "    df = feature_table.to_pandas()\n",
    "    df = df.replace(np.nan, 0)\n",
    "    df.to_csv(output)\n",
    "    return feature_table"
   ]
  },
  {
   "cell_type": "code",
   "execution_count": 6,
   "metadata": {},
   "outputs": [
    {
     "name": "stderr",
     "output_type": "stream",
     "text": [
      "/anaconda3/lib/python3.6/site-packages/statsmodels/tsa/stattools.py:572: FutureWarning: fft=True will become the default in a future version of statsmodels. To suppress this warning, explicitly set fft=False.\n",
      "  FutureWarning\n"
     ]
    },
    {
     "name": "stdout",
     "output_type": "stream",
     "text": [
      "['Autocor_length' 'Beyond1Std' 'CAR_mean' 'CAR_sigma' 'CAR_tau' 'Con'\n",
      " 'LinearTrend' 'MaxSlope' 'Mean' 'Meanvariance' 'MedianAbsDev' 'MedianBRP'\n",
      " 'PairSlopeTrend' 'PercentAmplitude' 'Q31' 'Rcs' 'Skew' 'SlottedA_length'\n",
      " 'SmallKurtosis' 'Std' 'StetsonK_AC']\n"
     ]
    },
    {
     "name": "stderr",
     "output_type": "stream",
     "text": [
      "/anaconda3/lib/python3.6/site-packages/ipykernel_launcher.py:118: RuntimeWarning: divide by zero encountered in double_scalars\n",
      "/anaconda3/lib/python3.6/site-packages/ipykernel_launcher.py:119: RuntimeWarning: divide by zero encountered in double_scalars\n",
      "/anaconda3/lib/python3.6/site-packages/feets/extractors/ext_max_slope.py:91: RuntimeWarning: divide by zero encountered in true_divide\n",
      "  slope = np.abs(magnitude[1:] - magnitude[:-1]) / (time[1:] - time[:-1])\n"
     ]
    },
    {
     "name": "stdout",
     "output_type": "stream",
     "text": [
      "['Autocor_length' 'Beyond1Std' 'CAR_mean' 'CAR_sigma' 'CAR_tau' 'Con'\n",
      " 'LinearTrend' 'MaxSlope' 'Mean' 'Meanvariance' 'MedianAbsDev' 'MedianBRP'\n",
      " 'PairSlopeTrend' 'PercentAmplitude' 'Q31' 'Rcs' 'Skew' 'SlottedA_length'\n",
      " 'SmallKurtosis' 'Std' 'StetsonK_AC']\n"
     ]
    },
    {
     "name": "stderr",
     "output_type": "stream",
     "text": [
      "/anaconda3/lib/python3.6/site-packages/ipykernel_launcher.py:118: RuntimeWarning: divide by zero encountered in double_scalars\n",
      "/anaconda3/lib/python3.6/site-packages/ipykernel_launcher.py:119: RuntimeWarning: divide by zero encountered in double_scalars\n",
      "/anaconda3/lib/python3.6/site-packages/statsmodels/tsa/stattools.py:572: FutureWarning: fft=True will become the default in a future version of statsmodels. To suppress this warning, explicitly set fft=False.\n",
      "  FutureWarning\n",
      "/anaconda3/lib/python3.6/site-packages/numpy/core/fromnumeric.py:3118: RuntimeWarning: Mean of empty slice.\n",
      "  out=out, **kwargs)\n",
      "/anaconda3/lib/python3.6/site-packages/numpy/core/_methods.py:85: RuntimeWarning: invalid value encountered in double_scalars\n",
      "  ret = ret.dtype.type(ret / rcount)\n",
      "/anaconda3/lib/python3.6/site-packages/numpy/core/_methods.py:140: RuntimeWarning: Degrees of freedom <= 0 for slice\n",
      "  keepdims=keepdims)\n",
      "/anaconda3/lib/python3.6/site-packages/numpy/core/_methods.py:110: RuntimeWarning: invalid value encountered in true_divide\n",
      "  arrmean, rcount, out=arrmean, casting='unsafe', subok=False)\n",
      "/anaconda3/lib/python3.6/site-packages/numpy/core/_methods.py:132: RuntimeWarning: invalid value encountered in double_scalars\n",
      "  ret = ret.dtype.type(ret / rcount)\n",
      "/anaconda3/lib/python3.6/site-packages/feets/extractors/ext_stetson.py:248: RuntimeWarning: divide by zero encountered in double_scalars\n",
      "  np.sum(np.abs(sigmap)) / np.sqrt(np.sum(sigmap ** 2)))\n",
      "/anaconda3/lib/python3.6/site-packages/feets/extractors/ext_stetson.py:248: RuntimeWarning: invalid value encountered in double_scalars\n",
      "  np.sum(np.abs(sigmap)) / np.sqrt(np.sum(sigmap ** 2)))\n",
      "/anaconda3/lib/python3.6/site-packages/ipykernel_launcher.py:118: RuntimeWarning: divide by zero encountered in double_scalars\n",
      "/anaconda3/lib/python3.6/site-packages/ipykernel_launcher.py:119: RuntimeWarning: divide by zero encountered in double_scalars\n"
     ]
    },
    {
     "name": "stdout",
     "output_type": "stream",
     "text": [
      "['Autocor_length' 'Beyond1Std' 'CAR_mean' 'CAR_sigma' 'CAR_tau' 'Con'\n",
      " 'LinearTrend' 'MaxSlope' 'Mean' 'Meanvariance' 'MedianAbsDev' 'MedianBRP'\n",
      " 'PairSlopeTrend' 'PercentAmplitude' 'Q31' 'Rcs' 'Skew' 'SlottedA_length'\n",
      " 'SmallKurtosis' 'Std' 'StetsonK_AC']\n"
     ]
    },
    {
     "name": "stderr",
     "output_type": "stream",
     "text": [
      "/anaconda3/lib/python3.6/site-packages/statsmodels/tsa/stattools.py:572: FutureWarning: fft=True will become the default in a future version of statsmodels. To suppress this warning, explicitly set fft=False.\n",
      "  FutureWarning\n",
      "/anaconda3/lib/python3.6/site-packages/ipykernel_launcher.py:118: RuntimeWarning: divide by zero encountered in double_scalars\n",
      "/anaconda3/lib/python3.6/site-packages/ipykernel_launcher.py:119: RuntimeWarning: divide by zero encountered in double_scalars\n",
      "/anaconda3/lib/python3.6/site-packages/feets/extractors/ext_max_slope.py:91: RuntimeWarning: divide by zero encountered in true_divide\n",
      "  slope = np.abs(magnitude[1:] - magnitude[:-1]) / (time[1:] - time[:-1])\n"
     ]
    },
    {
     "name": "stdout",
     "output_type": "stream",
     "text": [
      "['Autocor_length' 'Beyond1Std' 'CAR_mean' 'CAR_sigma' 'CAR_tau' 'Con'\n",
      " 'LinearTrend' 'MaxSlope' 'Mean' 'Meanvariance' 'MedianAbsDev' 'MedianBRP'\n",
      " 'PairSlopeTrend' 'PercentAmplitude' 'Q31' 'Rcs' 'Skew' 'SlottedA_length'\n",
      " 'SmallKurtosis' 'Std' 'StetsonK_AC']\n"
     ]
    },
    {
     "name": "stderr",
     "output_type": "stream",
     "text": [
      "/anaconda3/lib/python3.6/site-packages/numpy/core/fromnumeric.py:3118: RuntimeWarning: Mean of empty slice.\n",
      "  out=out, **kwargs)\n",
      "/anaconda3/lib/python3.6/site-packages/numpy/core/_methods.py:85: RuntimeWarning: invalid value encountered in double_scalars\n",
      "  ret = ret.dtype.type(ret / rcount)\n",
      "/anaconda3/lib/python3.6/site-packages/numpy/core/_methods.py:140: RuntimeWarning: Degrees of freedom <= 0 for slice\n",
      "  keepdims=keepdims)\n",
      "/anaconda3/lib/python3.6/site-packages/numpy/core/_methods.py:110: RuntimeWarning: invalid value encountered in true_divide\n",
      "  arrmean, rcount, out=arrmean, casting='unsafe', subok=False)\n",
      "/anaconda3/lib/python3.6/site-packages/numpy/core/_methods.py:132: RuntimeWarning: invalid value encountered in double_scalars\n",
      "  ret = ret.dtype.type(ret / rcount)\n",
      "/anaconda3/lib/python3.6/site-packages/feets/extractors/ext_stetson.py:248: RuntimeWarning: divide by zero encountered in double_scalars\n",
      "  np.sum(np.abs(sigmap)) / np.sqrt(np.sum(sigmap ** 2)))\n",
      "/anaconda3/lib/python3.6/site-packages/feets/extractors/ext_stetson.py:248: RuntimeWarning: invalid value encountered in double_scalars\n",
      "  np.sum(np.abs(sigmap)) / np.sqrt(np.sum(sigmap ** 2)))\n"
     ]
    },
    {
     "name": "stdout",
     "output_type": "stream",
     "text": [
      "['Autocor_length' 'Beyond1Std' 'CAR_mean' 'CAR_sigma' 'CAR_tau' 'Con'\n",
      " 'LinearTrend' 'MaxSlope' 'Mean' 'Meanvariance' 'MedianAbsDev' 'MedianBRP'\n",
      " 'PairSlopeTrend' 'PercentAmplitude' 'Q31' 'Rcs' 'Skew' 'SlottedA_length'\n",
      " 'SmallKurtosis' 'Std' 'StetsonK_AC']\n"
     ]
    },
    {
     "name": "stderr",
     "output_type": "stream",
     "text": [
      "/anaconda3/lib/python3.6/site-packages/ipykernel_launcher.py:118: RuntimeWarning: divide by zero encountered in double_scalars\n",
      "/anaconda3/lib/python3.6/site-packages/ipykernel_launcher.py:119: RuntimeWarning: divide by zero encountered in double_scalars\n",
      "/anaconda3/lib/python3.6/site-packages/numpy/core/fromnumeric.py:3118: RuntimeWarning: Mean of empty slice.\n",
      "  out=out, **kwargs)\n",
      "/anaconda3/lib/python3.6/site-packages/numpy/core/_methods.py:85: RuntimeWarning: invalid value encountered in double_scalars\n",
      "  ret = ret.dtype.type(ret / rcount)\n",
      "/anaconda3/lib/python3.6/site-packages/numpy/core/_methods.py:140: RuntimeWarning: Degrees of freedom <= 0 for slice\n",
      "  keepdims=keepdims)\n",
      "/anaconda3/lib/python3.6/site-packages/numpy/core/_methods.py:110: RuntimeWarning: invalid value encountered in true_divide\n",
      "  arrmean, rcount, out=arrmean, casting='unsafe', subok=False)\n",
      "/anaconda3/lib/python3.6/site-packages/numpy/core/_methods.py:132: RuntimeWarning: invalid value encountered in double_scalars\n",
      "  ret = ret.dtype.type(ret / rcount)\n",
      "/anaconda3/lib/python3.6/site-packages/feets/extractors/ext_stetson.py:248: RuntimeWarning: divide by zero encountered in double_scalars\n",
      "  np.sum(np.abs(sigmap)) / np.sqrt(np.sum(sigmap ** 2)))\n",
      "/anaconda3/lib/python3.6/site-packages/feets/extractors/ext_stetson.py:248: RuntimeWarning: invalid value encountered in double_scalars\n",
      "  np.sum(np.abs(sigmap)) / np.sqrt(np.sum(sigmap ** 2)))\n",
      "/anaconda3/lib/python3.6/site-packages/statsmodels/tsa/stattools.py:572: FutureWarning: fft=True will become the default in a future version of statsmodels. To suppress this warning, explicitly set fft=False.\n",
      "  FutureWarning\n",
      "/anaconda3/lib/python3.6/site-packages/ipykernel_launcher.py:118: RuntimeWarning: divide by zero encountered in double_scalars\n",
      "/anaconda3/lib/python3.6/site-packages/ipykernel_launcher.py:119: RuntimeWarning: divide by zero encountered in double_scalars\n"
     ]
    },
    {
     "name": "stdout",
     "output_type": "stream",
     "text": [
      "['Autocor_length' 'Beyond1Std' 'CAR_mean' 'CAR_sigma' 'CAR_tau' 'Con'\n",
      " 'LinearTrend' 'MaxSlope' 'Mean' 'Meanvariance' 'MedianAbsDev' 'MedianBRP'\n",
      " 'PairSlopeTrend' 'PercentAmplitude' 'Q31' 'Rcs' 'Skew' 'SlottedA_length'\n",
      " 'SmallKurtosis' 'Std' 'StetsonK_AC']\n"
     ]
    },
    {
     "name": "stderr",
     "output_type": "stream",
     "text": [
      "/anaconda3/lib/python3.6/site-packages/statsmodels/tsa/stattools.py:572: FutureWarning: fft=True will become the default in a future version of statsmodels. To suppress this warning, explicitly set fft=False.\n",
      "  FutureWarning\n",
      "/anaconda3/lib/python3.6/site-packages/ipykernel_launcher.py:118: RuntimeWarning: divide by zero encountered in double_scalars\n",
      "/anaconda3/lib/python3.6/site-packages/ipykernel_launcher.py:119: RuntimeWarning: divide by zero encountered in double_scalars\n"
     ]
    },
    {
     "name": "stdout",
     "output_type": "stream",
     "text": [
      "['Autocor_length' 'Beyond1Std' 'CAR_mean' 'CAR_sigma' 'CAR_tau' 'Con'\n",
      " 'LinearTrend' 'MaxSlope' 'Mean' 'Meanvariance' 'MedianAbsDev' 'MedianBRP'\n",
      " 'PairSlopeTrend' 'PercentAmplitude' 'Q31' 'Rcs' 'Skew' 'SlottedA_length'\n",
      " 'SmallKurtosis' 'Std' 'StetsonK_AC']\n"
     ]
    },
    {
     "name": "stderr",
     "output_type": "stream",
     "text": [
      "/anaconda3/lib/python3.6/site-packages/numpy/core/fromnumeric.py:3118: RuntimeWarning: Mean of empty slice.\n",
      "  out=out, **kwargs)\n",
      "/anaconda3/lib/python3.6/site-packages/numpy/core/_methods.py:85: RuntimeWarning: invalid value encountered in double_scalars\n",
      "  ret = ret.dtype.type(ret / rcount)\n",
      "/anaconda3/lib/python3.6/site-packages/numpy/core/_methods.py:140: RuntimeWarning: Degrees of freedom <= 0 for slice\n",
      "  keepdims=keepdims)\n",
      "/anaconda3/lib/python3.6/site-packages/numpy/core/_methods.py:110: RuntimeWarning: invalid value encountered in true_divide\n",
      "  arrmean, rcount, out=arrmean, casting='unsafe', subok=False)\n",
      "/anaconda3/lib/python3.6/site-packages/numpy/core/_methods.py:132: RuntimeWarning: invalid value encountered in double_scalars\n",
      "  ret = ret.dtype.type(ret / rcount)\n",
      "/anaconda3/lib/python3.6/site-packages/feets/extractors/ext_stetson.py:248: RuntimeWarning: divide by zero encountered in double_scalars\n",
      "  np.sum(np.abs(sigmap)) / np.sqrt(np.sum(sigmap ** 2)))\n",
      "/anaconda3/lib/python3.6/site-packages/feets/extractors/ext_stetson.py:248: RuntimeWarning: invalid value encountered in double_scalars\n",
      "  np.sum(np.abs(sigmap)) / np.sqrt(np.sum(sigmap ** 2)))\n",
      "/anaconda3/lib/python3.6/site-packages/statsmodels/tsa/stattools.py:572: FutureWarning: fft=True will become the default in a future version of statsmodels. To suppress this warning, explicitly set fft=False.\n",
      "  FutureWarning\n",
      "/anaconda3/lib/python3.6/site-packages/ipykernel_launcher.py:118: RuntimeWarning: divide by zero encountered in double_scalars\n",
      "/anaconda3/lib/python3.6/site-packages/ipykernel_launcher.py:119: RuntimeWarning: divide by zero encountered in double_scalars\n"
     ]
    },
    {
     "name": "stdout",
     "output_type": "stream",
     "text": [
      "['Autocor_length' 'Beyond1Std' 'CAR_mean' 'CAR_sigma' 'CAR_tau' 'Con'\n",
      " 'LinearTrend' 'MaxSlope' 'Mean' 'Meanvariance' 'MedianAbsDev' 'MedianBRP'\n",
      " 'PairSlopeTrend' 'PercentAmplitude' 'Q31' 'Rcs' 'Skew' 'SlottedA_length'\n",
      " 'SmallKurtosis' 'Std' 'StetsonK_AC']\n"
     ]
    },
    {
     "name": "stderr",
     "output_type": "stream",
     "text": [
      "/anaconda3/lib/python3.6/site-packages/statsmodels/tsa/stattools.py:572: FutureWarning: fft=True will become the default in a future version of statsmodels. To suppress this warning, explicitly set fft=False.\n",
      "  FutureWarning\n"
     ]
    },
    {
     "name": "stdout",
     "output_type": "stream",
     "text": [
      "['Autocor_length' 'Beyond1Std' 'CAR_mean' 'CAR_sigma' 'CAR_tau' 'Con'\n",
      " 'LinearTrend' 'MaxSlope' 'Mean' 'Meanvariance' 'MedianAbsDev' 'MedianBRP'\n",
      " 'PairSlopeTrend' 'PercentAmplitude' 'Q31' 'Rcs' 'Skew' 'SlottedA_length'\n",
      " 'SmallKurtosis' 'Std' 'StetsonK_AC']\n"
     ]
    },
    {
     "name": "stderr",
     "output_type": "stream",
     "text": [
      "/anaconda3/lib/python3.6/site-packages/ipykernel_launcher.py:118: RuntimeWarning: divide by zero encountered in double_scalars\n",
      "/anaconda3/lib/python3.6/site-packages/ipykernel_launcher.py:119: RuntimeWarning: divide by zero encountered in double_scalars\n",
      "/anaconda3/lib/python3.6/site-packages/feets/extractors/ext_max_slope.py:91: RuntimeWarning: divide by zero encountered in true_divide\n",
      "  slope = np.abs(magnitude[1:] - magnitude[:-1]) / (time[1:] - time[:-1])\n",
      "/anaconda3/lib/python3.6/site-packages/statsmodels/tsa/stattools.py:572: FutureWarning: fft=True will become the default in a future version of statsmodels. To suppress this warning, explicitly set fft=False.\n",
      "  FutureWarning\n",
      "/anaconda3/lib/python3.6/site-packages/ipykernel_launcher.py:118: RuntimeWarning: divide by zero encountered in double_scalars\n",
      "/anaconda3/lib/python3.6/site-packages/ipykernel_launcher.py:119: RuntimeWarning: divide by zero encountered in double_scalars\n",
      "/anaconda3/lib/python3.6/site-packages/numpy/core/fromnumeric.py:3118: RuntimeWarning: Mean of empty slice.\n",
      "  out=out, **kwargs)\n",
      "/anaconda3/lib/python3.6/site-packages/numpy/core/_methods.py:85: RuntimeWarning: invalid value encountered in double_scalars\n",
      "  ret = ret.dtype.type(ret / rcount)\n",
      "/anaconda3/lib/python3.6/site-packages/numpy/core/_methods.py:140: RuntimeWarning: Degrees of freedom <= 0 for slice\n",
      "  keepdims=keepdims)\n",
      "/anaconda3/lib/python3.6/site-packages/numpy/core/_methods.py:110: RuntimeWarning: invalid value encountered in true_divide\n",
      "  arrmean, rcount, out=arrmean, casting='unsafe', subok=False)\n",
      "/anaconda3/lib/python3.6/site-packages/numpy/core/_methods.py:132: RuntimeWarning: invalid value encountered in double_scalars\n",
      "  ret = ret.dtype.type(ret / rcount)\n",
      "/anaconda3/lib/python3.6/site-packages/feets/extractors/ext_stetson.py:248: RuntimeWarning: divide by zero encountered in double_scalars\n",
      "  np.sum(np.abs(sigmap)) / np.sqrt(np.sum(sigmap ** 2)))\n",
      "/anaconda3/lib/python3.6/site-packages/feets/extractors/ext_stetson.py:248: RuntimeWarning: invalid value encountered in double_scalars\n",
      "  np.sum(np.abs(sigmap)) / np.sqrt(np.sum(sigmap ** 2)))\n"
     ]
    },
    {
     "name": "stdout",
     "output_type": "stream",
     "text": [
      "['Autocor_length' 'Beyond1Std' 'CAR_mean' 'CAR_sigma' 'CAR_tau' 'Con'\n",
      " 'LinearTrend' 'MaxSlope' 'Mean' 'Meanvariance' 'MedianAbsDev' 'MedianBRP'\n",
      " 'PairSlopeTrend' 'PercentAmplitude' 'Q31' 'Rcs' 'Skew' 'SlottedA_length'\n",
      " 'SmallKurtosis' 'Std' 'StetsonK_AC']\n"
     ]
    },
    {
     "name": "stderr",
     "output_type": "stream",
     "text": [
      "/anaconda3/lib/python3.6/site-packages/feets/extractors/ext_max_slope.py:91: RuntimeWarning: divide by zero encountered in true_divide\n",
      "  slope = np.abs(magnitude[1:] - magnitude[:-1]) / (time[1:] - time[:-1])\n",
      "/anaconda3/lib/python3.6/site-packages/statsmodels/tsa/stattools.py:572: FutureWarning: fft=True will become the default in a future version of statsmodels. To suppress this warning, explicitly set fft=False.\n",
      "  FutureWarning\n",
      "/anaconda3/lib/python3.6/site-packages/ipykernel_launcher.py:118: RuntimeWarning: divide by zero encountered in double_scalars\n",
      "/anaconda3/lib/python3.6/site-packages/ipykernel_launcher.py:119: RuntimeWarning: divide by zero encountered in double_scalars\n"
     ]
    },
    {
     "name": "stdout",
     "output_type": "stream",
     "text": [
      "['Autocor_length' 'Beyond1Std' 'CAR_mean' 'CAR_sigma' 'CAR_tau' 'Con'\n",
      " 'LinearTrend' 'MaxSlope' 'Mean' 'Meanvariance' 'MedianAbsDev' 'MedianBRP'\n",
      " 'PairSlopeTrend' 'PercentAmplitude' 'Q31' 'Rcs' 'Skew' 'SlottedA_length'\n",
      " 'SmallKurtosis' 'Std' 'StetsonK_AC']\n",
      "['Autocor_length' 'Beyond1Std' 'CAR_mean' 'CAR_sigma' 'CAR_tau' 'Con'\n",
      " 'LinearTrend' 'MaxSlope' 'Mean' 'Meanvariance' 'MedianAbsDev' 'MedianBRP'\n",
      " 'PairSlopeTrend' 'PercentAmplitude' 'Q31' 'Rcs' 'Skew' 'SlottedA_length'\n",
      " 'SmallKurtosis' 'Std' 'StetsonK_AC']\n"
     ]
    },
    {
     "name": "stderr",
     "output_type": "stream",
     "text": [
      "/anaconda3/lib/python3.6/site-packages/ipykernel_launcher.py:118: RuntimeWarning: divide by zero encountered in double_scalars\n",
      "/anaconda3/lib/python3.6/site-packages/ipykernel_launcher.py:119: RuntimeWarning: divide by zero encountered in double_scalars\n",
      "/anaconda3/lib/python3.6/site-packages/feets/extractors/ext_max_slope.py:91: RuntimeWarning: divide by zero encountered in true_divide\n",
      "  slope = np.abs(magnitude[1:] - magnitude[:-1]) / (time[1:] - time[:-1])\n",
      "/anaconda3/lib/python3.6/site-packages/statsmodels/tsa/stattools.py:572: FutureWarning: fft=True will become the default in a future version of statsmodels. To suppress this warning, explicitly set fft=False.\n",
      "  FutureWarning\n",
      "/anaconda3/lib/python3.6/site-packages/numpy/core/fromnumeric.py:3118: RuntimeWarning: Mean of empty slice.\n",
      "  out=out, **kwargs)\n",
      "/anaconda3/lib/python3.6/site-packages/numpy/core/_methods.py:85: RuntimeWarning: invalid value encountered in double_scalars\n",
      "  ret = ret.dtype.type(ret / rcount)\n",
      "/anaconda3/lib/python3.6/site-packages/numpy/core/_methods.py:140: RuntimeWarning: Degrees of freedom <= 0 for slice\n",
      "  keepdims=keepdims)\n",
      "/anaconda3/lib/python3.6/site-packages/numpy/core/_methods.py:110: RuntimeWarning: invalid value encountered in true_divide\n",
      "  arrmean, rcount, out=arrmean, casting='unsafe', subok=False)\n",
      "/anaconda3/lib/python3.6/site-packages/numpy/core/_methods.py:132: RuntimeWarning: invalid value encountered in double_scalars\n",
      "  ret = ret.dtype.type(ret / rcount)\n",
      "/anaconda3/lib/python3.6/site-packages/feets/extractors/ext_stetson.py:248: RuntimeWarning: divide by zero encountered in double_scalars\n",
      "  np.sum(np.abs(sigmap)) / np.sqrt(np.sum(sigmap ** 2)))\n",
      "/anaconda3/lib/python3.6/site-packages/feets/extractors/ext_stetson.py:248: RuntimeWarning: invalid value encountered in double_scalars\n",
      "  np.sum(np.abs(sigmap)) / np.sqrt(np.sum(sigmap ** 2)))\n",
      "/anaconda3/lib/python3.6/site-packages/ipykernel_launcher.py:118: RuntimeWarning: divide by zero encountered in double_scalars\n",
      "/anaconda3/lib/python3.6/site-packages/ipykernel_launcher.py:119: RuntimeWarning: divide by zero encountered in double_scalars\n"
     ]
    },
    {
     "name": "stdout",
     "output_type": "stream",
     "text": [
      "['Autocor_length' 'Beyond1Std' 'CAR_mean' 'CAR_sigma' 'CAR_tau' 'Con'\n",
      " 'LinearTrend' 'MaxSlope' 'Mean' 'Meanvariance' 'MedianAbsDev' 'MedianBRP'\n",
      " 'PairSlopeTrend' 'PercentAmplitude' 'Q31' 'Rcs' 'Skew' 'SlottedA_length'\n",
      " 'SmallKurtosis' 'Std' 'StetsonK_AC']\n",
      "['Autocor_length' 'Beyond1Std' 'CAR_mean' 'CAR_sigma' 'CAR_tau' 'Con'\n",
      " 'LinearTrend' 'MaxSlope' 'Mean' 'Meanvariance' 'MedianAbsDev' 'MedianBRP'\n",
      " 'PairSlopeTrend' 'PercentAmplitude' 'Q31' 'Rcs' 'Skew' 'SlottedA_length'\n",
      " 'SmallKurtosis' 'Std' 'StetsonK_AC']\n"
     ]
    },
    {
     "name": "stderr",
     "output_type": "stream",
     "text": [
      "/anaconda3/lib/python3.6/site-packages/ipykernel_launcher.py:118: RuntimeWarning: divide by zero encountered in double_scalars\n",
      "/anaconda3/lib/python3.6/site-packages/ipykernel_launcher.py:119: RuntimeWarning: divide by zero encountered in double_scalars\n",
      "/anaconda3/lib/python3.6/site-packages/feets/extractors/ext_max_slope.py:91: RuntimeWarning: divide by zero encountered in true_divide\n",
      "  slope = np.abs(magnitude[1:] - magnitude[:-1]) / (time[1:] - time[:-1])\n",
      "/anaconda3/lib/python3.6/site-packages/statsmodels/tsa/stattools.py:572: FutureWarning: fft=True will become the default in a future version of statsmodels. To suppress this warning, explicitly set fft=False.\n",
      "  FutureWarning\n",
      "/anaconda3/lib/python3.6/site-packages/numpy/core/fromnumeric.py:3118: RuntimeWarning: Mean of empty slice.\n",
      "  out=out, **kwargs)\n",
      "/anaconda3/lib/python3.6/site-packages/numpy/core/_methods.py:85: RuntimeWarning: invalid value encountered in double_scalars\n",
      "  ret = ret.dtype.type(ret / rcount)\n",
      "/anaconda3/lib/python3.6/site-packages/numpy/core/_methods.py:140: RuntimeWarning: Degrees of freedom <= 0 for slice\n",
      "  keepdims=keepdims)\n",
      "/anaconda3/lib/python3.6/site-packages/numpy/core/_methods.py:110: RuntimeWarning: invalid value encountered in true_divide\n",
      "  arrmean, rcount, out=arrmean, casting='unsafe', subok=False)\n",
      "/anaconda3/lib/python3.6/site-packages/numpy/core/_methods.py:132: RuntimeWarning: invalid value encountered in double_scalars\n",
      "  ret = ret.dtype.type(ret / rcount)\n",
      "/anaconda3/lib/python3.6/site-packages/feets/extractors/ext_stetson.py:248: RuntimeWarning: divide by zero encountered in double_scalars\n",
      "  np.sum(np.abs(sigmap)) / np.sqrt(np.sum(sigmap ** 2)))\n",
      "/anaconda3/lib/python3.6/site-packages/feets/extractors/ext_stetson.py:248: RuntimeWarning: invalid value encountered in double_scalars\n",
      "  np.sum(np.abs(sigmap)) / np.sqrt(np.sum(sigmap ** 2)))\n",
      "/anaconda3/lib/python3.6/site-packages/ipykernel_launcher.py:118: RuntimeWarning: divide by zero encountered in double_scalars\n",
      "/anaconda3/lib/python3.6/site-packages/ipykernel_launcher.py:119: RuntimeWarning: divide by zero encountered in double_scalars\n"
     ]
    },
    {
     "name": "stdout",
     "output_type": "stream",
     "text": [
      "['Autocor_length' 'Beyond1Std' 'CAR_mean' 'CAR_sigma' 'CAR_tau' 'Con'\n",
      " 'LinearTrend' 'MaxSlope' 'Mean' 'Meanvariance' 'MedianAbsDev' 'MedianBRP'\n",
      " 'PairSlopeTrend' 'PercentAmplitude' 'Q31' 'Rcs' 'Skew' 'SlottedA_length'\n",
      " 'SmallKurtosis' 'Std' 'StetsonK_AC']\n"
     ]
    },
    {
     "name": "stderr",
     "output_type": "stream",
     "text": [
      "/anaconda3/lib/python3.6/site-packages/statsmodels/tsa/stattools.py:572: FutureWarning: fft=True will become the default in a future version of statsmodels. To suppress this warning, explicitly set fft=False.\n",
      "  FutureWarning\n",
      "/anaconda3/lib/python3.6/site-packages/numpy/core/fromnumeric.py:3118: RuntimeWarning: Mean of empty slice.\n",
      "  out=out, **kwargs)\n",
      "/anaconda3/lib/python3.6/site-packages/numpy/core/_methods.py:85: RuntimeWarning: invalid value encountered in double_scalars\n",
      "  ret = ret.dtype.type(ret / rcount)\n",
      "/anaconda3/lib/python3.6/site-packages/numpy/core/_methods.py:140: RuntimeWarning: Degrees of freedom <= 0 for slice\n",
      "  keepdims=keepdims)\n",
      "/anaconda3/lib/python3.6/site-packages/numpy/core/_methods.py:110: RuntimeWarning: invalid value encountered in true_divide\n",
      "  arrmean, rcount, out=arrmean, casting='unsafe', subok=False)\n",
      "/anaconda3/lib/python3.6/site-packages/numpy/core/_methods.py:132: RuntimeWarning: invalid value encountered in double_scalars\n",
      "  ret = ret.dtype.type(ret / rcount)\n",
      "/anaconda3/lib/python3.6/site-packages/feets/extractors/ext_stetson.py:248: RuntimeWarning: divide by zero encountered in double_scalars\n",
      "  np.sum(np.abs(sigmap)) / np.sqrt(np.sum(sigmap ** 2)))\n",
      "/anaconda3/lib/python3.6/site-packages/feets/extractors/ext_stetson.py:248: RuntimeWarning: invalid value encountered in double_scalars\n",
      "  np.sum(np.abs(sigmap)) / np.sqrt(np.sum(sigmap ** 2)))\n",
      "/anaconda3/lib/python3.6/site-packages/feets/extractors/ext_max_slope.py:91: RuntimeWarning: divide by zero encountered in true_divide\n",
      "  slope = np.abs(magnitude[1:] - magnitude[:-1]) / (time[1:] - time[:-1])\n",
      "/anaconda3/lib/python3.6/site-packages/ipykernel_launcher.py:118: RuntimeWarning: divide by zero encountered in double_scalars\n",
      "/anaconda3/lib/python3.6/site-packages/ipykernel_launcher.py:119: RuntimeWarning: divide by zero encountered in double_scalars\n"
     ]
    },
    {
     "name": "stdout",
     "output_type": "stream",
     "text": [
      "['Autocor_length' 'Beyond1Std' 'CAR_mean' 'CAR_sigma' 'CAR_tau' 'Con'\n",
      " 'LinearTrend' 'MaxSlope' 'Mean' 'Meanvariance' 'MedianAbsDev' 'MedianBRP'\n",
      " 'PairSlopeTrend' 'PercentAmplitude' 'Q31' 'Rcs' 'Skew' 'SlottedA_length'\n",
      " 'SmallKurtosis' 'Std' 'StetsonK_AC']\n"
     ]
    },
    {
     "name": "stderr",
     "output_type": "stream",
     "text": [
      "/anaconda3/lib/python3.6/site-packages/feets/extractors/ext_max_slope.py:91: RuntimeWarning: divide by zero encountered in true_divide\n",
      "  slope = np.abs(magnitude[1:] - magnitude[:-1]) / (time[1:] - time[:-1])\n",
      "/anaconda3/lib/python3.6/site-packages/statsmodels/tsa/stattools.py:572: FutureWarning: fft=True will become the default in a future version of statsmodels. To suppress this warning, explicitly set fft=False.\n",
      "  FutureWarning\n",
      "/anaconda3/lib/python3.6/site-packages/numpy/core/fromnumeric.py:3118: RuntimeWarning: Mean of empty slice.\n",
      "  out=out, **kwargs)\n",
      "/anaconda3/lib/python3.6/site-packages/numpy/core/_methods.py:85: RuntimeWarning: invalid value encountered in double_scalars\n",
      "  ret = ret.dtype.type(ret / rcount)\n",
      "/anaconda3/lib/python3.6/site-packages/numpy/core/_methods.py:140: RuntimeWarning: Degrees of freedom <= 0 for slice\n",
      "  keepdims=keepdims)\n",
      "/anaconda3/lib/python3.6/site-packages/numpy/core/_methods.py:110: RuntimeWarning: invalid value encountered in true_divide\n",
      "  arrmean, rcount, out=arrmean, casting='unsafe', subok=False)\n",
      "/anaconda3/lib/python3.6/site-packages/numpy/core/_methods.py:132: RuntimeWarning: invalid value encountered in double_scalars\n",
      "  ret = ret.dtype.type(ret / rcount)\n",
      "/anaconda3/lib/python3.6/site-packages/feets/extractors/ext_stetson.py:248: RuntimeWarning: divide by zero encountered in double_scalars\n",
      "  np.sum(np.abs(sigmap)) / np.sqrt(np.sum(sigmap ** 2)))\n",
      "/anaconda3/lib/python3.6/site-packages/feets/extractors/ext_stetson.py:248: RuntimeWarning: invalid value encountered in double_scalars\n",
      "  np.sum(np.abs(sigmap)) / np.sqrt(np.sum(sigmap ** 2)))\n",
      "/anaconda3/lib/python3.6/site-packages/ipykernel_launcher.py:118: RuntimeWarning: divide by zero encountered in double_scalars\n",
      "/anaconda3/lib/python3.6/site-packages/ipykernel_launcher.py:119: RuntimeWarning: divide by zero encountered in double_scalars\n"
     ]
    },
    {
     "name": "stdout",
     "output_type": "stream",
     "text": [
      "['Autocor_length' 'Beyond1Std' 'CAR_mean' 'CAR_sigma' 'CAR_tau' 'Con'\n",
      " 'LinearTrend' 'MaxSlope' 'Mean' 'Meanvariance' 'MedianAbsDev' 'MedianBRP'\n",
      " 'PairSlopeTrend' 'PercentAmplitude' 'Q31' 'Rcs' 'Skew' 'SlottedA_length'\n",
      " 'SmallKurtosis' 'Std' 'StetsonK_AC']\n"
     ]
    },
    {
     "name": "stderr",
     "output_type": "stream",
     "text": [
      "/anaconda3/lib/python3.6/site-packages/statsmodels/tsa/stattools.py:572: FutureWarning: fft=True will become the default in a future version of statsmodels. To suppress this warning, explicitly set fft=False.\n",
      "  FutureWarning\n",
      "/anaconda3/lib/python3.6/site-packages/ipykernel_launcher.py:118: RuntimeWarning: divide by zero encountered in double_scalars\n",
      "/anaconda3/lib/python3.6/site-packages/ipykernel_launcher.py:119: RuntimeWarning: divide by zero encountered in double_scalars\n"
     ]
    },
    {
     "name": "stdout",
     "output_type": "stream",
     "text": [
      "['Autocor_length' 'Beyond1Std' 'CAR_mean' 'CAR_sigma' 'CAR_tau' 'Con'\n",
      " 'LinearTrend' 'MaxSlope' 'Mean' 'Meanvariance' 'MedianAbsDev' 'MedianBRP'\n",
      " 'PairSlopeTrend' 'PercentAmplitude' 'Q31' 'Rcs' 'Skew' 'SlottedA_length'\n",
      " 'SmallKurtosis' 'Std' 'StetsonK_AC']\n"
     ]
    },
    {
     "name": "stderr",
     "output_type": "stream",
     "text": [
      "/anaconda3/lib/python3.6/site-packages/numpy/core/fromnumeric.py:3118: RuntimeWarning: Mean of empty slice.\n",
      "  out=out, **kwargs)\n",
      "/anaconda3/lib/python3.6/site-packages/numpy/core/_methods.py:85: RuntimeWarning: invalid value encountered in double_scalars\n",
      "  ret = ret.dtype.type(ret / rcount)\n",
      "/anaconda3/lib/python3.6/site-packages/numpy/core/_methods.py:140: RuntimeWarning: Degrees of freedom <= 0 for slice\n",
      "  keepdims=keepdims)\n",
      "/anaconda3/lib/python3.6/site-packages/numpy/core/_methods.py:110: RuntimeWarning: invalid value encountered in true_divide\n",
      "  arrmean, rcount, out=arrmean, casting='unsafe', subok=False)\n",
      "/anaconda3/lib/python3.6/site-packages/numpy/core/_methods.py:132: RuntimeWarning: invalid value encountered in double_scalars\n",
      "  ret = ret.dtype.type(ret / rcount)\n",
      "/anaconda3/lib/python3.6/site-packages/feets/extractors/ext_stetson.py:248: RuntimeWarning: divide by zero encountered in double_scalars\n",
      "  np.sum(np.abs(sigmap)) / np.sqrt(np.sum(sigmap ** 2)))\n",
      "/anaconda3/lib/python3.6/site-packages/feets/extractors/ext_stetson.py:248: RuntimeWarning: invalid value encountered in double_scalars\n",
      "  np.sum(np.abs(sigmap)) / np.sqrt(np.sum(sigmap ** 2)))\n",
      "/anaconda3/lib/python3.6/site-packages/feets/extractors/ext_max_slope.py:91: RuntimeWarning: divide by zero encountered in true_divide\n",
      "  slope = np.abs(magnitude[1:] - magnitude[:-1]) / (time[1:] - time[:-1])\n",
      "/anaconda3/lib/python3.6/site-packages/statsmodels/tsa/stattools.py:572: FutureWarning: fft=True will become the default in a future version of statsmodels. To suppress this warning, explicitly set fft=False.\n",
      "  FutureWarning\n",
      "/anaconda3/lib/python3.6/site-packages/ipykernel_launcher.py:118: RuntimeWarning: divide by zero encountered in double_scalars\n",
      "/anaconda3/lib/python3.6/site-packages/ipykernel_launcher.py:119: RuntimeWarning: divide by zero encountered in double_scalars\n"
     ]
    },
    {
     "name": "stdout",
     "output_type": "stream",
     "text": [
      "['Autocor_length' 'Beyond1Std' 'CAR_mean' 'CAR_sigma' 'CAR_tau' 'Con'\n",
      " 'LinearTrend' 'MaxSlope' 'Mean' 'Meanvariance' 'MedianAbsDev' 'MedianBRP'\n",
      " 'PairSlopeTrend' 'PercentAmplitude' 'Q31' 'Rcs' 'Skew' 'SlottedA_length'\n",
      " 'SmallKurtosis' 'Std' 'StetsonK_AC']\n"
     ]
    },
    {
     "name": "stderr",
     "output_type": "stream",
     "text": [
      "/anaconda3/lib/python3.6/site-packages/statsmodels/tsa/stattools.py:572: FutureWarning: fft=True will become the default in a future version of statsmodels. To suppress this warning, explicitly set fft=False.\n",
      "  FutureWarning\n",
      "/anaconda3/lib/python3.6/site-packages/numpy/core/fromnumeric.py:3118: RuntimeWarning: Mean of empty slice.\n",
      "  out=out, **kwargs)\n",
      "/anaconda3/lib/python3.6/site-packages/numpy/core/_methods.py:85: RuntimeWarning: invalid value encountered in double_scalars\n",
      "  ret = ret.dtype.type(ret / rcount)\n",
      "/anaconda3/lib/python3.6/site-packages/numpy/core/_methods.py:140: RuntimeWarning: Degrees of freedom <= 0 for slice\n",
      "  keepdims=keepdims)\n",
      "/anaconda3/lib/python3.6/site-packages/numpy/core/_methods.py:110: RuntimeWarning: invalid value encountered in true_divide\n",
      "  arrmean, rcount, out=arrmean, casting='unsafe', subok=False)\n",
      "/anaconda3/lib/python3.6/site-packages/numpy/core/_methods.py:132: RuntimeWarning: invalid value encountered in double_scalars\n",
      "  ret = ret.dtype.type(ret / rcount)\n",
      "/anaconda3/lib/python3.6/site-packages/feets/extractors/ext_stetson.py:248: RuntimeWarning: divide by zero encountered in double_scalars\n",
      "  np.sum(np.abs(sigmap)) / np.sqrt(np.sum(sigmap ** 2)))\n",
      "/anaconda3/lib/python3.6/site-packages/feets/extractors/ext_stetson.py:248: RuntimeWarning: invalid value encountered in double_scalars\n",
      "  np.sum(np.abs(sigmap)) / np.sqrt(np.sum(sigmap ** 2)))\n",
      "/anaconda3/lib/python3.6/site-packages/ipykernel_launcher.py:118: RuntimeWarning: divide by zero encountered in double_scalars\n",
      "/anaconda3/lib/python3.6/site-packages/ipykernel_launcher.py:119: RuntimeWarning: divide by zero encountered in double_scalars\n"
     ]
    },
    {
     "name": "stdout",
     "output_type": "stream",
     "text": [
      "['Autocor_length' 'Beyond1Std' 'CAR_mean' 'CAR_sigma' 'CAR_tau' 'Con'\n",
      " 'LinearTrend' 'MaxSlope' 'Mean' 'Meanvariance' 'MedianAbsDev' 'MedianBRP'\n",
      " 'PairSlopeTrend' 'PercentAmplitude' 'Q31' 'Rcs' 'Skew' 'SlottedA_length'\n",
      " 'SmallKurtosis' 'Std' 'StetsonK_AC']\n"
     ]
    },
    {
     "name": "stderr",
     "output_type": "stream",
     "text": [
      "/anaconda3/lib/python3.6/site-packages/statsmodels/tsa/stattools.py:572: FutureWarning: fft=True will become the default in a future version of statsmodels. To suppress this warning, explicitly set fft=False.\n",
      "  FutureWarning\n",
      "/anaconda3/lib/python3.6/site-packages/ipykernel_launcher.py:118: RuntimeWarning: divide by zero encountered in double_scalars\n",
      "/anaconda3/lib/python3.6/site-packages/ipykernel_launcher.py:119: RuntimeWarning: divide by zero encountered in double_scalars\n"
     ]
    },
    {
     "name": "stdout",
     "output_type": "stream",
     "text": [
      "['Autocor_length' 'Beyond1Std' 'CAR_mean' 'CAR_sigma' 'CAR_tau' 'Con'\n",
      " 'LinearTrend' 'MaxSlope' 'Mean' 'Meanvariance' 'MedianAbsDev' 'MedianBRP'\n",
      " 'PairSlopeTrend' 'PercentAmplitude' 'Q31' 'Rcs' 'Skew' 'SlottedA_length'\n",
      " 'SmallKurtosis' 'Std' 'StetsonK_AC']\n"
     ]
    },
    {
     "name": "stderr",
     "output_type": "stream",
     "text": [
      "/anaconda3/lib/python3.6/site-packages/statsmodels/tsa/stattools.py:572: FutureWarning: fft=True will become the default in a future version of statsmodels. To suppress this warning, explicitly set fft=False.\n",
      "  FutureWarning\n",
      "/anaconda3/lib/python3.6/site-packages/ipykernel_launcher.py:118: RuntimeWarning: divide by zero encountered in double_scalars\n",
      "/anaconda3/lib/python3.6/site-packages/ipykernel_launcher.py:119: RuntimeWarning: divide by zero encountered in double_scalars\n"
     ]
    },
    {
     "name": "stdout",
     "output_type": "stream",
     "text": [
      "['Autocor_length' 'Beyond1Std' 'CAR_mean' 'CAR_sigma' 'CAR_tau' 'Con'\n",
      " 'LinearTrend' 'MaxSlope' 'Mean' 'Meanvariance' 'MedianAbsDev' 'MedianBRP'\n",
      " 'PairSlopeTrend' 'PercentAmplitude' 'Q31' 'Rcs' 'Skew' 'SlottedA_length'\n",
      " 'SmallKurtosis' 'Std' 'StetsonK_AC']\n"
     ]
    },
    {
     "name": "stderr",
     "output_type": "stream",
     "text": [
      "/anaconda3/lib/python3.6/site-packages/numpy/core/fromnumeric.py:3118: RuntimeWarning: Mean of empty slice.\n",
      "  out=out, **kwargs)\n",
      "/anaconda3/lib/python3.6/site-packages/numpy/core/_methods.py:85: RuntimeWarning: invalid value encountered in double_scalars\n",
      "  ret = ret.dtype.type(ret / rcount)\n",
      "/anaconda3/lib/python3.6/site-packages/numpy/core/_methods.py:140: RuntimeWarning: Degrees of freedom <= 0 for slice\n",
      "  keepdims=keepdims)\n",
      "/anaconda3/lib/python3.6/site-packages/numpy/core/_methods.py:110: RuntimeWarning: invalid value encountered in true_divide\n",
      "  arrmean, rcount, out=arrmean, casting='unsafe', subok=False)\n",
      "/anaconda3/lib/python3.6/site-packages/numpy/core/_methods.py:132: RuntimeWarning: invalid value encountered in double_scalars\n",
      "  ret = ret.dtype.type(ret / rcount)\n",
      "/anaconda3/lib/python3.6/site-packages/feets/extractors/ext_stetson.py:248: RuntimeWarning: divide by zero encountered in double_scalars\n",
      "  np.sum(np.abs(sigmap)) / np.sqrt(np.sum(sigmap ** 2)))\n",
      "/anaconda3/lib/python3.6/site-packages/feets/extractors/ext_stetson.py:248: RuntimeWarning: invalid value encountered in double_scalars\n",
      "  np.sum(np.abs(sigmap)) / np.sqrt(np.sum(sigmap ** 2)))\n",
      "/anaconda3/lib/python3.6/site-packages/feets/extractors/ext_max_slope.py:91: RuntimeWarning: divide by zero encountered in true_divide\n",
      "  slope = np.abs(magnitude[1:] - magnitude[:-1]) / (time[1:] - time[:-1])\n",
      "/anaconda3/lib/python3.6/site-packages/statsmodels/tsa/stattools.py:572: FutureWarning: fft=True will become the default in a future version of statsmodels. To suppress this warning, explicitly set fft=False.\n",
      "  FutureWarning\n",
      "/anaconda3/lib/python3.6/site-packages/ipykernel_launcher.py:118: RuntimeWarning: divide by zero encountered in double_scalars\n",
      "/anaconda3/lib/python3.6/site-packages/ipykernel_launcher.py:119: RuntimeWarning: divide by zero encountered in double_scalars\n"
     ]
    },
    {
     "name": "stdout",
     "output_type": "stream",
     "text": [
      "['Autocor_length' 'Beyond1Std' 'CAR_mean' 'CAR_sigma' 'CAR_tau' 'Con'\n",
      " 'LinearTrend' 'MaxSlope' 'Mean' 'Meanvariance' 'MedianAbsDev' 'MedianBRP'\n",
      " 'PairSlopeTrend' 'PercentAmplitude' 'Q31' 'Rcs' 'Skew' 'SlottedA_length'\n",
      " 'SmallKurtosis' 'Std' 'StetsonK_AC']\n"
     ]
    },
    {
     "name": "stderr",
     "output_type": "stream",
     "text": [
      "/anaconda3/lib/python3.6/site-packages/statsmodels/tsa/stattools.py:572: FutureWarning: fft=True will become the default in a future version of statsmodels. To suppress this warning, explicitly set fft=False.\n",
      "  FutureWarning\n",
      "/anaconda3/lib/python3.6/site-packages/numpy/core/fromnumeric.py:3118: RuntimeWarning: Mean of empty slice.\n",
      "  out=out, **kwargs)\n",
      "/anaconda3/lib/python3.6/site-packages/numpy/core/_methods.py:85: RuntimeWarning: invalid value encountered in double_scalars\n",
      "  ret = ret.dtype.type(ret / rcount)\n",
      "/anaconda3/lib/python3.6/site-packages/numpy/core/_methods.py:140: RuntimeWarning: Degrees of freedom <= 0 for slice\n",
      "  keepdims=keepdims)\n",
      "/anaconda3/lib/python3.6/site-packages/numpy/core/_methods.py:110: RuntimeWarning: invalid value encountered in true_divide\n",
      "  arrmean, rcount, out=arrmean, casting='unsafe', subok=False)\n",
      "/anaconda3/lib/python3.6/site-packages/numpy/core/_methods.py:132: RuntimeWarning: invalid value encountered in double_scalars\n",
      "  ret = ret.dtype.type(ret / rcount)\n",
      "/anaconda3/lib/python3.6/site-packages/feets/extractors/ext_stetson.py:248: RuntimeWarning: divide by zero encountered in double_scalars\n",
      "  np.sum(np.abs(sigmap)) / np.sqrt(np.sum(sigmap ** 2)))\n",
      "/anaconda3/lib/python3.6/site-packages/feets/extractors/ext_stetson.py:248: RuntimeWarning: invalid value encountered in double_scalars\n",
      "  np.sum(np.abs(sigmap)) / np.sqrt(np.sum(sigmap ** 2)))\n",
      "/anaconda3/lib/python3.6/site-packages/ipykernel_launcher.py:118: RuntimeWarning: divide by zero encountered in double_scalars\n",
      "/anaconda3/lib/python3.6/site-packages/ipykernel_launcher.py:119: RuntimeWarning: divide by zero encountered in double_scalars\n"
     ]
    },
    {
     "name": "stdout",
     "output_type": "stream",
     "text": [
      "['Autocor_length' 'Beyond1Std' 'CAR_mean' 'CAR_sigma' 'CAR_tau' 'Con'\n",
      " 'LinearTrend' 'MaxSlope' 'Mean' 'Meanvariance' 'MedianAbsDev' 'MedianBRP'\n",
      " 'PairSlopeTrend' 'PercentAmplitude' 'Q31' 'Rcs' 'Skew' 'SlottedA_length'\n",
      " 'SmallKurtosis' 'Std' 'StetsonK_AC']\n"
     ]
    },
    {
     "name": "stderr",
     "output_type": "stream",
     "text": [
      "/anaconda3/lib/python3.6/site-packages/feets/extractors/ext_max_slope.py:91: RuntimeWarning: divide by zero encountered in true_divide\n",
      "  slope = np.abs(magnitude[1:] - magnitude[:-1]) / (time[1:] - time[:-1])\n",
      "/anaconda3/lib/python3.6/site-packages/statsmodels/tsa/stattools.py:572: FutureWarning: fft=True will become the default in a future version of statsmodels. To suppress this warning, explicitly set fft=False.\n",
      "  FutureWarning\n",
      "/anaconda3/lib/python3.6/site-packages/ipykernel_launcher.py:118: RuntimeWarning: divide by zero encountered in double_scalars\n",
      "/anaconda3/lib/python3.6/site-packages/ipykernel_launcher.py:119: RuntimeWarning: divide by zero encountered in double_scalars\n"
     ]
    },
    {
     "name": "stdout",
     "output_type": "stream",
     "text": [
      "['Autocor_length' 'Beyond1Std' 'CAR_mean' 'CAR_sigma' 'CAR_tau' 'Con'\n",
      " 'LinearTrend' 'MaxSlope' 'Mean' 'Meanvariance' 'MedianAbsDev' 'MedianBRP'\n",
      " 'PairSlopeTrend' 'PercentAmplitude' 'Q31' 'Rcs' 'Skew' 'SlottedA_length'\n",
      " 'SmallKurtosis' 'Std' 'StetsonK_AC']\n"
     ]
    },
    {
     "name": "stderr",
     "output_type": "stream",
     "text": [
      "/anaconda3/lib/python3.6/site-packages/statsmodels/tsa/stattools.py:572: FutureWarning: fft=True will become the default in a future version of statsmodels. To suppress this warning, explicitly set fft=False.\n",
      "  FutureWarning\n",
      "/anaconda3/lib/python3.6/site-packages/numpy/core/fromnumeric.py:3118: RuntimeWarning: Mean of empty slice.\n",
      "  out=out, **kwargs)\n",
      "/anaconda3/lib/python3.6/site-packages/numpy/core/_methods.py:85: RuntimeWarning: invalid value encountered in double_scalars\n",
      "  ret = ret.dtype.type(ret / rcount)\n",
      "/anaconda3/lib/python3.6/site-packages/numpy/core/_methods.py:140: RuntimeWarning: Degrees of freedom <= 0 for slice\n",
      "  keepdims=keepdims)\n",
      "/anaconda3/lib/python3.6/site-packages/numpy/core/_methods.py:110: RuntimeWarning: invalid value encountered in true_divide\n",
      "  arrmean, rcount, out=arrmean, casting='unsafe', subok=False)\n",
      "/anaconda3/lib/python3.6/site-packages/numpy/core/_methods.py:132: RuntimeWarning: invalid value encountered in double_scalars\n",
      "  ret = ret.dtype.type(ret / rcount)\n",
      "/anaconda3/lib/python3.6/site-packages/feets/extractors/ext_stetson.py:248: RuntimeWarning: divide by zero encountered in double_scalars\n",
      "  np.sum(np.abs(sigmap)) / np.sqrt(np.sum(sigmap ** 2)))\n",
      "/anaconda3/lib/python3.6/site-packages/feets/extractors/ext_stetson.py:248: RuntimeWarning: invalid value encountered in double_scalars\n",
      "  np.sum(np.abs(sigmap)) / np.sqrt(np.sum(sigmap ** 2)))\n",
      "/anaconda3/lib/python3.6/site-packages/ipykernel_launcher.py:118: RuntimeWarning: divide by zero encountered in double_scalars\n",
      "/anaconda3/lib/python3.6/site-packages/ipykernel_launcher.py:119: RuntimeWarning: divide by zero encountered in double_scalars\n"
     ]
    },
    {
     "name": "stdout",
     "output_type": "stream",
     "text": [
      "['Autocor_length' 'Beyond1Std' 'CAR_mean' 'CAR_sigma' 'CAR_tau' 'Con'\n",
      " 'LinearTrend' 'MaxSlope' 'Mean' 'Meanvariance' 'MedianAbsDev' 'MedianBRP'\n",
      " 'PairSlopeTrend' 'PercentAmplitude' 'Q31' 'Rcs' 'Skew' 'SlottedA_length'\n",
      " 'SmallKurtosis' 'Std' 'StetsonK_AC']\n",
      "['Autocor_length' 'Beyond1Std' 'CAR_mean' 'CAR_sigma' 'CAR_tau' 'Con'\n",
      " 'LinearTrend' 'MaxSlope' 'Mean' 'Meanvariance' 'MedianAbsDev' 'MedianBRP'\n",
      " 'PairSlopeTrend' 'PercentAmplitude' 'Q31' 'Rcs' 'Skew' 'SlottedA_length'\n",
      " 'SmallKurtosis' 'Std' 'StetsonK_AC']\n"
     ]
    },
    {
     "name": "stderr",
     "output_type": "stream",
     "text": [
      "/anaconda3/lib/python3.6/site-packages/ipykernel_launcher.py:118: RuntimeWarning: divide by zero encountered in double_scalars\n",
      "/anaconda3/lib/python3.6/site-packages/ipykernel_launcher.py:119: RuntimeWarning: divide by zero encountered in double_scalars\n",
      "/anaconda3/lib/python3.6/site-packages/feets/extractors/ext_max_slope.py:91: RuntimeWarning: divide by zero encountered in true_divide\n",
      "  slope = np.abs(magnitude[1:] - magnitude[:-1]) / (time[1:] - time[:-1])\n",
      "/anaconda3/lib/python3.6/site-packages/statsmodels/tsa/stattools.py:572: FutureWarning: fft=True will become the default in a future version of statsmodels. To suppress this warning, explicitly set fft=False.\n",
      "  FutureWarning\n"
     ]
    },
    {
     "name": "stdout",
     "output_type": "stream",
     "text": [
      "['Autocor_length' 'Beyond1Std' 'CAR_mean' 'CAR_sigma' 'CAR_tau' 'Con'\n",
      " 'LinearTrend' 'MaxSlope' 'Mean' 'Meanvariance' 'MedianAbsDev' 'MedianBRP'\n",
      " 'PairSlopeTrend' 'PercentAmplitude' 'Q31' 'Rcs' 'Skew' 'SlottedA_length'\n",
      " 'SmallKurtosis' 'Std' 'StetsonK_AC']\n"
     ]
    },
    {
     "name": "stderr",
     "output_type": "stream",
     "text": [
      "/anaconda3/lib/python3.6/site-packages/ipykernel_launcher.py:118: RuntimeWarning: divide by zero encountered in double_scalars\n",
      "/anaconda3/lib/python3.6/site-packages/ipykernel_launcher.py:119: RuntimeWarning: divide by zero encountered in double_scalars\n",
      "/anaconda3/lib/python3.6/site-packages/statsmodels/tsa/stattools.py:572: FutureWarning: fft=True will become the default in a future version of statsmodels. To suppress this warning, explicitly set fft=False.\n",
      "  FutureWarning\n",
      "/anaconda3/lib/python3.6/site-packages/numpy/core/fromnumeric.py:3118: RuntimeWarning: Mean of empty slice.\n",
      "  out=out, **kwargs)\n",
      "/anaconda3/lib/python3.6/site-packages/numpy/core/_methods.py:85: RuntimeWarning: invalid value encountered in double_scalars\n",
      "  ret = ret.dtype.type(ret / rcount)\n",
      "/anaconda3/lib/python3.6/site-packages/numpy/core/_methods.py:140: RuntimeWarning: Degrees of freedom <= 0 for slice\n",
      "  keepdims=keepdims)\n",
      "/anaconda3/lib/python3.6/site-packages/numpy/core/_methods.py:110: RuntimeWarning: invalid value encountered in true_divide\n",
      "  arrmean, rcount, out=arrmean, casting='unsafe', subok=False)\n",
      "/anaconda3/lib/python3.6/site-packages/numpy/core/_methods.py:132: RuntimeWarning: invalid value encountered in double_scalars\n",
      "  ret = ret.dtype.type(ret / rcount)\n",
      "/anaconda3/lib/python3.6/site-packages/feets/extractors/ext_stetson.py:248: RuntimeWarning: divide by zero encountered in double_scalars\n",
      "  np.sum(np.abs(sigmap)) / np.sqrt(np.sum(sigmap ** 2)))\n",
      "/anaconda3/lib/python3.6/site-packages/feets/extractors/ext_stetson.py:248: RuntimeWarning: invalid value encountered in double_scalars\n",
      "  np.sum(np.abs(sigmap)) / np.sqrt(np.sum(sigmap ** 2)))\n",
      "/anaconda3/lib/python3.6/site-packages/feets/extractors/ext_max_slope.py:91: RuntimeWarning: divide by zero encountered in true_divide\n",
      "  slope = np.abs(magnitude[1:] - magnitude[:-1]) / (time[1:] - time[:-1])\n"
     ]
    },
    {
     "name": "stdout",
     "output_type": "stream",
     "text": [
      "['Autocor_length' 'Beyond1Std' 'CAR_mean' 'CAR_sigma' 'CAR_tau' 'Con'\n",
      " 'LinearTrend' 'MaxSlope' 'Mean' 'Meanvariance' 'MedianAbsDev' 'MedianBRP'\n",
      " 'PairSlopeTrend' 'PercentAmplitude' 'Q31' 'Rcs' 'Skew' 'SlottedA_length'\n",
      " 'SmallKurtosis' 'Std' 'StetsonK_AC']\n"
     ]
    },
    {
     "name": "stderr",
     "output_type": "stream",
     "text": [
      "/anaconda3/lib/python3.6/site-packages/ipykernel_launcher.py:118: RuntimeWarning: divide by zero encountered in double_scalars\n",
      "/anaconda3/lib/python3.6/site-packages/ipykernel_launcher.py:119: RuntimeWarning: divide by zero encountered in double_scalars\n",
      "/anaconda3/lib/python3.6/site-packages/feets/extractors/ext_max_slope.py:91: RuntimeWarning: divide by zero encountered in true_divide\n",
      "  slope = np.abs(magnitude[1:] - magnitude[:-1]) / (time[1:] - time[:-1])\n",
      "/anaconda3/lib/python3.6/site-packages/statsmodels/tsa/stattools.py:572: FutureWarning: fft=True will become the default in a future version of statsmodels. To suppress this warning, explicitly set fft=False.\n",
      "  FutureWarning\n",
      "/anaconda3/lib/python3.6/site-packages/numpy/core/fromnumeric.py:3118: RuntimeWarning: Mean of empty slice.\n",
      "  out=out, **kwargs)\n",
      "/anaconda3/lib/python3.6/site-packages/numpy/core/_methods.py:85: RuntimeWarning: invalid value encountered in double_scalars\n",
      "  ret = ret.dtype.type(ret / rcount)\n",
      "/anaconda3/lib/python3.6/site-packages/numpy/core/_methods.py:140: RuntimeWarning: Degrees of freedom <= 0 for slice\n",
      "  keepdims=keepdims)\n",
      "/anaconda3/lib/python3.6/site-packages/numpy/core/_methods.py:110: RuntimeWarning: invalid value encountered in true_divide\n",
      "  arrmean, rcount, out=arrmean, casting='unsafe', subok=False)\n",
      "/anaconda3/lib/python3.6/site-packages/numpy/core/_methods.py:132: RuntimeWarning: invalid value encountered in double_scalars\n",
      "  ret = ret.dtype.type(ret / rcount)\n",
      "/anaconda3/lib/python3.6/site-packages/feets/extractors/ext_stetson.py:248: RuntimeWarning: divide by zero encountered in double_scalars\n",
      "  np.sum(np.abs(sigmap)) / np.sqrt(np.sum(sigmap ** 2)))\n",
      "/anaconda3/lib/python3.6/site-packages/feets/extractors/ext_stetson.py:248: RuntimeWarning: invalid value encountered in double_scalars\n",
      "  np.sum(np.abs(sigmap)) / np.sqrt(np.sum(sigmap ** 2)))\n",
      "/anaconda3/lib/python3.6/site-packages/ipykernel_launcher.py:118: RuntimeWarning: divide by zero encountered in double_scalars\n",
      "/anaconda3/lib/python3.6/site-packages/ipykernel_launcher.py:119: RuntimeWarning: divide by zero encountered in double_scalars\n"
     ]
    },
    {
     "name": "stdout",
     "output_type": "stream",
     "text": [
      "['Autocor_length' 'Beyond1Std' 'CAR_mean' 'CAR_sigma' 'CAR_tau' 'Con'\n",
      " 'LinearTrend' 'MaxSlope' 'Mean' 'Meanvariance' 'MedianAbsDev' 'MedianBRP'\n",
      " 'PairSlopeTrend' 'PercentAmplitude' 'Q31' 'Rcs' 'Skew' 'SlottedA_length'\n",
      " 'SmallKurtosis' 'Std' 'StetsonK_AC']\n",
      "['Autocor_length' 'Beyond1Std' 'CAR_mean' 'CAR_sigma' 'CAR_tau' 'Con'\n",
      " 'LinearTrend' 'MaxSlope' 'Mean' 'Meanvariance' 'MedianAbsDev' 'MedianBRP'\n",
      " 'PairSlopeTrend' 'PercentAmplitude' 'Q31' 'Rcs' 'Skew' 'SlottedA_length'\n",
      " 'SmallKurtosis' 'Std' 'StetsonK_AC']\n"
     ]
    },
    {
     "name": "stderr",
     "output_type": "stream",
     "text": [
      "/anaconda3/lib/python3.6/site-packages/ipykernel_launcher.py:118: RuntimeWarning: divide by zero encountered in double_scalars\n",
      "/anaconda3/lib/python3.6/site-packages/ipykernel_launcher.py:119: RuntimeWarning: divide by zero encountered in double_scalars\n",
      "/anaconda3/lib/python3.6/site-packages/statsmodels/tsa/stattools.py:572: FutureWarning: fft=True will become the default in a future version of statsmodels. To suppress this warning, explicitly set fft=False.\n",
      "  FutureWarning\n",
      "/anaconda3/lib/python3.6/site-packages/numpy/core/fromnumeric.py:3118: RuntimeWarning: Mean of empty slice.\n",
      "  out=out, **kwargs)\n",
      "/anaconda3/lib/python3.6/site-packages/numpy/core/_methods.py:85: RuntimeWarning: invalid value encountered in double_scalars\n",
      "  ret = ret.dtype.type(ret / rcount)\n",
      "/anaconda3/lib/python3.6/site-packages/numpy/core/_methods.py:140: RuntimeWarning: Degrees of freedom <= 0 for slice\n",
      "  keepdims=keepdims)\n",
      "/anaconda3/lib/python3.6/site-packages/numpy/core/_methods.py:110: RuntimeWarning: invalid value encountered in true_divide\n",
      "  arrmean, rcount, out=arrmean, casting='unsafe', subok=False)\n",
      "/anaconda3/lib/python3.6/site-packages/numpy/core/_methods.py:132: RuntimeWarning: invalid value encountered in double_scalars\n",
      "  ret = ret.dtype.type(ret / rcount)\n",
      "/anaconda3/lib/python3.6/site-packages/feets/extractors/ext_stetson.py:248: RuntimeWarning: divide by zero encountered in double_scalars\n",
      "  np.sum(np.abs(sigmap)) / np.sqrt(np.sum(sigmap ** 2)))\n",
      "/anaconda3/lib/python3.6/site-packages/feets/extractors/ext_stetson.py:248: RuntimeWarning: invalid value encountered in double_scalars\n",
      "  np.sum(np.abs(sigmap)) / np.sqrt(np.sum(sigmap ** 2)))\n",
      "/anaconda3/lib/python3.6/site-packages/ipykernel_launcher.py:118: RuntimeWarning: divide by zero encountered in double_scalars\n",
      "/anaconda3/lib/python3.6/site-packages/ipykernel_launcher.py:119: RuntimeWarning: divide by zero encountered in double_scalars\n"
     ]
    },
    {
     "name": "stdout",
     "output_type": "stream",
     "text": [
      "['Autocor_length' 'Beyond1Std' 'CAR_mean' 'CAR_sigma' 'CAR_tau' 'Con'\n",
      " 'LinearTrend' 'MaxSlope' 'Mean' 'Meanvariance' 'MedianAbsDev' 'MedianBRP'\n",
      " 'PairSlopeTrend' 'PercentAmplitude' 'Q31' 'Rcs' 'Skew' 'SlottedA_length'\n",
      " 'SmallKurtosis' 'Std' 'StetsonK_AC']\n"
     ]
    },
    {
     "name": "stderr",
     "output_type": "stream",
     "text": [
      "/anaconda3/lib/python3.6/site-packages/statsmodels/tsa/stattools.py:572: FutureWarning: fft=True will become the default in a future version of statsmodels. To suppress this warning, explicitly set fft=False.\n",
      "  FutureWarning\n",
      "/anaconda3/lib/python3.6/site-packages/numpy/core/fromnumeric.py:3118: RuntimeWarning: Mean of empty slice.\n",
      "  out=out, **kwargs)\n",
      "/anaconda3/lib/python3.6/site-packages/numpy/core/_methods.py:85: RuntimeWarning: invalid value encountered in double_scalars\n",
      "  ret = ret.dtype.type(ret / rcount)\n",
      "/anaconda3/lib/python3.6/site-packages/numpy/core/_methods.py:140: RuntimeWarning: Degrees of freedom <= 0 for slice\n",
      "  keepdims=keepdims)\n",
      "/anaconda3/lib/python3.6/site-packages/numpy/core/_methods.py:110: RuntimeWarning: invalid value encountered in true_divide\n",
      "  arrmean, rcount, out=arrmean, casting='unsafe', subok=False)\n",
      "/anaconda3/lib/python3.6/site-packages/numpy/core/_methods.py:132: RuntimeWarning: invalid value encountered in double_scalars\n",
      "  ret = ret.dtype.type(ret / rcount)\n",
      "/anaconda3/lib/python3.6/site-packages/feets/extractors/ext_stetson.py:248: RuntimeWarning: divide by zero encountered in double_scalars\n",
      "  np.sum(np.abs(sigmap)) / np.sqrt(np.sum(sigmap ** 2)))\n",
      "/anaconda3/lib/python3.6/site-packages/feets/extractors/ext_stetson.py:248: RuntimeWarning: invalid value encountered in double_scalars\n",
      "  np.sum(np.abs(sigmap)) / np.sqrt(np.sum(sigmap ** 2)))\n",
      "/anaconda3/lib/python3.6/site-packages/feets/extractors/ext_max_slope.py:91: RuntimeWarning: divide by zero encountered in true_divide\n",
      "  slope = np.abs(magnitude[1:] - magnitude[:-1]) / (time[1:] - time[:-1])\n",
      "/anaconda3/lib/python3.6/site-packages/ipykernel_launcher.py:118: RuntimeWarning: divide by zero encountered in double_scalars\n",
      "/anaconda3/lib/python3.6/site-packages/ipykernel_launcher.py:119: RuntimeWarning: divide by zero encountered in double_scalars\n"
     ]
    },
    {
     "name": "stdout",
     "output_type": "stream",
     "text": [
      "['Autocor_length' 'Beyond1Std' 'CAR_mean' 'CAR_sigma' 'CAR_tau' 'Con'\n",
      " 'LinearTrend' 'MaxSlope' 'Mean' 'Meanvariance' 'MedianAbsDev' 'MedianBRP'\n",
      " 'PairSlopeTrend' 'PercentAmplitude' 'Q31' 'Rcs' 'Skew' 'SlottedA_length'\n",
      " 'SmallKurtosis' 'Std' 'StetsonK_AC']\n"
     ]
    },
    {
     "name": "stderr",
     "output_type": "stream",
     "text": [
      "/anaconda3/lib/python3.6/site-packages/feets/extractors/ext_max_slope.py:91: RuntimeWarning: divide by zero encountered in true_divide\n",
      "  slope = np.abs(magnitude[1:] - magnitude[:-1]) / (time[1:] - time[:-1])\n",
      "/anaconda3/lib/python3.6/site-packages/statsmodels/tsa/stattools.py:572: FutureWarning: fft=True will become the default in a future version of statsmodels. To suppress this warning, explicitly set fft=False.\n",
      "  FutureWarning\n",
      "/anaconda3/lib/python3.6/site-packages/numpy/core/fromnumeric.py:3118: RuntimeWarning: Mean of empty slice.\n",
      "  out=out, **kwargs)\n",
      "/anaconda3/lib/python3.6/site-packages/numpy/core/_methods.py:85: RuntimeWarning: invalid value encountered in double_scalars\n",
      "  ret = ret.dtype.type(ret / rcount)\n",
      "/anaconda3/lib/python3.6/site-packages/numpy/core/_methods.py:140: RuntimeWarning: Degrees of freedom <= 0 for slice\n",
      "  keepdims=keepdims)\n",
      "/anaconda3/lib/python3.6/site-packages/numpy/core/_methods.py:110: RuntimeWarning: invalid value encountered in true_divide\n",
      "  arrmean, rcount, out=arrmean, casting='unsafe', subok=False)\n",
      "/anaconda3/lib/python3.6/site-packages/numpy/core/_methods.py:132: RuntimeWarning: invalid value encountered in double_scalars\n",
      "  ret = ret.dtype.type(ret / rcount)\n",
      "/anaconda3/lib/python3.6/site-packages/feets/extractors/ext_stetson.py:248: RuntimeWarning: divide by zero encountered in double_scalars\n",
      "  np.sum(np.abs(sigmap)) / np.sqrt(np.sum(sigmap ** 2)))\n",
      "/anaconda3/lib/python3.6/site-packages/feets/extractors/ext_stetson.py:248: RuntimeWarning: invalid value encountered in double_scalars\n",
      "  np.sum(np.abs(sigmap)) / np.sqrt(np.sum(sigmap ** 2)))\n",
      "/anaconda3/lib/python3.6/site-packages/ipykernel_launcher.py:118: RuntimeWarning: divide by zero encountered in double_scalars\n",
      "/anaconda3/lib/python3.6/site-packages/ipykernel_launcher.py:119: RuntimeWarning: divide by zero encountered in double_scalars\n"
     ]
    },
    {
     "name": "stdout",
     "output_type": "stream",
     "text": [
      "['Autocor_length' 'Beyond1Std' 'CAR_mean' 'CAR_sigma' 'CAR_tau' 'Con'\n",
      " 'LinearTrend' 'MaxSlope' 'Mean' 'Meanvariance' 'MedianAbsDev' 'MedianBRP'\n",
      " 'PairSlopeTrend' 'PercentAmplitude' 'Q31' 'Rcs' 'Skew' 'SlottedA_length'\n",
      " 'SmallKurtosis' 'Std' 'StetsonK_AC']\n"
     ]
    },
    {
     "name": "stderr",
     "output_type": "stream",
     "text": [
      "/anaconda3/lib/python3.6/site-packages/feets/extractors/ext_max_slope.py:91: RuntimeWarning: divide by zero encountered in true_divide\n",
      "  slope = np.abs(magnitude[1:] - magnitude[:-1]) / (time[1:] - time[:-1])\n",
      "/anaconda3/lib/python3.6/site-packages/statsmodels/tsa/stattools.py:572: FutureWarning: fft=True will become the default in a future version of statsmodels. To suppress this warning, explicitly set fft=False.\n",
      "  FutureWarning\n",
      "/anaconda3/lib/python3.6/site-packages/ipykernel_launcher.py:118: RuntimeWarning: divide by zero encountered in double_scalars\n",
      "/anaconda3/lib/python3.6/site-packages/ipykernel_launcher.py:119: RuntimeWarning: divide by zero encountered in double_scalars\n"
     ]
    },
    {
     "name": "stdout",
     "output_type": "stream",
     "text": [
      "['Autocor_length' 'Beyond1Std' 'CAR_mean' 'CAR_sigma' 'CAR_tau' 'Con'\n",
      " 'LinearTrend' 'MaxSlope' 'Mean' 'Meanvariance' 'MedianAbsDev' 'MedianBRP'\n",
      " 'PairSlopeTrend' 'PercentAmplitude' 'Q31' 'Rcs' 'Skew' 'SlottedA_length'\n",
      " 'SmallKurtosis' 'Std' 'StetsonK_AC']\n"
     ]
    },
    {
     "name": "stderr",
     "output_type": "stream",
     "text": [
      "/anaconda3/lib/python3.6/site-packages/statsmodels/tsa/stattools.py:572: FutureWarning: fft=True will become the default in a future version of statsmodels. To suppress this warning, explicitly set fft=False.\n",
      "  FutureWarning\n",
      "/anaconda3/lib/python3.6/site-packages/ipykernel_launcher.py:118: RuntimeWarning: divide by zero encountered in double_scalars\n",
      "/anaconda3/lib/python3.6/site-packages/ipykernel_launcher.py:119: RuntimeWarning: divide by zero encountered in double_scalars\n",
      "/anaconda3/lib/python3.6/site-packages/feets/extractors/ext_max_slope.py:91: RuntimeWarning: divide by zero encountered in true_divide\n",
      "  slope = np.abs(magnitude[1:] - magnitude[:-1]) / (time[1:] - time[:-1])\n"
     ]
    },
    {
     "name": "stdout",
     "output_type": "stream",
     "text": [
      "['Autocor_length' 'Beyond1Std' 'CAR_mean' 'CAR_sigma' 'CAR_tau' 'Con'\n",
      " 'LinearTrend' 'MaxSlope' 'Mean' 'Meanvariance' 'MedianAbsDev' 'MedianBRP'\n",
      " 'PairSlopeTrend' 'PercentAmplitude' 'Q31' 'Rcs' 'Skew' 'SlottedA_length'\n",
      " 'SmallKurtosis' 'Std' 'StetsonK_AC']\n"
     ]
    },
    {
     "name": "stderr",
     "output_type": "stream",
     "text": [
      "/anaconda3/lib/python3.6/site-packages/statsmodels/tsa/stattools.py:572: FutureWarning: fft=True will become the default in a future version of statsmodels. To suppress this warning, explicitly set fft=False.\n",
      "  FutureWarning\n",
      "/anaconda3/lib/python3.6/site-packages/numpy/core/fromnumeric.py:3118: RuntimeWarning: Mean of empty slice.\n",
      "  out=out, **kwargs)\n",
      "/anaconda3/lib/python3.6/site-packages/numpy/core/_methods.py:85: RuntimeWarning: invalid value encountered in double_scalars\n",
      "  ret = ret.dtype.type(ret / rcount)\n",
      "/anaconda3/lib/python3.6/site-packages/numpy/core/_methods.py:140: RuntimeWarning: Degrees of freedom <= 0 for slice\n",
      "  keepdims=keepdims)\n",
      "/anaconda3/lib/python3.6/site-packages/numpy/core/_methods.py:110: RuntimeWarning: invalid value encountered in true_divide\n",
      "  arrmean, rcount, out=arrmean, casting='unsafe', subok=False)\n",
      "/anaconda3/lib/python3.6/site-packages/numpy/core/_methods.py:132: RuntimeWarning: invalid value encountered in double_scalars\n",
      "  ret = ret.dtype.type(ret / rcount)\n",
      "/anaconda3/lib/python3.6/site-packages/feets/extractors/ext_stetson.py:248: RuntimeWarning: divide by zero encountered in double_scalars\n",
      "  np.sum(np.abs(sigmap)) / np.sqrt(np.sum(sigmap ** 2)))\n",
      "/anaconda3/lib/python3.6/site-packages/feets/extractors/ext_stetson.py:248: RuntimeWarning: invalid value encountered in double_scalars\n",
      "  np.sum(np.abs(sigmap)) / np.sqrt(np.sum(sigmap ** 2)))\n",
      "/anaconda3/lib/python3.6/site-packages/ipykernel_launcher.py:118: RuntimeWarning: divide by zero encountered in double_scalars\n",
      "/anaconda3/lib/python3.6/site-packages/ipykernel_launcher.py:119: RuntimeWarning: divide by zero encountered in double_scalars\n"
     ]
    },
    {
     "name": "stdout",
     "output_type": "stream",
     "text": [
      "['Autocor_length' 'Beyond1Std' 'CAR_mean' 'CAR_sigma' 'CAR_tau' 'Con'\n",
      " 'LinearTrend' 'MaxSlope' 'Mean' 'Meanvariance' 'MedianAbsDev' 'MedianBRP'\n",
      " 'PairSlopeTrend' 'PercentAmplitude' 'Q31' 'Rcs' 'Skew' 'SlottedA_length'\n",
      " 'SmallKurtosis' 'Std' 'StetsonK_AC']\n"
     ]
    },
    {
     "name": "stderr",
     "output_type": "stream",
     "text": [
      "/anaconda3/lib/python3.6/site-packages/statsmodels/tsa/stattools.py:572: FutureWarning: fft=True will become the default in a future version of statsmodels. To suppress this warning, explicitly set fft=False.\n",
      "  FutureWarning\n",
      "/anaconda3/lib/python3.6/site-packages/ipykernel_launcher.py:118: RuntimeWarning: divide by zero encountered in double_scalars\n",
      "/anaconda3/lib/python3.6/site-packages/ipykernel_launcher.py:119: RuntimeWarning: divide by zero encountered in double_scalars\n"
     ]
    },
    {
     "name": "stdout",
     "output_type": "stream",
     "text": [
      "['Autocor_length' 'Beyond1Std' 'CAR_mean' 'CAR_sigma' 'CAR_tau' 'Con'\n",
      " 'LinearTrend' 'MaxSlope' 'Mean' 'Meanvariance' 'MedianAbsDev' 'MedianBRP'\n",
      " 'PairSlopeTrend' 'PercentAmplitude' 'Q31' 'Rcs' 'Skew' 'SlottedA_length'\n",
      " 'SmallKurtosis' 'Std' 'StetsonK_AC']\n"
     ]
    },
    {
     "name": "stderr",
     "output_type": "stream",
     "text": [
      "/anaconda3/lib/python3.6/site-packages/feets/extractors/ext_max_slope.py:91: RuntimeWarning: divide by zero encountered in true_divide\n",
      "  slope = np.abs(magnitude[1:] - magnitude[:-1]) / (time[1:] - time[:-1])\n",
      "/anaconda3/lib/python3.6/site-packages/ipykernel_launcher.py:118: RuntimeWarning: divide by zero encountered in double_scalars\n",
      "/anaconda3/lib/python3.6/site-packages/ipykernel_launcher.py:119: RuntimeWarning: divide by zero encountered in double_scalars\n"
     ]
    },
    {
     "name": "stdout",
     "output_type": "stream",
     "text": [
      "['Autocor_length' 'Beyond1Std' 'CAR_mean' 'CAR_sigma' 'CAR_tau' 'Con'\n",
      " 'LinearTrend' 'MaxSlope' 'Mean' 'Meanvariance' 'MedianAbsDev' 'MedianBRP'\n",
      " 'PairSlopeTrend' 'PercentAmplitude' 'Q31' 'Rcs' 'Skew' 'SlottedA_length'\n",
      " 'SmallKurtosis' 'Std' 'StetsonK_AC']\n"
     ]
    },
    {
     "name": "stderr",
     "output_type": "stream",
     "text": [
      "/anaconda3/lib/python3.6/site-packages/feets/extractors/ext_max_slope.py:91: RuntimeWarning: divide by zero encountered in true_divide\n",
      "  slope = np.abs(magnitude[1:] - magnitude[:-1]) / (time[1:] - time[:-1])\n",
      "/anaconda3/lib/python3.6/site-packages/statsmodels/tsa/stattools.py:572: FutureWarning: fft=True will become the default in a future version of statsmodels. To suppress this warning, explicitly set fft=False.\n",
      "  FutureWarning\n",
      "/anaconda3/lib/python3.6/site-packages/ipykernel_launcher.py:118: RuntimeWarning: divide by zero encountered in double_scalars\n",
      "/anaconda3/lib/python3.6/site-packages/ipykernel_launcher.py:119: RuntimeWarning: divide by zero encountered in double_scalars\n"
     ]
    },
    {
     "name": "stdout",
     "output_type": "stream",
     "text": [
      "['Autocor_length' 'Beyond1Std' 'CAR_mean' 'CAR_sigma' 'CAR_tau' 'Con'\n",
      " 'LinearTrend' 'MaxSlope' 'Mean' 'Meanvariance' 'MedianAbsDev' 'MedianBRP'\n",
      " 'PairSlopeTrend' 'PercentAmplitude' 'Q31' 'Rcs' 'Skew' 'SlottedA_length'\n",
      " 'SmallKurtosis' 'Std' 'StetsonK_AC']\n"
     ]
    },
    {
     "name": "stderr",
     "output_type": "stream",
     "text": [
      "/anaconda3/lib/python3.6/site-packages/feets/extractors/ext_max_slope.py:91: RuntimeWarning: divide by zero encountered in true_divide\n",
      "  slope = np.abs(magnitude[1:] - magnitude[:-1]) / (time[1:] - time[:-1])\n",
      "/anaconda3/lib/python3.6/site-packages/statsmodels/tsa/stattools.py:572: FutureWarning: fft=True will become the default in a future version of statsmodels. To suppress this warning, explicitly set fft=False.\n",
      "  FutureWarning\n",
      "/anaconda3/lib/python3.6/site-packages/numpy/core/fromnumeric.py:3118: RuntimeWarning: Mean of empty slice.\n",
      "  out=out, **kwargs)\n",
      "/anaconda3/lib/python3.6/site-packages/numpy/core/_methods.py:85: RuntimeWarning: invalid value encountered in double_scalars\n",
      "  ret = ret.dtype.type(ret / rcount)\n",
      "/anaconda3/lib/python3.6/site-packages/numpy/core/_methods.py:140: RuntimeWarning: Degrees of freedom <= 0 for slice\n",
      "  keepdims=keepdims)\n",
      "/anaconda3/lib/python3.6/site-packages/numpy/core/_methods.py:110: RuntimeWarning: invalid value encountered in true_divide\n",
      "  arrmean, rcount, out=arrmean, casting='unsafe', subok=False)\n",
      "/anaconda3/lib/python3.6/site-packages/numpy/core/_methods.py:132: RuntimeWarning: invalid value encountered in double_scalars\n",
      "  ret = ret.dtype.type(ret / rcount)\n",
      "/anaconda3/lib/python3.6/site-packages/feets/extractors/ext_stetson.py:248: RuntimeWarning: divide by zero encountered in double_scalars\n",
      "  np.sum(np.abs(sigmap)) / np.sqrt(np.sum(sigmap ** 2)))\n",
      "/anaconda3/lib/python3.6/site-packages/feets/extractors/ext_stetson.py:248: RuntimeWarning: invalid value encountered in double_scalars\n",
      "  np.sum(np.abs(sigmap)) / np.sqrt(np.sum(sigmap ** 2)))\n",
      "/anaconda3/lib/python3.6/site-packages/ipykernel_launcher.py:118: RuntimeWarning: divide by zero encountered in double_scalars\n",
      "/anaconda3/lib/python3.6/site-packages/ipykernel_launcher.py:119: RuntimeWarning: divide by zero encountered in double_scalars\n"
     ]
    },
    {
     "name": "stdout",
     "output_type": "stream",
     "text": [
      "['Autocor_length' 'Beyond1Std' 'CAR_mean' 'CAR_sigma' 'CAR_tau' 'Con'\n",
      " 'LinearTrend' 'MaxSlope' 'Mean' 'Meanvariance' 'MedianAbsDev' 'MedianBRP'\n",
      " 'PairSlopeTrend' 'PercentAmplitude' 'Q31' 'Rcs' 'Skew' 'SlottedA_length'\n",
      " 'SmallKurtosis' 'Std' 'StetsonK_AC']\n"
     ]
    },
    {
     "name": "stderr",
     "output_type": "stream",
     "text": [
      "/anaconda3/lib/python3.6/site-packages/statsmodels/tsa/stattools.py:572: FutureWarning: fft=True will become the default in a future version of statsmodels. To suppress this warning, explicitly set fft=False.\n",
      "  FutureWarning\n",
      "/anaconda3/lib/python3.6/site-packages/numpy/core/fromnumeric.py:3118: RuntimeWarning: Mean of empty slice.\n",
      "  out=out, **kwargs)\n",
      "/anaconda3/lib/python3.6/site-packages/numpy/core/_methods.py:85: RuntimeWarning: invalid value encountered in double_scalars\n",
      "  ret = ret.dtype.type(ret / rcount)\n",
      "/anaconda3/lib/python3.6/site-packages/numpy/core/_methods.py:140: RuntimeWarning: Degrees of freedom <= 0 for slice\n",
      "  keepdims=keepdims)\n",
      "/anaconda3/lib/python3.6/site-packages/numpy/core/_methods.py:110: RuntimeWarning: invalid value encountered in true_divide\n",
      "  arrmean, rcount, out=arrmean, casting='unsafe', subok=False)\n",
      "/anaconda3/lib/python3.6/site-packages/numpy/core/_methods.py:132: RuntimeWarning: invalid value encountered in double_scalars\n",
      "  ret = ret.dtype.type(ret / rcount)\n",
      "/anaconda3/lib/python3.6/site-packages/feets/extractors/ext_stetson.py:248: RuntimeWarning: divide by zero encountered in double_scalars\n",
      "  np.sum(np.abs(sigmap)) / np.sqrt(np.sum(sigmap ** 2)))\n",
      "/anaconda3/lib/python3.6/site-packages/feets/extractors/ext_stetson.py:248: RuntimeWarning: invalid value encountered in double_scalars\n",
      "  np.sum(np.abs(sigmap)) / np.sqrt(np.sum(sigmap ** 2)))\n",
      "/anaconda3/lib/python3.6/site-packages/ipykernel_launcher.py:118: RuntimeWarning: divide by zero encountered in double_scalars\n",
      "/anaconda3/lib/python3.6/site-packages/ipykernel_launcher.py:119: RuntimeWarning: divide by zero encountered in double_scalars\n"
     ]
    },
    {
     "name": "stdout",
     "output_type": "stream",
     "text": [
      "['Autocor_length' 'Beyond1Std' 'CAR_mean' 'CAR_sigma' 'CAR_tau' 'Con'\n",
      " 'LinearTrend' 'MaxSlope' 'Mean' 'Meanvariance' 'MedianAbsDev' 'MedianBRP'\n",
      " 'PairSlopeTrend' 'PercentAmplitude' 'Q31' 'Rcs' 'Skew' 'SlottedA_length'\n",
      " 'SmallKurtosis' 'Std' 'StetsonK_AC']\n"
     ]
    },
    {
     "name": "stderr",
     "output_type": "stream",
     "text": [
      "/anaconda3/lib/python3.6/site-packages/feets/extractors/ext_max_slope.py:91: RuntimeWarning: divide by zero encountered in true_divide\n",
      "  slope = np.abs(magnitude[1:] - magnitude[:-1]) / (time[1:] - time[:-1])\n",
      "/anaconda3/lib/python3.6/site-packages/numpy/core/fromnumeric.py:3118: RuntimeWarning: Mean of empty slice.\n",
      "  out=out, **kwargs)\n",
      "/anaconda3/lib/python3.6/site-packages/numpy/core/_methods.py:85: RuntimeWarning: invalid value encountered in double_scalars\n",
      "  ret = ret.dtype.type(ret / rcount)\n",
      "/anaconda3/lib/python3.6/site-packages/numpy/core/_methods.py:140: RuntimeWarning: Degrees of freedom <= 0 for slice\n",
      "  keepdims=keepdims)\n",
      "/anaconda3/lib/python3.6/site-packages/numpy/core/_methods.py:110: RuntimeWarning: invalid value encountered in true_divide\n",
      "  arrmean, rcount, out=arrmean, casting='unsafe', subok=False)\n",
      "/anaconda3/lib/python3.6/site-packages/numpy/core/_methods.py:132: RuntimeWarning: invalid value encountered in double_scalars\n",
      "  ret = ret.dtype.type(ret / rcount)\n",
      "/anaconda3/lib/python3.6/site-packages/feets/extractors/ext_stetson.py:248: RuntimeWarning: divide by zero encountered in double_scalars\n",
      "  np.sum(np.abs(sigmap)) / np.sqrt(np.sum(sigmap ** 2)))\n",
      "/anaconda3/lib/python3.6/site-packages/feets/extractors/ext_stetson.py:248: RuntimeWarning: invalid value encountered in double_scalars\n",
      "  np.sum(np.abs(sigmap)) / np.sqrt(np.sum(sigmap ** 2)))\n",
      "/anaconda3/lib/python3.6/site-packages/ipykernel_launcher.py:118: RuntimeWarning: divide by zero encountered in double_scalars\n",
      "/anaconda3/lib/python3.6/site-packages/ipykernel_launcher.py:119: RuntimeWarning: divide by zero encountered in double_scalars\n"
     ]
    },
    {
     "name": "stdout",
     "output_type": "stream",
     "text": [
      "['Autocor_length' 'Beyond1Std' 'CAR_mean' 'CAR_sigma' 'CAR_tau' 'Con'\n",
      " 'LinearTrend' 'MaxSlope' 'Mean' 'Meanvariance' 'MedianAbsDev' 'MedianBRP'\n",
      " 'PairSlopeTrend' 'PercentAmplitude' 'Q31' 'Rcs' 'Skew' 'SlottedA_length'\n",
      " 'SmallKurtosis' 'Std' 'StetsonK_AC']\n"
     ]
    },
    {
     "name": "stderr",
     "output_type": "stream",
     "text": [
      "/anaconda3/lib/python3.6/site-packages/feets/extractors/ext_max_slope.py:91: RuntimeWarning: divide by zero encountered in true_divide\n",
      "  slope = np.abs(magnitude[1:] - magnitude[:-1]) / (time[1:] - time[:-1])\n",
      "/anaconda3/lib/python3.6/site-packages/statsmodels/tsa/stattools.py:572: FutureWarning: fft=True will become the default in a future version of statsmodels. To suppress this warning, explicitly set fft=False.\n",
      "  FutureWarning\n",
      "/anaconda3/lib/python3.6/site-packages/numpy/core/fromnumeric.py:3118: RuntimeWarning: Mean of empty slice.\n",
      "  out=out, **kwargs)\n",
      "/anaconda3/lib/python3.6/site-packages/numpy/core/_methods.py:85: RuntimeWarning: invalid value encountered in double_scalars\n",
      "  ret = ret.dtype.type(ret / rcount)\n",
      "/anaconda3/lib/python3.6/site-packages/numpy/core/_methods.py:140: RuntimeWarning: Degrees of freedom <= 0 for slice\n",
      "  keepdims=keepdims)\n",
      "/anaconda3/lib/python3.6/site-packages/numpy/core/_methods.py:110: RuntimeWarning: invalid value encountered in true_divide\n",
      "  arrmean, rcount, out=arrmean, casting='unsafe', subok=False)\n",
      "/anaconda3/lib/python3.6/site-packages/numpy/core/_methods.py:132: RuntimeWarning: invalid value encountered in double_scalars\n",
      "  ret = ret.dtype.type(ret / rcount)\n",
      "/anaconda3/lib/python3.6/site-packages/feets/extractors/ext_stetson.py:248: RuntimeWarning: divide by zero encountered in double_scalars\n",
      "  np.sum(np.abs(sigmap)) / np.sqrt(np.sum(sigmap ** 2)))\n",
      "/anaconda3/lib/python3.6/site-packages/feets/extractors/ext_stetson.py:248: RuntimeWarning: invalid value encountered in double_scalars\n",
      "  np.sum(np.abs(sigmap)) / np.sqrt(np.sum(sigmap ** 2)))\n",
      "/anaconda3/lib/python3.6/site-packages/ipykernel_launcher.py:118: RuntimeWarning: divide by zero encountered in double_scalars\n",
      "/anaconda3/lib/python3.6/site-packages/ipykernel_launcher.py:119: RuntimeWarning: divide by zero encountered in double_scalars\n"
     ]
    },
    {
     "name": "stdout",
     "output_type": "stream",
     "text": [
      "['Autocor_length' 'Beyond1Std' 'CAR_mean' 'CAR_sigma' 'CAR_tau' 'Con'\n",
      " 'LinearTrend' 'MaxSlope' 'Mean' 'Meanvariance' 'MedianAbsDev' 'MedianBRP'\n",
      " 'PairSlopeTrend' 'PercentAmplitude' 'Q31' 'Rcs' 'Skew' 'SlottedA_length'\n",
      " 'SmallKurtosis' 'Std' 'StetsonK_AC']\n"
     ]
    },
    {
     "name": "stderr",
     "output_type": "stream",
     "text": [
      "/anaconda3/lib/python3.6/site-packages/statsmodels/tsa/stattools.py:572: FutureWarning: fft=True will become the default in a future version of statsmodels. To suppress this warning, explicitly set fft=False.\n",
      "  FutureWarning\n",
      "/anaconda3/lib/python3.6/site-packages/numpy/core/fromnumeric.py:3118: RuntimeWarning: Mean of empty slice.\n",
      "  out=out, **kwargs)\n",
      "/anaconda3/lib/python3.6/site-packages/numpy/core/_methods.py:85: RuntimeWarning: invalid value encountered in double_scalars\n",
      "  ret = ret.dtype.type(ret / rcount)\n",
      "/anaconda3/lib/python3.6/site-packages/numpy/core/_methods.py:140: RuntimeWarning: Degrees of freedom <= 0 for slice\n",
      "  keepdims=keepdims)\n",
      "/anaconda3/lib/python3.6/site-packages/numpy/core/_methods.py:110: RuntimeWarning: invalid value encountered in true_divide\n",
      "  arrmean, rcount, out=arrmean, casting='unsafe', subok=False)\n",
      "/anaconda3/lib/python3.6/site-packages/numpy/core/_methods.py:132: RuntimeWarning: invalid value encountered in double_scalars\n",
      "  ret = ret.dtype.type(ret / rcount)\n",
      "/anaconda3/lib/python3.6/site-packages/feets/extractors/ext_stetson.py:248: RuntimeWarning: divide by zero encountered in double_scalars\n",
      "  np.sum(np.abs(sigmap)) / np.sqrt(np.sum(sigmap ** 2)))\n",
      "/anaconda3/lib/python3.6/site-packages/feets/extractors/ext_stetson.py:248: RuntimeWarning: invalid value encountered in double_scalars\n",
      "  np.sum(np.abs(sigmap)) / np.sqrt(np.sum(sigmap ** 2)))\n",
      "/anaconda3/lib/python3.6/site-packages/ipykernel_launcher.py:118: RuntimeWarning: divide by zero encountered in double_scalars\n",
      "/anaconda3/lib/python3.6/site-packages/ipykernel_launcher.py:119: RuntimeWarning: divide by zero encountered in double_scalars\n"
     ]
    },
    {
     "name": "stdout",
     "output_type": "stream",
     "text": [
      "['Autocor_length' 'Beyond1Std' 'CAR_mean' 'CAR_sigma' 'CAR_tau' 'Con'\n",
      " 'LinearTrend' 'MaxSlope' 'Mean' 'Meanvariance' 'MedianAbsDev' 'MedianBRP'\n",
      " 'PairSlopeTrend' 'PercentAmplitude' 'Q31' 'Rcs' 'Skew' 'SlottedA_length'\n",
      " 'SmallKurtosis' 'Std' 'StetsonK_AC']\n"
     ]
    },
    {
     "name": "stderr",
     "output_type": "stream",
     "text": [
      "/anaconda3/lib/python3.6/site-packages/feets/extractors/ext_max_slope.py:91: RuntimeWarning: divide by zero encountered in true_divide\n",
      "  slope = np.abs(magnitude[1:] - magnitude[:-1]) / (time[1:] - time[:-1])\n",
      "/anaconda3/lib/python3.6/site-packages/statsmodels/tsa/stattools.py:572: FutureWarning: fft=True will become the default in a future version of statsmodels. To suppress this warning, explicitly set fft=False.\n",
      "  FutureWarning\n",
      "/anaconda3/lib/python3.6/site-packages/numpy/core/fromnumeric.py:3118: RuntimeWarning: Mean of empty slice.\n",
      "  out=out, **kwargs)\n",
      "/anaconda3/lib/python3.6/site-packages/numpy/core/_methods.py:85: RuntimeWarning: invalid value encountered in double_scalars\n",
      "  ret = ret.dtype.type(ret / rcount)\n",
      "/anaconda3/lib/python3.6/site-packages/numpy/core/_methods.py:140: RuntimeWarning: Degrees of freedom <= 0 for slice\n",
      "  keepdims=keepdims)\n",
      "/anaconda3/lib/python3.6/site-packages/numpy/core/_methods.py:110: RuntimeWarning: invalid value encountered in true_divide\n",
      "  arrmean, rcount, out=arrmean, casting='unsafe', subok=False)\n",
      "/anaconda3/lib/python3.6/site-packages/numpy/core/_methods.py:132: RuntimeWarning: invalid value encountered in double_scalars\n",
      "  ret = ret.dtype.type(ret / rcount)\n",
      "/anaconda3/lib/python3.6/site-packages/feets/extractors/ext_stetson.py:248: RuntimeWarning: divide by zero encountered in double_scalars\n",
      "  np.sum(np.abs(sigmap)) / np.sqrt(np.sum(sigmap ** 2)))\n",
      "/anaconda3/lib/python3.6/site-packages/feets/extractors/ext_stetson.py:248: RuntimeWarning: invalid value encountered in double_scalars\n",
      "  np.sum(np.abs(sigmap)) / np.sqrt(np.sum(sigmap ** 2)))\n",
      "/anaconda3/lib/python3.6/site-packages/ipykernel_launcher.py:118: RuntimeWarning: divide by zero encountered in double_scalars\n",
      "/anaconda3/lib/python3.6/site-packages/ipykernel_launcher.py:119: RuntimeWarning: divide by zero encountered in double_scalars\n"
     ]
    },
    {
     "name": "stdout",
     "output_type": "stream",
     "text": [
      "['Autocor_length' 'Beyond1Std' 'CAR_mean' 'CAR_sigma' 'CAR_tau' 'Con'\n",
      " 'LinearTrend' 'MaxSlope' 'Mean' 'Meanvariance' 'MedianAbsDev' 'MedianBRP'\n",
      " 'PairSlopeTrend' 'PercentAmplitude' 'Q31' 'Rcs' 'Skew' 'SlottedA_length'\n",
      " 'SmallKurtosis' 'Std' 'StetsonK_AC']\n"
     ]
    },
    {
     "name": "stderr",
     "output_type": "stream",
     "text": [
      "/anaconda3/lib/python3.6/site-packages/feets/extractors/ext_max_slope.py:91: RuntimeWarning: divide by zero encountered in true_divide\n",
      "  slope = np.abs(magnitude[1:] - magnitude[:-1]) / (time[1:] - time[:-1])\n",
      "/anaconda3/lib/python3.6/site-packages/ipykernel_launcher.py:118: RuntimeWarning: divide by zero encountered in double_scalars\n",
      "/anaconda3/lib/python3.6/site-packages/ipykernel_launcher.py:119: RuntimeWarning: divide by zero encountered in double_scalars\n"
     ]
    },
    {
     "name": "stdout",
     "output_type": "stream",
     "text": [
      "['Autocor_length' 'Beyond1Std' 'CAR_mean' 'CAR_sigma' 'CAR_tau' 'Con'\n",
      " 'LinearTrend' 'MaxSlope' 'Mean' 'Meanvariance' 'MedianAbsDev' 'MedianBRP'\n",
      " 'PairSlopeTrend' 'PercentAmplitude' 'Q31' 'Rcs' 'Skew' 'SlottedA_length'\n",
      " 'SmallKurtosis' 'Std' 'StetsonK_AC']\n"
     ]
    },
    {
     "name": "stderr",
     "output_type": "stream",
     "text": [
      "/anaconda3/lib/python3.6/site-packages/statsmodels/tsa/stattools.py:572: FutureWarning: fft=True will become the default in a future version of statsmodels. To suppress this warning, explicitly set fft=False.\n",
      "  FutureWarning\n",
      "/anaconda3/lib/python3.6/site-packages/numpy/core/fromnumeric.py:3118: RuntimeWarning: Mean of empty slice.\n",
      "  out=out, **kwargs)\n",
      "/anaconda3/lib/python3.6/site-packages/numpy/core/_methods.py:85: RuntimeWarning: invalid value encountered in double_scalars\n",
      "  ret = ret.dtype.type(ret / rcount)\n",
      "/anaconda3/lib/python3.6/site-packages/numpy/core/_methods.py:140: RuntimeWarning: Degrees of freedom <= 0 for slice\n",
      "  keepdims=keepdims)\n",
      "/anaconda3/lib/python3.6/site-packages/numpy/core/_methods.py:110: RuntimeWarning: invalid value encountered in true_divide\n",
      "  arrmean, rcount, out=arrmean, casting='unsafe', subok=False)\n",
      "/anaconda3/lib/python3.6/site-packages/numpy/core/_methods.py:132: RuntimeWarning: invalid value encountered in double_scalars\n",
      "  ret = ret.dtype.type(ret / rcount)\n",
      "/anaconda3/lib/python3.6/site-packages/feets/extractors/ext_stetson.py:248: RuntimeWarning: divide by zero encountered in double_scalars\n",
      "  np.sum(np.abs(sigmap)) / np.sqrt(np.sum(sigmap ** 2)))\n",
      "/anaconda3/lib/python3.6/site-packages/feets/extractors/ext_stetson.py:248: RuntimeWarning: invalid value encountered in double_scalars\n",
      "  np.sum(np.abs(sigmap)) / np.sqrt(np.sum(sigmap ** 2)))\n",
      "/anaconda3/lib/python3.6/site-packages/ipykernel_launcher.py:118: RuntimeWarning: divide by zero encountered in double_scalars\n",
      "/anaconda3/lib/python3.6/site-packages/ipykernel_launcher.py:119: RuntimeWarning: divide by zero encountered in double_scalars\n"
     ]
    },
    {
     "name": "stdout",
     "output_type": "stream",
     "text": [
      "['Autocor_length' 'Beyond1Std' 'CAR_mean' 'CAR_sigma' 'CAR_tau' 'Con'\n",
      " 'LinearTrend' 'MaxSlope' 'Mean' 'Meanvariance' 'MedianAbsDev' 'MedianBRP'\n",
      " 'PairSlopeTrend' 'PercentAmplitude' 'Q31' 'Rcs' 'Skew' 'SlottedA_length'\n",
      " 'SmallKurtosis' 'Std' 'StetsonK_AC']\n",
      "['Autocor_length' 'Beyond1Std' 'CAR_mean' 'CAR_sigma' 'CAR_tau' 'Con'\n",
      " 'LinearTrend' 'MaxSlope' 'Mean' 'Meanvariance' 'MedianAbsDev' 'MedianBRP'\n",
      " 'PairSlopeTrend' 'PercentAmplitude' 'Q31' 'Rcs' 'Skew' 'SlottedA_length'\n",
      " 'SmallKurtosis' 'Std' 'StetsonK_AC']\n"
     ]
    },
    {
     "name": "stderr",
     "output_type": "stream",
     "text": [
      "/anaconda3/lib/python3.6/site-packages/ipykernel_launcher.py:118: RuntimeWarning: divide by zero encountered in double_scalars\n",
      "/anaconda3/lib/python3.6/site-packages/ipykernel_launcher.py:119: RuntimeWarning: divide by zero encountered in double_scalars\n",
      "/anaconda3/lib/python3.6/site-packages/statsmodels/tsa/stattools.py:572: FutureWarning: fft=True will become the default in a future version of statsmodels. To suppress this warning, explicitly set fft=False.\n",
      "  FutureWarning\n",
      "/anaconda3/lib/python3.6/site-packages/ipykernel_launcher.py:118: RuntimeWarning: divide by zero encountered in double_scalars\n",
      "/anaconda3/lib/python3.6/site-packages/ipykernel_launcher.py:119: RuntimeWarning: divide by zero encountered in double_scalars\n"
     ]
    },
    {
     "name": "stdout",
     "output_type": "stream",
     "text": [
      "['Autocor_length' 'Beyond1Std' 'CAR_mean' 'CAR_sigma' 'CAR_tau' 'Con'\n",
      " 'LinearTrend' 'MaxSlope' 'Mean' 'Meanvariance' 'MedianAbsDev' 'MedianBRP'\n",
      " 'PairSlopeTrend' 'PercentAmplitude' 'Q31' 'Rcs' 'Skew' 'SlottedA_length'\n",
      " 'SmallKurtosis' 'Std' 'StetsonK_AC']\n"
     ]
    },
    {
     "name": "stderr",
     "output_type": "stream",
     "text": [
      "/anaconda3/lib/python3.6/site-packages/statsmodels/tsa/stattools.py:572: FutureWarning: fft=True will become the default in a future version of statsmodels. To suppress this warning, explicitly set fft=False.\n",
      "  FutureWarning\n",
      "/anaconda3/lib/python3.6/site-packages/ipykernel_launcher.py:118: RuntimeWarning: divide by zero encountered in double_scalars\n",
      "/anaconda3/lib/python3.6/site-packages/ipykernel_launcher.py:119: RuntimeWarning: divide by zero encountered in double_scalars\n"
     ]
    },
    {
     "name": "stdout",
     "output_type": "stream",
     "text": [
      "['Autocor_length' 'Beyond1Std' 'CAR_mean' 'CAR_sigma' 'CAR_tau' 'Con'\n",
      " 'LinearTrend' 'MaxSlope' 'Mean' 'Meanvariance' 'MedianAbsDev' 'MedianBRP'\n",
      " 'PairSlopeTrend' 'PercentAmplitude' 'Q31' 'Rcs' 'Skew' 'SlottedA_length'\n",
      " 'SmallKurtosis' 'Std' 'StetsonK_AC']\n"
     ]
    },
    {
     "name": "stderr",
     "output_type": "stream",
     "text": [
      "/anaconda3/lib/python3.6/site-packages/statsmodels/tsa/stattools.py:572: FutureWarning: fft=True will become the default in a future version of statsmodels. To suppress this warning, explicitly set fft=False.\n",
      "  FutureWarning\n",
      "/anaconda3/lib/python3.6/site-packages/ipykernel_launcher.py:118: RuntimeWarning: divide by zero encountered in double_scalars\n",
      "/anaconda3/lib/python3.6/site-packages/ipykernel_launcher.py:119: RuntimeWarning: divide by zero encountered in double_scalars\n"
     ]
    },
    {
     "name": "stdout",
     "output_type": "stream",
     "text": [
      "['Autocor_length' 'Beyond1Std' 'CAR_mean' 'CAR_sigma' 'CAR_tau' 'Con'\n",
      " 'LinearTrend' 'MaxSlope' 'Mean' 'Meanvariance' 'MedianAbsDev' 'MedianBRP'\n",
      " 'PairSlopeTrend' 'PercentAmplitude' 'Q31' 'Rcs' 'Skew' 'SlottedA_length'\n",
      " 'SmallKurtosis' 'Std' 'StetsonK_AC']\n"
     ]
    },
    {
     "name": "stderr",
     "output_type": "stream",
     "text": [
      "/anaconda3/lib/python3.6/site-packages/feets/extractors/ext_max_slope.py:91: RuntimeWarning: divide by zero encountered in true_divide\n",
      "  slope = np.abs(magnitude[1:] - magnitude[:-1]) / (time[1:] - time[:-1])\n",
      "/anaconda3/lib/python3.6/site-packages/statsmodels/tsa/stattools.py:572: FutureWarning: fft=True will become the default in a future version of statsmodels. To suppress this warning, explicitly set fft=False.\n",
      "  FutureWarning\n",
      "/anaconda3/lib/python3.6/site-packages/ipykernel_launcher.py:118: RuntimeWarning: divide by zero encountered in double_scalars\n",
      "/anaconda3/lib/python3.6/site-packages/ipykernel_launcher.py:119: RuntimeWarning: divide by zero encountered in double_scalars\n"
     ]
    },
    {
     "name": "stdout",
     "output_type": "stream",
     "text": [
      "['Autocor_length' 'Beyond1Std' 'CAR_mean' 'CAR_sigma' 'CAR_tau' 'Con'\n",
      " 'LinearTrend' 'MaxSlope' 'Mean' 'Meanvariance' 'MedianAbsDev' 'MedianBRP'\n",
      " 'PairSlopeTrend' 'PercentAmplitude' 'Q31' 'Rcs' 'Skew' 'SlottedA_length'\n",
      " 'SmallKurtosis' 'Std' 'StetsonK_AC']\n"
     ]
    },
    {
     "name": "stderr",
     "output_type": "stream",
     "text": [
      "/anaconda3/lib/python3.6/site-packages/statsmodels/tsa/stattools.py:572: FutureWarning: fft=True will become the default in a future version of statsmodels. To suppress this warning, explicitly set fft=False.\n",
      "  FutureWarning\n",
      "/anaconda3/lib/python3.6/site-packages/numpy/core/fromnumeric.py:3118: RuntimeWarning: Mean of empty slice.\n",
      "  out=out, **kwargs)\n",
      "/anaconda3/lib/python3.6/site-packages/numpy/core/_methods.py:85: RuntimeWarning: invalid value encountered in double_scalars\n",
      "  ret = ret.dtype.type(ret / rcount)\n",
      "/anaconda3/lib/python3.6/site-packages/numpy/core/_methods.py:140: RuntimeWarning: Degrees of freedom <= 0 for slice\n",
      "  keepdims=keepdims)\n",
      "/anaconda3/lib/python3.6/site-packages/numpy/core/_methods.py:110: RuntimeWarning: invalid value encountered in true_divide\n",
      "  arrmean, rcount, out=arrmean, casting='unsafe', subok=False)\n",
      "/anaconda3/lib/python3.6/site-packages/numpy/core/_methods.py:132: RuntimeWarning: invalid value encountered in double_scalars\n",
      "  ret = ret.dtype.type(ret / rcount)\n",
      "/anaconda3/lib/python3.6/site-packages/feets/extractors/ext_stetson.py:248: RuntimeWarning: divide by zero encountered in double_scalars\n",
      "  np.sum(np.abs(sigmap)) / np.sqrt(np.sum(sigmap ** 2)))\n",
      "/anaconda3/lib/python3.6/site-packages/feets/extractors/ext_stetson.py:248: RuntimeWarning: invalid value encountered in double_scalars\n",
      "  np.sum(np.abs(sigmap)) / np.sqrt(np.sum(sigmap ** 2)))\n",
      "/anaconda3/lib/python3.6/site-packages/ipykernel_launcher.py:118: RuntimeWarning: divide by zero encountered in double_scalars\n",
      "/anaconda3/lib/python3.6/site-packages/ipykernel_launcher.py:119: RuntimeWarning: divide by zero encountered in double_scalars\n"
     ]
    },
    {
     "name": "stdout",
     "output_type": "stream",
     "text": [
      "['Autocor_length' 'Beyond1Std' 'CAR_mean' 'CAR_sigma' 'CAR_tau' 'Con'\n",
      " 'LinearTrend' 'MaxSlope' 'Mean' 'Meanvariance' 'MedianAbsDev' 'MedianBRP'\n",
      " 'PairSlopeTrend' 'PercentAmplitude' 'Q31' 'Rcs' 'Skew' 'SlottedA_length'\n",
      " 'SmallKurtosis' 'Std' 'StetsonK_AC']\n"
     ]
    },
    {
     "name": "stderr",
     "output_type": "stream",
     "text": [
      "/anaconda3/lib/python3.6/site-packages/statsmodels/tsa/stattools.py:572: FutureWarning: fft=True will become the default in a future version of statsmodels. To suppress this warning, explicitly set fft=False.\n",
      "  FutureWarning\n",
      "/anaconda3/lib/python3.6/site-packages/numpy/core/fromnumeric.py:3118: RuntimeWarning: Mean of empty slice.\n",
      "  out=out, **kwargs)\n",
      "/anaconda3/lib/python3.6/site-packages/numpy/core/_methods.py:85: RuntimeWarning: invalid value encountered in double_scalars\n",
      "  ret = ret.dtype.type(ret / rcount)\n",
      "/anaconda3/lib/python3.6/site-packages/numpy/core/_methods.py:140: RuntimeWarning: Degrees of freedom <= 0 for slice\n",
      "  keepdims=keepdims)\n",
      "/anaconda3/lib/python3.6/site-packages/numpy/core/_methods.py:110: RuntimeWarning: invalid value encountered in true_divide\n",
      "  arrmean, rcount, out=arrmean, casting='unsafe', subok=False)\n",
      "/anaconda3/lib/python3.6/site-packages/numpy/core/_methods.py:132: RuntimeWarning: invalid value encountered in double_scalars\n",
      "  ret = ret.dtype.type(ret / rcount)\n",
      "/anaconda3/lib/python3.6/site-packages/feets/extractors/ext_stetson.py:248: RuntimeWarning: divide by zero encountered in double_scalars\n",
      "  np.sum(np.abs(sigmap)) / np.sqrt(np.sum(sigmap ** 2)))\n",
      "/anaconda3/lib/python3.6/site-packages/feets/extractors/ext_stetson.py:248: RuntimeWarning: invalid value encountered in double_scalars\n",
      "  np.sum(np.abs(sigmap)) / np.sqrt(np.sum(sigmap ** 2)))\n",
      "/anaconda3/lib/python3.6/site-packages/ipykernel_launcher.py:118: RuntimeWarning: divide by zero encountered in double_scalars\n",
      "/anaconda3/lib/python3.6/site-packages/ipykernel_launcher.py:119: RuntimeWarning: divide by zero encountered in double_scalars\n",
      "/anaconda3/lib/python3.6/site-packages/feets/extractors/ext_max_slope.py:91: RuntimeWarning: divide by zero encountered in true_divide\n",
      "  slope = np.abs(magnitude[1:] - magnitude[:-1]) / (time[1:] - time[:-1])\n"
     ]
    },
    {
     "name": "stdout",
     "output_type": "stream",
     "text": [
      "['Autocor_length' 'Beyond1Std' 'CAR_mean' 'CAR_sigma' 'CAR_tau' 'Con'\n",
      " 'LinearTrend' 'MaxSlope' 'Mean' 'Meanvariance' 'MedianAbsDev' 'MedianBRP'\n",
      " 'PairSlopeTrend' 'PercentAmplitude' 'Q31' 'Rcs' 'Skew' 'SlottedA_length'\n",
      " 'SmallKurtosis' 'Std' 'StetsonK_AC']\n"
     ]
    },
    {
     "name": "stderr",
     "output_type": "stream",
     "text": [
      "/anaconda3/lib/python3.6/site-packages/statsmodels/tsa/stattools.py:572: FutureWarning: fft=True will become the default in a future version of statsmodels. To suppress this warning, explicitly set fft=False.\n",
      "  FutureWarning\n",
      "/anaconda3/lib/python3.6/site-packages/ipykernel_launcher.py:118: RuntimeWarning: divide by zero encountered in double_scalars\n",
      "/anaconda3/lib/python3.6/site-packages/ipykernel_launcher.py:119: RuntimeWarning: divide by zero encountered in double_scalars\n"
     ]
    },
    {
     "name": "stdout",
     "output_type": "stream",
     "text": [
      "['Autocor_length' 'Beyond1Std' 'CAR_mean' 'CAR_sigma' 'CAR_tau' 'Con'\n",
      " 'LinearTrend' 'MaxSlope' 'Mean' 'Meanvariance' 'MedianAbsDev' 'MedianBRP'\n",
      " 'PairSlopeTrend' 'PercentAmplitude' 'Q31' 'Rcs' 'Skew' 'SlottedA_length'\n",
      " 'SmallKurtosis' 'Std' 'StetsonK_AC']\n"
     ]
    },
    {
     "name": "stderr",
     "output_type": "stream",
     "text": [
      "/anaconda3/lib/python3.6/site-packages/statsmodels/tsa/stattools.py:572: FutureWarning: fft=True will become the default in a future version of statsmodels. To suppress this warning, explicitly set fft=False.\n",
      "  FutureWarning\n",
      "/anaconda3/lib/python3.6/site-packages/ipykernel_launcher.py:118: RuntimeWarning: divide by zero encountered in double_scalars\n",
      "/anaconda3/lib/python3.6/site-packages/ipykernel_launcher.py:119: RuntimeWarning: divide by zero encountered in double_scalars\n"
     ]
    },
    {
     "name": "stdout",
     "output_type": "stream",
     "text": [
      "['Autocor_length' 'Beyond1Std' 'CAR_mean' 'CAR_sigma' 'CAR_tau' 'Con'\n",
      " 'LinearTrend' 'MaxSlope' 'Mean' 'Meanvariance' 'MedianAbsDev' 'MedianBRP'\n",
      " 'PairSlopeTrend' 'PercentAmplitude' 'Q31' 'Rcs' 'Skew' 'SlottedA_length'\n",
      " 'SmallKurtosis' 'Std' 'StetsonK_AC']\n",
      "['Autocor_length' 'Beyond1Std' 'CAR_mean' 'CAR_sigma' 'CAR_tau' 'Con'\n",
      " 'LinearTrend' 'MaxSlope' 'Mean' 'Meanvariance' 'MedianAbsDev' 'MedianBRP'\n",
      " 'PairSlopeTrend' 'PercentAmplitude' 'Q31' 'Rcs' 'Skew' 'SlottedA_length'\n",
      " 'SmallKurtosis' 'Std' 'StetsonK_AC']\n"
     ]
    },
    {
     "name": "stderr",
     "output_type": "stream",
     "text": [
      "/anaconda3/lib/python3.6/site-packages/ipykernel_launcher.py:118: RuntimeWarning: divide by zero encountered in double_scalars\n",
      "/anaconda3/lib/python3.6/site-packages/ipykernel_launcher.py:119: RuntimeWarning: divide by zero encountered in double_scalars\n",
      "/anaconda3/lib/python3.6/site-packages/statsmodels/tsa/stattools.py:572: FutureWarning: fft=True will become the default in a future version of statsmodels. To suppress this warning, explicitly set fft=False.\n",
      "  FutureWarning\n",
      "/anaconda3/lib/python3.6/site-packages/ipykernel_launcher.py:118: RuntimeWarning: divide by zero encountered in double_scalars\n",
      "/anaconda3/lib/python3.6/site-packages/ipykernel_launcher.py:119: RuntimeWarning: divide by zero encountered in double_scalars\n"
     ]
    },
    {
     "name": "stdout",
     "output_type": "stream",
     "text": [
      "['Autocor_length' 'Beyond1Std' 'CAR_mean' 'CAR_sigma' 'CAR_tau' 'Con'\n",
      " 'LinearTrend' 'MaxSlope' 'Mean' 'Meanvariance' 'MedianAbsDev' 'MedianBRP'\n",
      " 'PairSlopeTrend' 'PercentAmplitude' 'Q31' 'Rcs' 'Skew' 'SlottedA_length'\n",
      " 'SmallKurtosis' 'Std' 'StetsonK_AC']\n"
     ]
    },
    {
     "name": "stderr",
     "output_type": "stream",
     "text": [
      "/anaconda3/lib/python3.6/site-packages/statsmodels/tsa/stattools.py:572: FutureWarning: fft=True will become the default in a future version of statsmodels. To suppress this warning, explicitly set fft=False.\n",
      "  FutureWarning\n",
      "/anaconda3/lib/python3.6/site-packages/ipykernel_launcher.py:118: RuntimeWarning: divide by zero encountered in double_scalars\n",
      "/anaconda3/lib/python3.6/site-packages/ipykernel_launcher.py:119: RuntimeWarning: divide by zero encountered in double_scalars\n"
     ]
    },
    {
     "name": "stdout",
     "output_type": "stream",
     "text": [
      "['Autocor_length' 'Beyond1Std' 'CAR_mean' 'CAR_sigma' 'CAR_tau' 'Con'\n",
      " 'LinearTrend' 'MaxSlope' 'Mean' 'Meanvariance' 'MedianAbsDev' 'MedianBRP'\n",
      " 'PairSlopeTrend' 'PercentAmplitude' 'Q31' 'Rcs' 'Skew' 'SlottedA_length'\n",
      " 'SmallKurtosis' 'Std' 'StetsonK_AC']\n"
     ]
    },
    {
     "name": "stderr",
     "output_type": "stream",
     "text": [
      "/anaconda3/lib/python3.6/site-packages/feets/extractors/ext_max_slope.py:91: RuntimeWarning: divide by zero encountered in true_divide\n",
      "  slope = np.abs(magnitude[1:] - magnitude[:-1]) / (time[1:] - time[:-1])\n",
      "/anaconda3/lib/python3.6/site-packages/numpy/core/fromnumeric.py:3118: RuntimeWarning: Mean of empty slice.\n",
      "  out=out, **kwargs)\n",
      "/anaconda3/lib/python3.6/site-packages/numpy/core/_methods.py:85: RuntimeWarning: invalid value encountered in double_scalars\n",
      "  ret = ret.dtype.type(ret / rcount)\n",
      "/anaconda3/lib/python3.6/site-packages/numpy/core/_methods.py:140: RuntimeWarning: Degrees of freedom <= 0 for slice\n",
      "  keepdims=keepdims)\n",
      "/anaconda3/lib/python3.6/site-packages/numpy/core/_methods.py:110: RuntimeWarning: invalid value encountered in true_divide\n",
      "  arrmean, rcount, out=arrmean, casting='unsafe', subok=False)\n",
      "/anaconda3/lib/python3.6/site-packages/numpy/core/_methods.py:132: RuntimeWarning: invalid value encountered in double_scalars\n",
      "  ret = ret.dtype.type(ret / rcount)\n",
      "/anaconda3/lib/python3.6/site-packages/feets/extractors/ext_stetson.py:248: RuntimeWarning: divide by zero encountered in double_scalars\n",
      "  np.sum(np.abs(sigmap)) / np.sqrt(np.sum(sigmap ** 2)))\n",
      "/anaconda3/lib/python3.6/site-packages/feets/extractors/ext_stetson.py:248: RuntimeWarning: invalid value encountered in double_scalars\n",
      "  np.sum(np.abs(sigmap)) / np.sqrt(np.sum(sigmap ** 2)))\n",
      "/anaconda3/lib/python3.6/site-packages/ipykernel_launcher.py:118: RuntimeWarning: divide by zero encountered in double_scalars\n",
      "/anaconda3/lib/python3.6/site-packages/ipykernel_launcher.py:119: RuntimeWarning: divide by zero encountered in double_scalars\n"
     ]
    },
    {
     "name": "stdout",
     "output_type": "stream",
     "text": [
      "['Autocor_length' 'Beyond1Std' 'CAR_mean' 'CAR_sigma' 'CAR_tau' 'Con'\n",
      " 'LinearTrend' 'MaxSlope' 'Mean' 'Meanvariance' 'MedianAbsDev' 'MedianBRP'\n",
      " 'PairSlopeTrend' 'PercentAmplitude' 'Q31' 'Rcs' 'Skew' 'SlottedA_length'\n",
      " 'SmallKurtosis' 'Std' 'StetsonK_AC']\n"
     ]
    },
    {
     "name": "stderr",
     "output_type": "stream",
     "text": [
      "/anaconda3/lib/python3.6/site-packages/statsmodels/tsa/stattools.py:572: FutureWarning: fft=True will become the default in a future version of statsmodels. To suppress this warning, explicitly set fft=False.\n",
      "  FutureWarning\n",
      "/anaconda3/lib/python3.6/site-packages/numpy/core/fromnumeric.py:3118: RuntimeWarning: Mean of empty slice.\n",
      "  out=out, **kwargs)\n",
      "/anaconda3/lib/python3.6/site-packages/numpy/core/_methods.py:85: RuntimeWarning: invalid value encountered in double_scalars\n",
      "  ret = ret.dtype.type(ret / rcount)\n",
      "/anaconda3/lib/python3.6/site-packages/numpy/core/_methods.py:140: RuntimeWarning: Degrees of freedom <= 0 for slice\n",
      "  keepdims=keepdims)\n",
      "/anaconda3/lib/python3.6/site-packages/numpy/core/_methods.py:110: RuntimeWarning: invalid value encountered in true_divide\n",
      "  arrmean, rcount, out=arrmean, casting='unsafe', subok=False)\n",
      "/anaconda3/lib/python3.6/site-packages/numpy/core/_methods.py:132: RuntimeWarning: invalid value encountered in double_scalars\n",
      "  ret = ret.dtype.type(ret / rcount)\n",
      "/anaconda3/lib/python3.6/site-packages/feets/extractors/ext_stetson.py:248: RuntimeWarning: divide by zero encountered in double_scalars\n",
      "  np.sum(np.abs(sigmap)) / np.sqrt(np.sum(sigmap ** 2)))\n",
      "/anaconda3/lib/python3.6/site-packages/feets/extractors/ext_stetson.py:248: RuntimeWarning: invalid value encountered in double_scalars\n",
      "  np.sum(np.abs(sigmap)) / np.sqrt(np.sum(sigmap ** 2)))\n",
      "/anaconda3/lib/python3.6/site-packages/ipykernel_launcher.py:118: RuntimeWarning: divide by zero encountered in double_scalars\n",
      "/anaconda3/lib/python3.6/site-packages/ipykernel_launcher.py:119: RuntimeWarning: divide by zero encountered in double_scalars\n"
     ]
    },
    {
     "name": "stdout",
     "output_type": "stream",
     "text": [
      "['Autocor_length' 'Beyond1Std' 'CAR_mean' 'CAR_sigma' 'CAR_tau' 'Con'\n",
      " 'LinearTrend' 'MaxSlope' 'Mean' 'Meanvariance' 'MedianAbsDev' 'MedianBRP'\n",
      " 'PairSlopeTrend' 'PercentAmplitude' 'Q31' 'Rcs' 'Skew' 'SlottedA_length'\n",
      " 'SmallKurtosis' 'Std' 'StetsonK_AC']\n"
     ]
    },
    {
     "name": "stderr",
     "output_type": "stream",
     "text": [
      "/anaconda3/lib/python3.6/site-packages/feets/extractors/ext_max_slope.py:91: RuntimeWarning: divide by zero encountered in true_divide\n",
      "  slope = np.abs(magnitude[1:] - magnitude[:-1]) / (time[1:] - time[:-1])\n",
      "/anaconda3/lib/python3.6/site-packages/statsmodels/tsa/stattools.py:572: FutureWarning: fft=True will become the default in a future version of statsmodels. To suppress this warning, explicitly set fft=False.\n",
      "  FutureWarning\n",
      "/anaconda3/lib/python3.6/site-packages/numpy/core/fromnumeric.py:3118: RuntimeWarning: Mean of empty slice.\n",
      "  out=out, **kwargs)\n",
      "/anaconda3/lib/python3.6/site-packages/numpy/core/_methods.py:85: RuntimeWarning: invalid value encountered in double_scalars\n",
      "  ret = ret.dtype.type(ret / rcount)\n",
      "/anaconda3/lib/python3.6/site-packages/numpy/core/_methods.py:140: RuntimeWarning: Degrees of freedom <= 0 for slice\n",
      "  keepdims=keepdims)\n",
      "/anaconda3/lib/python3.6/site-packages/numpy/core/_methods.py:110: RuntimeWarning: invalid value encountered in true_divide\n",
      "  arrmean, rcount, out=arrmean, casting='unsafe', subok=False)\n",
      "/anaconda3/lib/python3.6/site-packages/numpy/core/_methods.py:132: RuntimeWarning: invalid value encountered in double_scalars\n",
      "  ret = ret.dtype.type(ret / rcount)\n",
      "/anaconda3/lib/python3.6/site-packages/feets/extractors/ext_stetson.py:248: RuntimeWarning: divide by zero encountered in double_scalars\n",
      "  np.sum(np.abs(sigmap)) / np.sqrt(np.sum(sigmap ** 2)))\n",
      "/anaconda3/lib/python3.6/site-packages/feets/extractors/ext_stetson.py:248: RuntimeWarning: invalid value encountered in double_scalars\n",
      "  np.sum(np.abs(sigmap)) / np.sqrt(np.sum(sigmap ** 2)))\n",
      "/anaconda3/lib/python3.6/site-packages/ipykernel_launcher.py:118: RuntimeWarning: divide by zero encountered in double_scalars\n",
      "/anaconda3/lib/python3.6/site-packages/ipykernel_launcher.py:119: RuntimeWarning: divide by zero encountered in double_scalars\n"
     ]
    },
    {
     "name": "stdout",
     "output_type": "stream",
     "text": [
      "['Autocor_length' 'Beyond1Std' 'CAR_mean' 'CAR_sigma' 'CAR_tau' 'Con'\n",
      " 'LinearTrend' 'MaxSlope' 'Mean' 'Meanvariance' 'MedianAbsDev' 'MedianBRP'\n",
      " 'PairSlopeTrend' 'PercentAmplitude' 'Q31' 'Rcs' 'Skew' 'SlottedA_length'\n",
      " 'SmallKurtosis' 'Std' 'StetsonK_AC']\n"
     ]
    },
    {
     "name": "stderr",
     "output_type": "stream",
     "text": [
      "/anaconda3/lib/python3.6/site-packages/feets/extractors/ext_max_slope.py:91: RuntimeWarning: divide by zero encountered in true_divide\n",
      "  slope = np.abs(magnitude[1:] - magnitude[:-1]) / (time[1:] - time[:-1])\n",
      "/anaconda3/lib/python3.6/site-packages/ipykernel_launcher.py:118: RuntimeWarning: divide by zero encountered in double_scalars\n",
      "/anaconda3/lib/python3.6/site-packages/ipykernel_launcher.py:119: RuntimeWarning: divide by zero encountered in double_scalars\n"
     ]
    },
    {
     "name": "stdout",
     "output_type": "stream",
     "text": [
      "['Autocor_length' 'Beyond1Std' 'CAR_mean' 'CAR_sigma' 'CAR_tau' 'Con'\n",
      " 'LinearTrend' 'MaxSlope' 'Mean' 'Meanvariance' 'MedianAbsDev' 'MedianBRP'\n",
      " 'PairSlopeTrend' 'PercentAmplitude' 'Q31' 'Rcs' 'Skew' 'SlottedA_length'\n",
      " 'SmallKurtosis' 'Std' 'StetsonK_AC']\n"
     ]
    },
    {
     "name": "stderr",
     "output_type": "stream",
     "text": [
      "/anaconda3/lib/python3.6/site-packages/statsmodels/tsa/stattools.py:572: FutureWarning: fft=True will become the default in a future version of statsmodels. To suppress this warning, explicitly set fft=False.\n",
      "  FutureWarning\n",
      "/anaconda3/lib/python3.6/site-packages/numpy/core/fromnumeric.py:3118: RuntimeWarning: Mean of empty slice.\n",
      "  out=out, **kwargs)\n",
      "/anaconda3/lib/python3.6/site-packages/numpy/core/_methods.py:85: RuntimeWarning: invalid value encountered in double_scalars\n",
      "  ret = ret.dtype.type(ret / rcount)\n",
      "/anaconda3/lib/python3.6/site-packages/numpy/core/_methods.py:140: RuntimeWarning: Degrees of freedom <= 0 for slice\n",
      "  keepdims=keepdims)\n",
      "/anaconda3/lib/python3.6/site-packages/numpy/core/_methods.py:110: RuntimeWarning: invalid value encountered in true_divide\n",
      "  arrmean, rcount, out=arrmean, casting='unsafe', subok=False)\n",
      "/anaconda3/lib/python3.6/site-packages/numpy/core/_methods.py:132: RuntimeWarning: invalid value encountered in double_scalars\n",
      "  ret = ret.dtype.type(ret / rcount)\n",
      "/anaconda3/lib/python3.6/site-packages/feets/extractors/ext_stetson.py:248: RuntimeWarning: divide by zero encountered in double_scalars\n",
      "  np.sum(np.abs(sigmap)) / np.sqrt(np.sum(sigmap ** 2)))\n",
      "/anaconda3/lib/python3.6/site-packages/feets/extractors/ext_stetson.py:248: RuntimeWarning: invalid value encountered in double_scalars\n",
      "  np.sum(np.abs(sigmap)) / np.sqrt(np.sum(sigmap ** 2)))\n",
      "/anaconda3/lib/python3.6/site-packages/ipykernel_launcher.py:118: RuntimeWarning: divide by zero encountered in double_scalars\n",
      "/anaconda3/lib/python3.6/site-packages/ipykernel_launcher.py:119: RuntimeWarning: divide by zero encountered in double_scalars\n",
      "/anaconda3/lib/python3.6/site-packages/feets/extractors/ext_max_slope.py:91: RuntimeWarning: divide by zero encountered in true_divide\n",
      "  slope = np.abs(magnitude[1:] - magnitude[:-1]) / (time[1:] - time[:-1])\n"
     ]
    },
    {
     "name": "stdout",
     "output_type": "stream",
     "text": [
      "['Autocor_length' 'Beyond1Std' 'CAR_mean' 'CAR_sigma' 'CAR_tau' 'Con'\n",
      " 'LinearTrend' 'MaxSlope' 'Mean' 'Meanvariance' 'MedianAbsDev' 'MedianBRP'\n",
      " 'PairSlopeTrend' 'PercentAmplitude' 'Q31' 'Rcs' 'Skew' 'SlottedA_length'\n",
      " 'SmallKurtosis' 'Std' 'StetsonK_AC']\n"
     ]
    },
    {
     "name": "stderr",
     "output_type": "stream",
     "text": [
      "/anaconda3/lib/python3.6/site-packages/statsmodels/tsa/stattools.py:572: FutureWarning: fft=True will become the default in a future version of statsmodels. To suppress this warning, explicitly set fft=False.\n",
      "  FutureWarning\n",
      "/anaconda3/lib/python3.6/site-packages/numpy/core/fromnumeric.py:3118: RuntimeWarning: Mean of empty slice.\n",
      "  out=out, **kwargs)\n",
      "/anaconda3/lib/python3.6/site-packages/numpy/core/_methods.py:85: RuntimeWarning: invalid value encountered in double_scalars\n",
      "  ret = ret.dtype.type(ret / rcount)\n",
      "/anaconda3/lib/python3.6/site-packages/numpy/core/_methods.py:140: RuntimeWarning: Degrees of freedom <= 0 for slice\n",
      "  keepdims=keepdims)\n",
      "/anaconda3/lib/python3.6/site-packages/numpy/core/_methods.py:110: RuntimeWarning: invalid value encountered in true_divide\n",
      "  arrmean, rcount, out=arrmean, casting='unsafe', subok=False)\n",
      "/anaconda3/lib/python3.6/site-packages/numpy/core/_methods.py:132: RuntimeWarning: invalid value encountered in double_scalars\n",
      "  ret = ret.dtype.type(ret / rcount)\n",
      "/anaconda3/lib/python3.6/site-packages/feets/extractors/ext_stetson.py:248: RuntimeWarning: divide by zero encountered in double_scalars\n",
      "  np.sum(np.abs(sigmap)) / np.sqrt(np.sum(sigmap ** 2)))\n",
      "/anaconda3/lib/python3.6/site-packages/feets/extractors/ext_stetson.py:248: RuntimeWarning: invalid value encountered in double_scalars\n",
      "  np.sum(np.abs(sigmap)) / np.sqrt(np.sum(sigmap ** 2)))\n",
      "/anaconda3/lib/python3.6/site-packages/ipykernel_launcher.py:118: RuntimeWarning: divide by zero encountered in double_scalars\n",
      "/anaconda3/lib/python3.6/site-packages/ipykernel_launcher.py:119: RuntimeWarning: divide by zero encountered in double_scalars\n"
     ]
    },
    {
     "name": "stdout",
     "output_type": "stream",
     "text": [
      "['Autocor_length' 'Beyond1Std' 'CAR_mean' 'CAR_sigma' 'CAR_tau' 'Con'\n",
      " 'LinearTrend' 'MaxSlope' 'Mean' 'Meanvariance' 'MedianAbsDev' 'MedianBRP'\n",
      " 'PairSlopeTrend' 'PercentAmplitude' 'Q31' 'Rcs' 'Skew' 'SlottedA_length'\n",
      " 'SmallKurtosis' 'Std' 'StetsonK_AC']\n"
     ]
    },
    {
     "name": "stderr",
     "output_type": "stream",
     "text": [
      "/anaconda3/lib/python3.6/site-packages/feets/extractors/ext_max_slope.py:91: RuntimeWarning: divide by zero encountered in true_divide\n",
      "  slope = np.abs(magnitude[1:] - magnitude[:-1]) / (time[1:] - time[:-1])\n",
      "/anaconda3/lib/python3.6/site-packages/ipykernel_launcher.py:118: RuntimeWarning: divide by zero encountered in double_scalars\n",
      "/anaconda3/lib/python3.6/site-packages/ipykernel_launcher.py:119: RuntimeWarning: divide by zero encountered in double_scalars\n"
     ]
    },
    {
     "name": "stdout",
     "output_type": "stream",
     "text": [
      "['Autocor_length' 'Beyond1Std' 'CAR_mean' 'CAR_sigma' 'CAR_tau' 'Con'\n",
      " 'LinearTrend' 'MaxSlope' 'Mean' 'Meanvariance' 'MedianAbsDev' 'MedianBRP'\n",
      " 'PairSlopeTrend' 'PercentAmplitude' 'Q31' 'Rcs' 'Skew' 'SlottedA_length'\n",
      " 'SmallKurtosis' 'Std' 'StetsonK_AC']\n"
     ]
    },
    {
     "name": "stderr",
     "output_type": "stream",
     "text": [
      "/anaconda3/lib/python3.6/site-packages/statsmodels/tsa/stattools.py:572: FutureWarning: fft=True will become the default in a future version of statsmodels. To suppress this warning, explicitly set fft=False.\n",
      "  FutureWarning\n",
      "/anaconda3/lib/python3.6/site-packages/numpy/core/fromnumeric.py:3118: RuntimeWarning: Mean of empty slice.\n",
      "  out=out, **kwargs)\n",
      "/anaconda3/lib/python3.6/site-packages/numpy/core/_methods.py:85: RuntimeWarning: invalid value encountered in double_scalars\n",
      "  ret = ret.dtype.type(ret / rcount)\n",
      "/anaconda3/lib/python3.6/site-packages/numpy/core/_methods.py:140: RuntimeWarning: Degrees of freedom <= 0 for slice\n",
      "  keepdims=keepdims)\n",
      "/anaconda3/lib/python3.6/site-packages/numpy/core/_methods.py:110: RuntimeWarning: invalid value encountered in true_divide\n",
      "  arrmean, rcount, out=arrmean, casting='unsafe', subok=False)\n",
      "/anaconda3/lib/python3.6/site-packages/numpy/core/_methods.py:132: RuntimeWarning: invalid value encountered in double_scalars\n",
      "  ret = ret.dtype.type(ret / rcount)\n",
      "/anaconda3/lib/python3.6/site-packages/feets/extractors/ext_stetson.py:248: RuntimeWarning: divide by zero encountered in double_scalars\n",
      "  np.sum(np.abs(sigmap)) / np.sqrt(np.sum(sigmap ** 2)))\n",
      "/anaconda3/lib/python3.6/site-packages/feets/extractors/ext_stetson.py:248: RuntimeWarning: invalid value encountered in double_scalars\n",
      "  np.sum(np.abs(sigmap)) / np.sqrt(np.sum(sigmap ** 2)))\n",
      "/anaconda3/lib/python3.6/site-packages/ipykernel_launcher.py:118: RuntimeWarning: divide by zero encountered in double_scalars\n",
      "/anaconda3/lib/python3.6/site-packages/ipykernel_launcher.py:119: RuntimeWarning: divide by zero encountered in double_scalars\n"
     ]
    },
    {
     "name": "stdout",
     "output_type": "stream",
     "text": [
      "['Autocor_length' 'Beyond1Std' 'CAR_mean' 'CAR_sigma' 'CAR_tau' 'Con'\n",
      " 'LinearTrend' 'MaxSlope' 'Mean' 'Meanvariance' 'MedianAbsDev' 'MedianBRP'\n",
      " 'PairSlopeTrend' 'PercentAmplitude' 'Q31' 'Rcs' 'Skew' 'SlottedA_length'\n",
      " 'SmallKurtosis' 'Std' 'StetsonK_AC']\n"
     ]
    },
    {
     "name": "stderr",
     "output_type": "stream",
     "text": [
      "/anaconda3/lib/python3.6/site-packages/statsmodels/tsa/stattools.py:572: FutureWarning: fft=True will become the default in a future version of statsmodels. To suppress this warning, explicitly set fft=False.\n",
      "  FutureWarning\n",
      "/anaconda3/lib/python3.6/site-packages/ipykernel_launcher.py:118: RuntimeWarning: divide by zero encountered in double_scalars\n",
      "/anaconda3/lib/python3.6/site-packages/ipykernel_launcher.py:119: RuntimeWarning: divide by zero encountered in double_scalars\n"
     ]
    },
    {
     "name": "stdout",
     "output_type": "stream",
     "text": [
      "['Autocor_length' 'Beyond1Std' 'CAR_mean' 'CAR_sigma' 'CAR_tau' 'Con'\n",
      " 'LinearTrend' 'MaxSlope' 'Mean' 'Meanvariance' 'MedianAbsDev' 'MedianBRP'\n",
      " 'PairSlopeTrend' 'PercentAmplitude' 'Q31' 'Rcs' 'Skew' 'SlottedA_length'\n",
      " 'SmallKurtosis' 'Std' 'StetsonK_AC']\n"
     ]
    },
    {
     "name": "stderr",
     "output_type": "stream",
     "text": [
      "/anaconda3/lib/python3.6/site-packages/statsmodels/tsa/stattools.py:572: FutureWarning: fft=True will become the default in a future version of statsmodels. To suppress this warning, explicitly set fft=False.\n",
      "  FutureWarning\n",
      "/anaconda3/lib/python3.6/site-packages/ipykernel_launcher.py:118: RuntimeWarning: divide by zero encountered in double_scalars\n",
      "/anaconda3/lib/python3.6/site-packages/ipykernel_launcher.py:119: RuntimeWarning: divide by zero encountered in double_scalars\n"
     ]
    },
    {
     "name": "stdout",
     "output_type": "stream",
     "text": [
      "['Autocor_length' 'Beyond1Std' 'CAR_mean' 'CAR_sigma' 'CAR_tau' 'Con'\n",
      " 'LinearTrend' 'MaxSlope' 'Mean' 'Meanvariance' 'MedianAbsDev' 'MedianBRP'\n",
      " 'PairSlopeTrend' 'PercentAmplitude' 'Q31' 'Rcs' 'Skew' 'SlottedA_length'\n",
      " 'SmallKurtosis' 'Std' 'StetsonK_AC']\n"
     ]
    },
    {
     "name": "stderr",
     "output_type": "stream",
     "text": [
      "/anaconda3/lib/python3.6/site-packages/statsmodels/tsa/stattools.py:572: FutureWarning: fft=True will become the default in a future version of statsmodels. To suppress this warning, explicitly set fft=False.\n",
      "  FutureWarning\n",
      "/anaconda3/lib/python3.6/site-packages/numpy/core/fromnumeric.py:3118: RuntimeWarning: Mean of empty slice.\n",
      "  out=out, **kwargs)\n",
      "/anaconda3/lib/python3.6/site-packages/numpy/core/_methods.py:85: RuntimeWarning: invalid value encountered in double_scalars\n",
      "  ret = ret.dtype.type(ret / rcount)\n",
      "/anaconda3/lib/python3.6/site-packages/numpy/core/_methods.py:140: RuntimeWarning: Degrees of freedom <= 0 for slice\n",
      "  keepdims=keepdims)\n",
      "/anaconda3/lib/python3.6/site-packages/numpy/core/_methods.py:110: RuntimeWarning: invalid value encountered in true_divide\n",
      "  arrmean, rcount, out=arrmean, casting='unsafe', subok=False)\n",
      "/anaconda3/lib/python3.6/site-packages/numpy/core/_methods.py:132: RuntimeWarning: invalid value encountered in double_scalars\n",
      "  ret = ret.dtype.type(ret / rcount)\n",
      "/anaconda3/lib/python3.6/site-packages/feets/extractors/ext_stetson.py:248: RuntimeWarning: divide by zero encountered in double_scalars\n",
      "  np.sum(np.abs(sigmap)) / np.sqrt(np.sum(sigmap ** 2)))\n",
      "/anaconda3/lib/python3.6/site-packages/feets/extractors/ext_stetson.py:248: RuntimeWarning: invalid value encountered in double_scalars\n",
      "  np.sum(np.abs(sigmap)) / np.sqrt(np.sum(sigmap ** 2)))\n",
      "/anaconda3/lib/python3.6/site-packages/ipykernel_launcher.py:118: RuntimeWarning: divide by zero encountered in double_scalars\n",
      "/anaconda3/lib/python3.6/site-packages/ipykernel_launcher.py:119: RuntimeWarning: divide by zero encountered in double_scalars\n",
      "/anaconda3/lib/python3.6/site-packages/feets/extractors/ext_max_slope.py:91: RuntimeWarning: divide by zero encountered in true_divide\n",
      "  slope = np.abs(magnitude[1:] - magnitude[:-1]) / (time[1:] - time[:-1])\n"
     ]
    },
    {
     "name": "stdout",
     "output_type": "stream",
     "text": [
      "['Autocor_length' 'Beyond1Std' 'CAR_mean' 'CAR_sigma' 'CAR_tau' 'Con'\n",
      " 'LinearTrend' 'MaxSlope' 'Mean' 'Meanvariance' 'MedianAbsDev' 'MedianBRP'\n",
      " 'PairSlopeTrend' 'PercentAmplitude' 'Q31' 'Rcs' 'Skew' 'SlottedA_length'\n",
      " 'SmallKurtosis' 'Std' 'StetsonK_AC']\n"
     ]
    },
    {
     "name": "stderr",
     "output_type": "stream",
     "text": [
      "/anaconda3/lib/python3.6/site-packages/statsmodels/tsa/stattools.py:572: FutureWarning: fft=True will become the default in a future version of statsmodels. To suppress this warning, explicitly set fft=False.\n",
      "  FutureWarning\n",
      "/anaconda3/lib/python3.6/site-packages/ipykernel_launcher.py:118: RuntimeWarning: divide by zero encountered in double_scalars\n",
      "/anaconda3/lib/python3.6/site-packages/ipykernel_launcher.py:119: RuntimeWarning: divide by zero encountered in double_scalars\n"
     ]
    },
    {
     "name": "stdout",
     "output_type": "stream",
     "text": [
      "['Autocor_length' 'Beyond1Std' 'CAR_mean' 'CAR_sigma' 'CAR_tau' 'Con'\n",
      " 'LinearTrend' 'MaxSlope' 'Mean' 'Meanvariance' 'MedianAbsDev' 'MedianBRP'\n",
      " 'PairSlopeTrend' 'PercentAmplitude' 'Q31' 'Rcs' 'Skew' 'SlottedA_length'\n",
      " 'SmallKurtosis' 'Std' 'StetsonK_AC']\n"
     ]
    },
    {
     "name": "stderr",
     "output_type": "stream",
     "text": [
      "/anaconda3/lib/python3.6/site-packages/statsmodels/tsa/stattools.py:572: FutureWarning: fft=True will become the default in a future version of statsmodels. To suppress this warning, explicitly set fft=False.\n",
      "  FutureWarning\n",
      "/anaconda3/lib/python3.6/site-packages/ipykernel_launcher.py:118: RuntimeWarning: divide by zero encountered in double_scalars\n",
      "/anaconda3/lib/python3.6/site-packages/ipykernel_launcher.py:119: RuntimeWarning: divide by zero encountered in double_scalars\n"
     ]
    },
    {
     "name": "stdout",
     "output_type": "stream",
     "text": [
      "['Autocor_length' 'Beyond1Std' 'CAR_mean' 'CAR_sigma' 'CAR_tau' 'Con'\n",
      " 'LinearTrend' 'MaxSlope' 'Mean' 'Meanvariance' 'MedianAbsDev' 'MedianBRP'\n",
      " 'PairSlopeTrend' 'PercentAmplitude' 'Q31' 'Rcs' 'Skew' 'SlottedA_length'\n",
      " 'SmallKurtosis' 'Std' 'StetsonK_AC']\n"
     ]
    },
    {
     "name": "stderr",
     "output_type": "stream",
     "text": [
      "/anaconda3/lib/python3.6/site-packages/feets/extractors/ext_max_slope.py:91: RuntimeWarning: divide by zero encountered in true_divide\n",
      "  slope = np.abs(magnitude[1:] - magnitude[:-1]) / (time[1:] - time[:-1])\n",
      "/anaconda3/lib/python3.6/site-packages/numpy/core/fromnumeric.py:3118: RuntimeWarning: Mean of empty slice.\n",
      "  out=out, **kwargs)\n",
      "/anaconda3/lib/python3.6/site-packages/numpy/core/_methods.py:85: RuntimeWarning: invalid value encountered in double_scalars\n",
      "  ret = ret.dtype.type(ret / rcount)\n",
      "/anaconda3/lib/python3.6/site-packages/numpy/core/_methods.py:140: RuntimeWarning: Degrees of freedom <= 0 for slice\n",
      "  keepdims=keepdims)\n",
      "/anaconda3/lib/python3.6/site-packages/numpy/core/_methods.py:110: RuntimeWarning: invalid value encountered in true_divide\n",
      "  arrmean, rcount, out=arrmean, casting='unsafe', subok=False)\n",
      "/anaconda3/lib/python3.6/site-packages/numpy/core/_methods.py:132: RuntimeWarning: invalid value encountered in double_scalars\n",
      "  ret = ret.dtype.type(ret / rcount)\n",
      "/anaconda3/lib/python3.6/site-packages/feets/extractors/ext_stetson.py:248: RuntimeWarning: divide by zero encountered in double_scalars\n",
      "  np.sum(np.abs(sigmap)) / np.sqrt(np.sum(sigmap ** 2)))\n",
      "/anaconda3/lib/python3.6/site-packages/feets/extractors/ext_stetson.py:248: RuntimeWarning: invalid value encountered in double_scalars\n",
      "  np.sum(np.abs(sigmap)) / np.sqrt(np.sum(sigmap ** 2)))\n",
      "/anaconda3/lib/python3.6/site-packages/ipykernel_launcher.py:118: RuntimeWarning: divide by zero encountered in double_scalars\n",
      "/anaconda3/lib/python3.6/site-packages/ipykernel_launcher.py:119: RuntimeWarning: divide by zero encountered in double_scalars\n"
     ]
    },
    {
     "name": "stdout",
     "output_type": "stream",
     "text": [
      "['Autocor_length' 'Beyond1Std' 'CAR_mean' 'CAR_sigma' 'CAR_tau' 'Con'\n",
      " 'LinearTrend' 'MaxSlope' 'Mean' 'Meanvariance' 'MedianAbsDev' 'MedianBRP'\n",
      " 'PairSlopeTrend' 'PercentAmplitude' 'Q31' 'Rcs' 'Skew' 'SlottedA_length'\n",
      " 'SmallKurtosis' 'Std' 'StetsonK_AC']\n"
     ]
    },
    {
     "name": "stderr",
     "output_type": "stream",
     "text": [
      "/anaconda3/lib/python3.6/site-packages/feets/extractors/ext_max_slope.py:91: RuntimeWarning: divide by zero encountered in true_divide\n",
      "  slope = np.abs(magnitude[1:] - magnitude[:-1]) / (time[1:] - time[:-1])\n",
      "/anaconda3/lib/python3.6/site-packages/statsmodels/tsa/stattools.py:572: FutureWarning: fft=True will become the default in a future version of statsmodels. To suppress this warning, explicitly set fft=False.\n",
      "  FutureWarning\n",
      "/anaconda3/lib/python3.6/site-packages/numpy/core/fromnumeric.py:3118: RuntimeWarning: Mean of empty slice.\n",
      "  out=out, **kwargs)\n",
      "/anaconda3/lib/python3.6/site-packages/numpy/core/_methods.py:85: RuntimeWarning: invalid value encountered in double_scalars\n",
      "  ret = ret.dtype.type(ret / rcount)\n",
      "/anaconda3/lib/python3.6/site-packages/numpy/core/_methods.py:140: RuntimeWarning: Degrees of freedom <= 0 for slice\n",
      "  keepdims=keepdims)\n",
      "/anaconda3/lib/python3.6/site-packages/numpy/core/_methods.py:110: RuntimeWarning: invalid value encountered in true_divide\n",
      "  arrmean, rcount, out=arrmean, casting='unsafe', subok=False)\n",
      "/anaconda3/lib/python3.6/site-packages/numpy/core/_methods.py:132: RuntimeWarning: invalid value encountered in double_scalars\n",
      "  ret = ret.dtype.type(ret / rcount)\n",
      "/anaconda3/lib/python3.6/site-packages/feets/extractors/ext_stetson.py:248: RuntimeWarning: divide by zero encountered in double_scalars\n",
      "  np.sum(np.abs(sigmap)) / np.sqrt(np.sum(sigmap ** 2)))\n",
      "/anaconda3/lib/python3.6/site-packages/feets/extractors/ext_stetson.py:248: RuntimeWarning: invalid value encountered in double_scalars\n",
      "  np.sum(np.abs(sigmap)) / np.sqrt(np.sum(sigmap ** 2)))\n",
      "/anaconda3/lib/python3.6/site-packages/ipykernel_launcher.py:118: RuntimeWarning: divide by zero encountered in double_scalars\n",
      "/anaconda3/lib/python3.6/site-packages/ipykernel_launcher.py:119: RuntimeWarning: divide by zero encountered in double_scalars\n"
     ]
    },
    {
     "name": "stdout",
     "output_type": "stream",
     "text": [
      "['Autocor_length' 'Beyond1Std' 'CAR_mean' 'CAR_sigma' 'CAR_tau' 'Con'\n",
      " 'LinearTrend' 'MaxSlope' 'Mean' 'Meanvariance' 'MedianAbsDev' 'MedianBRP'\n",
      " 'PairSlopeTrend' 'PercentAmplitude' 'Q31' 'Rcs' 'Skew' 'SlottedA_length'\n",
      " 'SmallKurtosis' 'Std' 'StetsonK_AC']\n"
     ]
    },
    {
     "name": "stderr",
     "output_type": "stream",
     "text": [
      "/anaconda3/lib/python3.6/site-packages/feets/extractors/ext_max_slope.py:91: RuntimeWarning: divide by zero encountered in true_divide\n",
      "  slope = np.abs(magnitude[1:] - magnitude[:-1]) / (time[1:] - time[:-1])\n",
      "/anaconda3/lib/python3.6/site-packages/numpy/core/fromnumeric.py:3118: RuntimeWarning: Mean of empty slice.\n",
      "  out=out, **kwargs)\n",
      "/anaconda3/lib/python3.6/site-packages/numpy/core/_methods.py:85: RuntimeWarning: invalid value encountered in double_scalars\n",
      "  ret = ret.dtype.type(ret / rcount)\n",
      "/anaconda3/lib/python3.6/site-packages/numpy/core/_methods.py:140: RuntimeWarning: Degrees of freedom <= 0 for slice\n",
      "  keepdims=keepdims)\n",
      "/anaconda3/lib/python3.6/site-packages/numpy/core/_methods.py:110: RuntimeWarning: invalid value encountered in true_divide\n",
      "  arrmean, rcount, out=arrmean, casting='unsafe', subok=False)\n",
      "/anaconda3/lib/python3.6/site-packages/numpy/core/_methods.py:132: RuntimeWarning: invalid value encountered in double_scalars\n",
      "  ret = ret.dtype.type(ret / rcount)\n",
      "/anaconda3/lib/python3.6/site-packages/feets/extractors/ext_stetson.py:248: RuntimeWarning: divide by zero encountered in double_scalars\n",
      "  np.sum(np.abs(sigmap)) / np.sqrt(np.sum(sigmap ** 2)))\n",
      "/anaconda3/lib/python3.6/site-packages/feets/extractors/ext_stetson.py:248: RuntimeWarning: invalid value encountered in double_scalars\n",
      "  np.sum(np.abs(sigmap)) / np.sqrt(np.sum(sigmap ** 2)))\n",
      "/anaconda3/lib/python3.6/site-packages/ipykernel_launcher.py:118: RuntimeWarning: divide by zero encountered in double_scalars\n",
      "/anaconda3/lib/python3.6/site-packages/ipykernel_launcher.py:119: RuntimeWarning: divide by zero encountered in double_scalars\n"
     ]
    },
    {
     "name": "stdout",
     "output_type": "stream",
     "text": [
      "['Autocor_length' 'Beyond1Std' 'CAR_mean' 'CAR_sigma' 'CAR_tau' 'Con'\n",
      " 'LinearTrend' 'MaxSlope' 'Mean' 'Meanvariance' 'MedianAbsDev' 'MedianBRP'\n",
      " 'PairSlopeTrend' 'PercentAmplitude' 'Q31' 'Rcs' 'Skew' 'SlottedA_length'\n",
      " 'SmallKurtosis' 'Std' 'StetsonK_AC']\n"
     ]
    },
    {
     "name": "stderr",
     "output_type": "stream",
     "text": [
      "/anaconda3/lib/python3.6/site-packages/statsmodels/tsa/stattools.py:572: FutureWarning: fft=True will become the default in a future version of statsmodels. To suppress this warning, explicitly set fft=False.\n",
      "  FutureWarning\n",
      "/anaconda3/lib/python3.6/site-packages/ipykernel_launcher.py:118: RuntimeWarning: divide by zero encountered in double_scalars\n",
      "/anaconda3/lib/python3.6/site-packages/ipykernel_launcher.py:119: RuntimeWarning: divide by zero encountered in double_scalars\n"
     ]
    },
    {
     "name": "stdout",
     "output_type": "stream",
     "text": [
      "['Autocor_length' 'Beyond1Std' 'CAR_mean' 'CAR_sigma' 'CAR_tau' 'Con'\n",
      " 'LinearTrend' 'MaxSlope' 'Mean' 'Meanvariance' 'MedianAbsDev' 'MedianBRP'\n",
      " 'PairSlopeTrend' 'PercentAmplitude' 'Q31' 'Rcs' 'Skew' 'SlottedA_length'\n",
      " 'SmallKurtosis' 'Std' 'StetsonK_AC']\n",
      "['Autocor_length' 'Beyond1Std' 'CAR_mean' 'CAR_sigma' 'CAR_tau' 'Con'\n",
      " 'LinearTrend' 'MaxSlope' 'Mean' 'Meanvariance' 'MedianAbsDev' 'MedianBRP'\n",
      " 'PairSlopeTrend' 'PercentAmplitude' 'Q31' 'Rcs' 'Skew' 'SlottedA_length'\n",
      " 'SmallKurtosis' 'Std' 'StetsonK_AC']\n"
     ]
    },
    {
     "name": "stderr",
     "output_type": "stream",
     "text": [
      "/anaconda3/lib/python3.6/site-packages/ipykernel_launcher.py:118: RuntimeWarning: divide by zero encountered in double_scalars\n",
      "/anaconda3/lib/python3.6/site-packages/ipykernel_launcher.py:119: RuntimeWarning: divide by zero encountered in double_scalars\n",
      "/anaconda3/lib/python3.6/site-packages/statsmodels/tsa/stattools.py:572: FutureWarning: fft=True will become the default in a future version of statsmodels. To suppress this warning, explicitly set fft=False.\n",
      "  FutureWarning\n",
      "/anaconda3/lib/python3.6/site-packages/feets/extractors/ext_max_slope.py:91: RuntimeWarning: divide by zero encountered in true_divide\n",
      "  slope = np.abs(magnitude[1:] - magnitude[:-1]) / (time[1:] - time[:-1])\n",
      "/anaconda3/lib/python3.6/site-packages/numpy/core/fromnumeric.py:3118: RuntimeWarning: Mean of empty slice.\n",
      "  out=out, **kwargs)\n",
      "/anaconda3/lib/python3.6/site-packages/numpy/core/_methods.py:85: RuntimeWarning: invalid value encountered in double_scalars\n",
      "  ret = ret.dtype.type(ret / rcount)\n",
      "/anaconda3/lib/python3.6/site-packages/numpy/core/_methods.py:140: RuntimeWarning: Degrees of freedom <= 0 for slice\n",
      "  keepdims=keepdims)\n",
      "/anaconda3/lib/python3.6/site-packages/numpy/core/_methods.py:110: RuntimeWarning: invalid value encountered in true_divide\n",
      "  arrmean, rcount, out=arrmean, casting='unsafe', subok=False)\n",
      "/anaconda3/lib/python3.6/site-packages/numpy/core/_methods.py:132: RuntimeWarning: invalid value encountered in double_scalars\n",
      "  ret = ret.dtype.type(ret / rcount)\n",
      "/anaconda3/lib/python3.6/site-packages/feets/extractors/ext_stetson.py:248: RuntimeWarning: divide by zero encountered in double_scalars\n",
      "  np.sum(np.abs(sigmap)) / np.sqrt(np.sum(sigmap ** 2)))\n",
      "/anaconda3/lib/python3.6/site-packages/feets/extractors/ext_stetson.py:248: RuntimeWarning: invalid value encountered in double_scalars\n",
      "  np.sum(np.abs(sigmap)) / np.sqrt(np.sum(sigmap ** 2)))\n",
      "/anaconda3/lib/python3.6/site-packages/ipykernel_launcher.py:118: RuntimeWarning: divide by zero encountered in double_scalars\n",
      "/anaconda3/lib/python3.6/site-packages/ipykernel_launcher.py:119: RuntimeWarning: divide by zero encountered in double_scalars\n"
     ]
    },
    {
     "name": "stdout",
     "output_type": "stream",
     "text": [
      "['Autocor_length' 'Beyond1Std' 'CAR_mean' 'CAR_sigma' 'CAR_tau' 'Con'\n",
      " 'LinearTrend' 'MaxSlope' 'Mean' 'Meanvariance' 'MedianAbsDev' 'MedianBRP'\n",
      " 'PairSlopeTrend' 'PercentAmplitude' 'Q31' 'Rcs' 'Skew' 'SlottedA_length'\n",
      " 'SmallKurtosis' 'Std' 'StetsonK_AC']\n"
     ]
    },
    {
     "name": "stderr",
     "output_type": "stream",
     "text": [
      "/anaconda3/lib/python3.6/site-packages/statsmodels/tsa/stattools.py:572: FutureWarning: fft=True will become the default in a future version of statsmodels. To suppress this warning, explicitly set fft=False.\n",
      "  FutureWarning\n",
      "/anaconda3/lib/python3.6/site-packages/feets/extractors/ext_max_slope.py:91: RuntimeWarning: divide by zero encountered in true_divide\n",
      "  slope = np.abs(magnitude[1:] - magnitude[:-1]) / (time[1:] - time[:-1])\n",
      "/anaconda3/lib/python3.6/site-packages/numpy/core/fromnumeric.py:3118: RuntimeWarning: Mean of empty slice.\n",
      "  out=out, **kwargs)\n",
      "/anaconda3/lib/python3.6/site-packages/numpy/core/_methods.py:85: RuntimeWarning: invalid value encountered in double_scalars\n",
      "  ret = ret.dtype.type(ret / rcount)\n",
      "/anaconda3/lib/python3.6/site-packages/numpy/core/_methods.py:140: RuntimeWarning: Degrees of freedom <= 0 for slice\n",
      "  keepdims=keepdims)\n",
      "/anaconda3/lib/python3.6/site-packages/numpy/core/_methods.py:110: RuntimeWarning: invalid value encountered in true_divide\n",
      "  arrmean, rcount, out=arrmean, casting='unsafe', subok=False)\n",
      "/anaconda3/lib/python3.6/site-packages/numpy/core/_methods.py:132: RuntimeWarning: invalid value encountered in double_scalars\n",
      "  ret = ret.dtype.type(ret / rcount)\n",
      "/anaconda3/lib/python3.6/site-packages/feets/extractors/ext_stetson.py:248: RuntimeWarning: divide by zero encountered in double_scalars\n",
      "  np.sum(np.abs(sigmap)) / np.sqrt(np.sum(sigmap ** 2)))\n",
      "/anaconda3/lib/python3.6/site-packages/feets/extractors/ext_stetson.py:248: RuntimeWarning: invalid value encountered in double_scalars\n",
      "  np.sum(np.abs(sigmap)) / np.sqrt(np.sum(sigmap ** 2)))\n",
      "/anaconda3/lib/python3.6/site-packages/ipykernel_launcher.py:118: RuntimeWarning: divide by zero encountered in double_scalars\n",
      "/anaconda3/lib/python3.6/site-packages/ipykernel_launcher.py:119: RuntimeWarning: divide by zero encountered in double_scalars\n"
     ]
    },
    {
     "name": "stdout",
     "output_type": "stream",
     "text": [
      "['Autocor_length' 'Beyond1Std' 'CAR_mean' 'CAR_sigma' 'CAR_tau' 'Con'\n",
      " 'LinearTrend' 'MaxSlope' 'Mean' 'Meanvariance' 'MedianAbsDev' 'MedianBRP'\n",
      " 'PairSlopeTrend' 'PercentAmplitude' 'Q31' 'Rcs' 'Skew' 'SlottedA_length'\n",
      " 'SmallKurtosis' 'Std' 'StetsonK_AC']\n"
     ]
    },
    {
     "name": "stderr",
     "output_type": "stream",
     "text": [
      "/anaconda3/lib/python3.6/site-packages/statsmodels/tsa/stattools.py:572: FutureWarning: fft=True will become the default in a future version of statsmodels. To suppress this warning, explicitly set fft=False.\n",
      "  FutureWarning\n",
      "/anaconda3/lib/python3.6/site-packages/feets/extractors/ext_max_slope.py:91: RuntimeWarning: divide by zero encountered in true_divide\n",
      "  slope = np.abs(magnitude[1:] - magnitude[:-1]) / (time[1:] - time[:-1])\n",
      "/anaconda3/lib/python3.6/site-packages/numpy/core/fromnumeric.py:3118: RuntimeWarning: Mean of empty slice.\n",
      "  out=out, **kwargs)\n",
      "/anaconda3/lib/python3.6/site-packages/numpy/core/_methods.py:85: RuntimeWarning: invalid value encountered in double_scalars\n",
      "  ret = ret.dtype.type(ret / rcount)\n",
      "/anaconda3/lib/python3.6/site-packages/numpy/core/_methods.py:140: RuntimeWarning: Degrees of freedom <= 0 for slice\n",
      "  keepdims=keepdims)\n",
      "/anaconda3/lib/python3.6/site-packages/numpy/core/_methods.py:110: RuntimeWarning: invalid value encountered in true_divide\n",
      "  arrmean, rcount, out=arrmean, casting='unsafe', subok=False)\n",
      "/anaconda3/lib/python3.6/site-packages/numpy/core/_methods.py:132: RuntimeWarning: invalid value encountered in double_scalars\n",
      "  ret = ret.dtype.type(ret / rcount)\n",
      "/anaconda3/lib/python3.6/site-packages/feets/extractors/ext_stetson.py:248: RuntimeWarning: divide by zero encountered in double_scalars\n",
      "  np.sum(np.abs(sigmap)) / np.sqrt(np.sum(sigmap ** 2)))\n",
      "/anaconda3/lib/python3.6/site-packages/feets/extractors/ext_stetson.py:248: RuntimeWarning: invalid value encountered in double_scalars\n",
      "  np.sum(np.abs(sigmap)) / np.sqrt(np.sum(sigmap ** 2)))\n",
      "/anaconda3/lib/python3.6/site-packages/ipykernel_launcher.py:118: RuntimeWarning: divide by zero encountered in double_scalars\n",
      "/anaconda3/lib/python3.6/site-packages/ipykernel_launcher.py:119: RuntimeWarning: divide by zero encountered in double_scalars\n"
     ]
    },
    {
     "name": "stdout",
     "output_type": "stream",
     "text": [
      "['Autocor_length' 'Beyond1Std' 'CAR_mean' 'CAR_sigma' 'CAR_tau' 'Con'\n",
      " 'LinearTrend' 'MaxSlope' 'Mean' 'Meanvariance' 'MedianAbsDev' 'MedianBRP'\n",
      " 'PairSlopeTrend' 'PercentAmplitude' 'Q31' 'Rcs' 'Skew' 'SlottedA_length'\n",
      " 'SmallKurtosis' 'Std' 'StetsonK_AC']\n"
     ]
    },
    {
     "name": "stderr",
     "output_type": "stream",
     "text": [
      "/anaconda3/lib/python3.6/site-packages/statsmodels/tsa/stattools.py:572: FutureWarning: fft=True will become the default in a future version of statsmodels. To suppress this warning, explicitly set fft=False.\n",
      "  FutureWarning\n",
      "/anaconda3/lib/python3.6/site-packages/ipykernel_launcher.py:118: RuntimeWarning: divide by zero encountered in double_scalars\n",
      "/anaconda3/lib/python3.6/site-packages/ipykernel_launcher.py:119: RuntimeWarning: divide by zero encountered in double_scalars\n"
     ]
    },
    {
     "name": "stdout",
     "output_type": "stream",
     "text": [
      "['Autocor_length' 'Beyond1Std' 'CAR_mean' 'CAR_sigma' 'CAR_tau' 'Con'\n",
      " 'LinearTrend' 'MaxSlope' 'Mean' 'Meanvariance' 'MedianAbsDev' 'MedianBRP'\n",
      " 'PairSlopeTrend' 'PercentAmplitude' 'Q31' 'Rcs' 'Skew' 'SlottedA_length'\n",
      " 'SmallKurtosis' 'Std' 'StetsonK_AC']\n"
     ]
    },
    {
     "name": "stderr",
     "output_type": "stream",
     "text": [
      "/anaconda3/lib/python3.6/site-packages/statsmodels/tsa/stattools.py:572: FutureWarning: fft=True will become the default in a future version of statsmodels. To suppress this warning, explicitly set fft=False.\n",
      "  FutureWarning\n",
      "/anaconda3/lib/python3.6/site-packages/ipykernel_launcher.py:118: RuntimeWarning: divide by zero encountered in double_scalars\n",
      "/anaconda3/lib/python3.6/site-packages/ipykernel_launcher.py:119: RuntimeWarning: divide by zero encountered in double_scalars\n"
     ]
    },
    {
     "name": "stdout",
     "output_type": "stream",
     "text": [
      "['Autocor_length' 'Beyond1Std' 'CAR_mean' 'CAR_sigma' 'CAR_tau' 'Con'\n",
      " 'LinearTrend' 'MaxSlope' 'Mean' 'Meanvariance' 'MedianAbsDev' 'MedianBRP'\n",
      " 'PairSlopeTrend' 'PercentAmplitude' 'Q31' 'Rcs' 'Skew' 'SlottedA_length'\n",
      " 'SmallKurtosis' 'Std' 'StetsonK_AC']\n"
     ]
    },
    {
     "name": "stderr",
     "output_type": "stream",
     "text": [
      "/anaconda3/lib/python3.6/site-packages/feets/extractors/ext_max_slope.py:91: RuntimeWarning: divide by zero encountered in true_divide\n",
      "  slope = np.abs(magnitude[1:] - magnitude[:-1]) / (time[1:] - time[:-1])\n",
      "/anaconda3/lib/python3.6/site-packages/statsmodels/tsa/stattools.py:572: FutureWarning: fft=True will become the default in a future version of statsmodels. To suppress this warning, explicitly set fft=False.\n",
      "  FutureWarning\n",
      "/anaconda3/lib/python3.6/site-packages/ipykernel_launcher.py:118: RuntimeWarning: divide by zero encountered in double_scalars\n",
      "/anaconda3/lib/python3.6/site-packages/ipykernel_launcher.py:119: RuntimeWarning: divide by zero encountered in double_scalars\n",
      "/anaconda3/lib/python3.6/site-packages/numpy/core/fromnumeric.py:3118: RuntimeWarning: Mean of empty slice.\n",
      "  out=out, **kwargs)\n",
      "/anaconda3/lib/python3.6/site-packages/numpy/core/_methods.py:85: RuntimeWarning: invalid value encountered in double_scalars\n",
      "  ret = ret.dtype.type(ret / rcount)\n",
      "/anaconda3/lib/python3.6/site-packages/numpy/core/_methods.py:140: RuntimeWarning: Degrees of freedom <= 0 for slice\n",
      "  keepdims=keepdims)\n",
      "/anaconda3/lib/python3.6/site-packages/numpy/core/_methods.py:110: RuntimeWarning: invalid value encountered in true_divide\n",
      "  arrmean, rcount, out=arrmean, casting='unsafe', subok=False)\n",
      "/anaconda3/lib/python3.6/site-packages/numpy/core/_methods.py:132: RuntimeWarning: invalid value encountered in double_scalars\n",
      "  ret = ret.dtype.type(ret / rcount)\n",
      "/anaconda3/lib/python3.6/site-packages/feets/extractors/ext_stetson.py:248: RuntimeWarning: divide by zero encountered in double_scalars\n",
      "  np.sum(np.abs(sigmap)) / np.sqrt(np.sum(sigmap ** 2)))\n",
      "/anaconda3/lib/python3.6/site-packages/feets/extractors/ext_stetson.py:248: RuntimeWarning: invalid value encountered in double_scalars\n",
      "  np.sum(np.abs(sigmap)) / np.sqrt(np.sum(sigmap ** 2)))\n"
     ]
    },
    {
     "name": "stdout",
     "output_type": "stream",
     "text": [
      "['Autocor_length' 'Beyond1Std' 'CAR_mean' 'CAR_sigma' 'CAR_tau' 'Con'\n",
      " 'LinearTrend' 'MaxSlope' 'Mean' 'Meanvariance' 'MedianAbsDev' 'MedianBRP'\n",
      " 'PairSlopeTrend' 'PercentAmplitude' 'Q31' 'Rcs' 'Skew' 'SlottedA_length'\n",
      " 'SmallKurtosis' 'Std' 'StetsonK_AC']\n"
     ]
    },
    {
     "name": "stderr",
     "output_type": "stream",
     "text": [
      "/anaconda3/lib/python3.6/site-packages/feets/extractors/ext_max_slope.py:91: RuntimeWarning: divide by zero encountered in true_divide\n",
      "  slope = np.abs(magnitude[1:] - magnitude[:-1]) / (time[1:] - time[:-1])\n",
      "/anaconda3/lib/python3.6/site-packages/statsmodels/tsa/stattools.py:572: FutureWarning: fft=True will become the default in a future version of statsmodels. To suppress this warning, explicitly set fft=False.\n",
      "  FutureWarning\n",
      "/anaconda3/lib/python3.6/site-packages/ipykernel_launcher.py:118: RuntimeWarning: divide by zero encountered in double_scalars\n",
      "/anaconda3/lib/python3.6/site-packages/ipykernel_launcher.py:119: RuntimeWarning: divide by zero encountered in double_scalars\n"
     ]
    },
    {
     "name": "stdout",
     "output_type": "stream",
     "text": [
      "['Autocor_length' 'Beyond1Std' 'CAR_mean' 'CAR_sigma' 'CAR_tau' 'Con'\n",
      " 'LinearTrend' 'MaxSlope' 'Mean' 'Meanvariance' 'MedianAbsDev' 'MedianBRP'\n",
      " 'PairSlopeTrend' 'PercentAmplitude' 'Q31' 'Rcs' 'Skew' 'SlottedA_length'\n",
      " 'SmallKurtosis' 'Std' 'StetsonK_AC']\n"
     ]
    },
    {
     "name": "stderr",
     "output_type": "stream",
     "text": [
      "/anaconda3/lib/python3.6/site-packages/statsmodels/tsa/stattools.py:572: FutureWarning: fft=True will become the default in a future version of statsmodels. To suppress this warning, explicitly set fft=False.\n",
      "  FutureWarning\n",
      "/anaconda3/lib/python3.6/site-packages/ipykernel_launcher.py:118: RuntimeWarning: divide by zero encountered in double_scalars\n",
      "/anaconda3/lib/python3.6/site-packages/ipykernel_launcher.py:119: RuntimeWarning: divide by zero encountered in double_scalars\n",
      "/anaconda3/lib/python3.6/site-packages/numpy/core/fromnumeric.py:3118: RuntimeWarning: Mean of empty slice.\n",
      "  out=out, **kwargs)\n",
      "/anaconda3/lib/python3.6/site-packages/numpy/core/_methods.py:85: RuntimeWarning: invalid value encountered in double_scalars\n",
      "  ret = ret.dtype.type(ret / rcount)\n",
      "/anaconda3/lib/python3.6/site-packages/numpy/core/_methods.py:140: RuntimeWarning: Degrees of freedom <= 0 for slice\n",
      "  keepdims=keepdims)\n",
      "/anaconda3/lib/python3.6/site-packages/numpy/core/_methods.py:110: RuntimeWarning: invalid value encountered in true_divide\n",
      "  arrmean, rcount, out=arrmean, casting='unsafe', subok=False)\n",
      "/anaconda3/lib/python3.6/site-packages/numpy/core/_methods.py:132: RuntimeWarning: invalid value encountered in double_scalars\n",
      "  ret = ret.dtype.type(ret / rcount)\n",
      "/anaconda3/lib/python3.6/site-packages/feets/extractors/ext_stetson.py:248: RuntimeWarning: divide by zero encountered in double_scalars\n",
      "  np.sum(np.abs(sigmap)) / np.sqrt(np.sum(sigmap ** 2)))\n",
      "/anaconda3/lib/python3.6/site-packages/feets/extractors/ext_stetson.py:248: RuntimeWarning: invalid value encountered in double_scalars\n",
      "  np.sum(np.abs(sigmap)) / np.sqrt(np.sum(sigmap ** 2)))\n"
     ]
    },
    {
     "name": "stdout",
     "output_type": "stream",
     "text": [
      "['Autocor_length' 'Beyond1Std' 'CAR_mean' 'CAR_sigma' 'CAR_tau' 'Con'\n",
      " 'LinearTrend' 'MaxSlope' 'Mean' 'Meanvariance' 'MedianAbsDev' 'MedianBRP'\n",
      " 'PairSlopeTrend' 'PercentAmplitude' 'Q31' 'Rcs' 'Skew' 'SlottedA_length'\n",
      " 'SmallKurtosis' 'Std' 'StetsonK_AC']\n"
     ]
    },
    {
     "name": "stderr",
     "output_type": "stream",
     "text": [
      "/anaconda3/lib/python3.6/site-packages/statsmodels/tsa/stattools.py:572: FutureWarning: fft=True will become the default in a future version of statsmodels. To suppress this warning, explicitly set fft=False.\n",
      "  FutureWarning\n",
      "/anaconda3/lib/python3.6/site-packages/ipykernel_launcher.py:118: RuntimeWarning: divide by zero encountered in double_scalars\n",
      "/anaconda3/lib/python3.6/site-packages/ipykernel_launcher.py:119: RuntimeWarning: divide by zero encountered in double_scalars\n"
     ]
    },
    {
     "name": "stdout",
     "output_type": "stream",
     "text": [
      "['Autocor_length' 'Beyond1Std' 'CAR_mean' 'CAR_sigma' 'CAR_tau' 'Con'\n",
      " 'LinearTrend' 'MaxSlope' 'Mean' 'Meanvariance' 'MedianAbsDev' 'MedianBRP'\n",
      " 'PairSlopeTrend' 'PercentAmplitude' 'Q31' 'Rcs' 'Skew' 'SlottedA_length'\n",
      " 'SmallKurtosis' 'Std' 'StetsonK_AC']\n"
     ]
    },
    {
     "name": "stderr",
     "output_type": "stream",
     "text": [
      "/anaconda3/lib/python3.6/site-packages/statsmodels/tsa/stattools.py:572: FutureWarning: fft=True will become the default in a future version of statsmodels. To suppress this warning, explicitly set fft=False.\n",
      "  FutureWarning\n",
      "/anaconda3/lib/python3.6/site-packages/ipykernel_launcher.py:118: RuntimeWarning: divide by zero encountered in double_scalars\n",
      "/anaconda3/lib/python3.6/site-packages/ipykernel_launcher.py:119: RuntimeWarning: divide by zero encountered in double_scalars\n",
      "/anaconda3/lib/python3.6/site-packages/numpy/core/fromnumeric.py:3118: RuntimeWarning: Mean of empty slice.\n",
      "  out=out, **kwargs)\n",
      "/anaconda3/lib/python3.6/site-packages/numpy/core/_methods.py:85: RuntimeWarning: invalid value encountered in double_scalars\n",
      "  ret = ret.dtype.type(ret / rcount)\n",
      "/anaconda3/lib/python3.6/site-packages/numpy/core/_methods.py:140: RuntimeWarning: Degrees of freedom <= 0 for slice\n",
      "  keepdims=keepdims)\n",
      "/anaconda3/lib/python3.6/site-packages/numpy/core/_methods.py:110: RuntimeWarning: invalid value encountered in true_divide\n",
      "  arrmean, rcount, out=arrmean, casting='unsafe', subok=False)\n",
      "/anaconda3/lib/python3.6/site-packages/numpy/core/_methods.py:132: RuntimeWarning: invalid value encountered in double_scalars\n",
      "  ret = ret.dtype.type(ret / rcount)\n",
      "/anaconda3/lib/python3.6/site-packages/feets/extractors/ext_stetson.py:248: RuntimeWarning: divide by zero encountered in double_scalars\n",
      "  np.sum(np.abs(sigmap)) / np.sqrt(np.sum(sigmap ** 2)))\n",
      "/anaconda3/lib/python3.6/site-packages/feets/extractors/ext_stetson.py:248: RuntimeWarning: invalid value encountered in double_scalars\n",
      "  np.sum(np.abs(sigmap)) / np.sqrt(np.sum(sigmap ** 2)))\n"
     ]
    },
    {
     "name": "stdout",
     "output_type": "stream",
     "text": [
      "['Autocor_length' 'Beyond1Std' 'CAR_mean' 'CAR_sigma' 'CAR_tau' 'Con'\n",
      " 'LinearTrend' 'MaxSlope' 'Mean' 'Meanvariance' 'MedianAbsDev' 'MedianBRP'\n",
      " 'PairSlopeTrend' 'PercentAmplitude' 'Q31' 'Rcs' 'Skew' 'SlottedA_length'\n",
      " 'SmallKurtosis' 'Std' 'StetsonK_AC']\n"
     ]
    },
    {
     "name": "stderr",
     "output_type": "stream",
     "text": [
      "/anaconda3/lib/python3.6/site-packages/feets/extractors/ext_max_slope.py:91: RuntimeWarning: divide by zero encountered in true_divide\n",
      "  slope = np.abs(magnitude[1:] - magnitude[:-1]) / (time[1:] - time[:-1])\n",
      "/anaconda3/lib/python3.6/site-packages/statsmodels/tsa/stattools.py:572: FutureWarning: fft=True will become the default in a future version of statsmodels. To suppress this warning, explicitly set fft=False.\n",
      "  FutureWarning\n",
      "/anaconda3/lib/python3.6/site-packages/ipykernel_launcher.py:118: RuntimeWarning: divide by zero encountered in double_scalars\n",
      "/anaconda3/lib/python3.6/site-packages/ipykernel_launcher.py:119: RuntimeWarning: divide by zero encountered in double_scalars\n"
     ]
    },
    {
     "name": "stdout",
     "output_type": "stream",
     "text": [
      "['Autocor_length' 'Beyond1Std' 'CAR_mean' 'CAR_sigma' 'CAR_tau' 'Con'\n",
      " 'LinearTrend' 'MaxSlope' 'Mean' 'Meanvariance' 'MedianAbsDev' 'MedianBRP'\n",
      " 'PairSlopeTrend' 'PercentAmplitude' 'Q31' 'Rcs' 'Skew' 'SlottedA_length'\n",
      " 'SmallKurtosis' 'Std' 'StetsonK_AC']\n"
     ]
    },
    {
     "name": "stderr",
     "output_type": "stream",
     "text": [
      "/anaconda3/lib/python3.6/site-packages/statsmodels/tsa/stattools.py:572: FutureWarning: fft=True will become the default in a future version of statsmodels. To suppress this warning, explicitly set fft=False.\n",
      "  FutureWarning\n",
      "/anaconda3/lib/python3.6/site-packages/ipykernel_launcher.py:118: RuntimeWarning: divide by zero encountered in double_scalars\n",
      "/anaconda3/lib/python3.6/site-packages/ipykernel_launcher.py:119: RuntimeWarning: divide by zero encountered in double_scalars\n",
      "/anaconda3/lib/python3.6/site-packages/numpy/core/fromnumeric.py:3118: RuntimeWarning: Mean of empty slice.\n",
      "  out=out, **kwargs)\n",
      "/anaconda3/lib/python3.6/site-packages/numpy/core/_methods.py:85: RuntimeWarning: invalid value encountered in double_scalars\n",
      "  ret = ret.dtype.type(ret / rcount)\n",
      "/anaconda3/lib/python3.6/site-packages/numpy/core/_methods.py:140: RuntimeWarning: Degrees of freedom <= 0 for slice\n",
      "  keepdims=keepdims)\n",
      "/anaconda3/lib/python3.6/site-packages/numpy/core/_methods.py:110: RuntimeWarning: invalid value encountered in true_divide\n",
      "  arrmean, rcount, out=arrmean, casting='unsafe', subok=False)\n",
      "/anaconda3/lib/python3.6/site-packages/numpy/core/_methods.py:132: RuntimeWarning: invalid value encountered in double_scalars\n",
      "  ret = ret.dtype.type(ret / rcount)\n",
      "/anaconda3/lib/python3.6/site-packages/feets/extractors/ext_stetson.py:248: RuntimeWarning: divide by zero encountered in double_scalars\n",
      "  np.sum(np.abs(sigmap)) / np.sqrt(np.sum(sigmap ** 2)))\n",
      "/anaconda3/lib/python3.6/site-packages/feets/extractors/ext_stetson.py:248: RuntimeWarning: invalid value encountered in double_scalars\n",
      "  np.sum(np.abs(sigmap)) / np.sqrt(np.sum(sigmap ** 2)))\n"
     ]
    },
    {
     "name": "stdout",
     "output_type": "stream",
     "text": [
      "['Autocor_length' 'Beyond1Std' 'CAR_mean' 'CAR_sigma' 'CAR_tau' 'Con'\n",
      " 'LinearTrend' 'MaxSlope' 'Mean' 'Meanvariance' 'MedianAbsDev' 'MedianBRP'\n",
      " 'PairSlopeTrend' 'PercentAmplitude' 'Q31' 'Rcs' 'Skew' 'SlottedA_length'\n",
      " 'SmallKurtosis' 'Std' 'StetsonK_AC']\n",
      "['Autocor_length' 'Beyond1Std' 'CAR_mean' 'CAR_sigma' 'CAR_tau' 'Con'\n",
      " 'LinearTrend' 'MaxSlope' 'Mean' 'Meanvariance' 'MedianAbsDev' 'MedianBRP'\n",
      " 'PairSlopeTrend' 'PercentAmplitude' 'Q31' 'Rcs' 'Skew' 'SlottedA_length'\n",
      " 'SmallKurtosis' 'Std' 'StetsonK_AC']\n"
     ]
    },
    {
     "name": "stderr",
     "output_type": "stream",
     "text": [
      "/anaconda3/lib/python3.6/site-packages/ipykernel_launcher.py:118: RuntimeWarning: divide by zero encountered in double_scalars\n",
      "/anaconda3/lib/python3.6/site-packages/ipykernel_launcher.py:119: RuntimeWarning: divide by zero encountered in double_scalars\n",
      "/anaconda3/lib/python3.6/site-packages/statsmodels/tsa/stattools.py:572: FutureWarning: fft=True will become the default in a future version of statsmodels. To suppress this warning, explicitly set fft=False.\n",
      "  FutureWarning\n",
      "/anaconda3/lib/python3.6/site-packages/numpy/core/fromnumeric.py:3118: RuntimeWarning: Mean of empty slice.\n",
      "  out=out, **kwargs)\n",
      "/anaconda3/lib/python3.6/site-packages/numpy/core/_methods.py:85: RuntimeWarning: invalid value encountered in double_scalars\n",
      "  ret = ret.dtype.type(ret / rcount)\n",
      "/anaconda3/lib/python3.6/site-packages/numpy/core/_methods.py:140: RuntimeWarning: Degrees of freedom <= 0 for slice\n",
      "  keepdims=keepdims)\n",
      "/anaconda3/lib/python3.6/site-packages/numpy/core/_methods.py:110: RuntimeWarning: invalid value encountered in true_divide\n",
      "  arrmean, rcount, out=arrmean, casting='unsafe', subok=False)\n",
      "/anaconda3/lib/python3.6/site-packages/numpy/core/_methods.py:132: RuntimeWarning: invalid value encountered in double_scalars\n",
      "  ret = ret.dtype.type(ret / rcount)\n",
      "/anaconda3/lib/python3.6/site-packages/feets/extractors/ext_stetson.py:248: RuntimeWarning: divide by zero encountered in double_scalars\n",
      "  np.sum(np.abs(sigmap)) / np.sqrt(np.sum(sigmap ** 2)))\n",
      "/anaconda3/lib/python3.6/site-packages/feets/extractors/ext_stetson.py:248: RuntimeWarning: invalid value encountered in double_scalars\n",
      "  np.sum(np.abs(sigmap)) / np.sqrt(np.sum(sigmap ** 2)))\n"
     ]
    },
    {
     "name": "stdout",
     "output_type": "stream",
     "text": [
      "['Autocor_length' 'Beyond1Std' 'CAR_mean' 'CAR_sigma' 'CAR_tau' 'Con'\n",
      " 'LinearTrend' 'MaxSlope' 'Mean' 'Meanvariance' 'MedianAbsDev' 'MedianBRP'\n",
      " 'PairSlopeTrend' 'PercentAmplitude' 'Q31' 'Rcs' 'Skew' 'SlottedA_length'\n",
      " 'SmallKurtosis' 'Std' 'StetsonK_AC']\n"
     ]
    },
    {
     "name": "stderr",
     "output_type": "stream",
     "text": [
      "/anaconda3/lib/python3.6/site-packages/ipykernel_launcher.py:118: RuntimeWarning: divide by zero encountered in double_scalars\n",
      "/anaconda3/lib/python3.6/site-packages/ipykernel_launcher.py:119: RuntimeWarning: divide by zero encountered in double_scalars\n",
      "/anaconda3/lib/python3.6/site-packages/statsmodels/tsa/stattools.py:572: FutureWarning: fft=True will become the default in a future version of statsmodels. To suppress this warning, explicitly set fft=False.\n",
      "  FutureWarning\n"
     ]
    },
    {
     "name": "stdout",
     "output_type": "stream",
     "text": [
      "['Autocor_length' 'Beyond1Std' 'CAR_mean' 'CAR_sigma' 'CAR_tau' 'Con'\n",
      " 'LinearTrend' 'MaxSlope' 'Mean' 'Meanvariance' 'MedianAbsDev' 'MedianBRP'\n",
      " 'PairSlopeTrend' 'PercentAmplitude' 'Q31' 'Rcs' 'Skew' 'SlottedA_length'\n",
      " 'SmallKurtosis' 'Std' 'StetsonK_AC']\n"
     ]
    },
    {
     "name": "stderr",
     "output_type": "stream",
     "text": [
      "/anaconda3/lib/python3.6/site-packages/ipykernel_launcher.py:118: RuntimeWarning: divide by zero encountered in double_scalars\n",
      "/anaconda3/lib/python3.6/site-packages/ipykernel_launcher.py:119: RuntimeWarning: divide by zero encountered in double_scalars\n",
      "/anaconda3/lib/python3.6/site-packages/statsmodels/tsa/stattools.py:572: FutureWarning: fft=True will become the default in a future version of statsmodels. To suppress this warning, explicitly set fft=False.\n",
      "  FutureWarning\n",
      "/anaconda3/lib/python3.6/site-packages/numpy/core/fromnumeric.py:3118: RuntimeWarning: Mean of empty slice.\n",
      "  out=out, **kwargs)\n",
      "/anaconda3/lib/python3.6/site-packages/numpy/core/_methods.py:85: RuntimeWarning: invalid value encountered in double_scalars\n",
      "  ret = ret.dtype.type(ret / rcount)\n",
      "/anaconda3/lib/python3.6/site-packages/numpy/core/_methods.py:140: RuntimeWarning: Degrees of freedom <= 0 for slice\n",
      "  keepdims=keepdims)\n",
      "/anaconda3/lib/python3.6/site-packages/numpy/core/_methods.py:110: RuntimeWarning: invalid value encountered in true_divide\n",
      "  arrmean, rcount, out=arrmean, casting='unsafe', subok=False)\n",
      "/anaconda3/lib/python3.6/site-packages/numpy/core/_methods.py:132: RuntimeWarning: invalid value encountered in double_scalars\n",
      "  ret = ret.dtype.type(ret / rcount)\n",
      "/anaconda3/lib/python3.6/site-packages/feets/extractors/ext_stetson.py:248: RuntimeWarning: divide by zero encountered in double_scalars\n",
      "  np.sum(np.abs(sigmap)) / np.sqrt(np.sum(sigmap ** 2)))\n",
      "/anaconda3/lib/python3.6/site-packages/feets/extractors/ext_stetson.py:248: RuntimeWarning: invalid value encountered in double_scalars\n",
      "  np.sum(np.abs(sigmap)) / np.sqrt(np.sum(sigmap ** 2)))\n",
      "/anaconda3/lib/python3.6/site-packages/ipykernel_launcher.py:118: RuntimeWarning: divide by zero encountered in double_scalars\n",
      "/anaconda3/lib/python3.6/site-packages/ipykernel_launcher.py:119: RuntimeWarning: divide by zero encountered in double_scalars\n"
     ]
    },
    {
     "name": "stdout",
     "output_type": "stream",
     "text": [
      "['Autocor_length' 'Beyond1Std' 'CAR_mean' 'CAR_sigma' 'CAR_tau' 'Con'\n",
      " 'LinearTrend' 'MaxSlope' 'Mean' 'Meanvariance' 'MedianAbsDev' 'MedianBRP'\n",
      " 'PairSlopeTrend' 'PercentAmplitude' 'Q31' 'Rcs' 'Skew' 'SlottedA_length'\n",
      " 'SmallKurtosis' 'Std' 'StetsonK_AC']\n"
     ]
    },
    {
     "name": "stderr",
     "output_type": "stream",
     "text": [
      "/anaconda3/lib/python3.6/site-packages/feets/extractors/ext_max_slope.py:91: RuntimeWarning: divide by zero encountered in true_divide\n",
      "  slope = np.abs(magnitude[1:] - magnitude[:-1]) / (time[1:] - time[:-1])\n",
      "/anaconda3/lib/python3.6/site-packages/ipykernel_launcher.py:118: RuntimeWarning: divide by zero encountered in double_scalars\n",
      "/anaconda3/lib/python3.6/site-packages/ipykernel_launcher.py:119: RuntimeWarning: divide by zero encountered in double_scalars\n",
      "/anaconda3/lib/python3.6/site-packages/statsmodels/tsa/stattools.py:572: FutureWarning: fft=True will become the default in a future version of statsmodels. To suppress this warning, explicitly set fft=False.\n",
      "  FutureWarning\n"
     ]
    },
    {
     "name": "stdout",
     "output_type": "stream",
     "text": [
      "['Autocor_length' 'Beyond1Std' 'CAR_mean' 'CAR_sigma' 'CAR_tau' 'Con'\n",
      " 'LinearTrend' 'MaxSlope' 'Mean' 'Meanvariance' 'MedianAbsDev' 'MedianBRP'\n",
      " 'PairSlopeTrend' 'PercentAmplitude' 'Q31' 'Rcs' 'Skew' 'SlottedA_length'\n",
      " 'SmallKurtosis' 'Std' 'StetsonK_AC']\n",
      "['Autocor_length' 'Beyond1Std' 'CAR_mean' 'CAR_sigma' 'CAR_tau' 'Con'\n",
      " 'LinearTrend' 'MaxSlope' 'Mean' 'Meanvariance' 'MedianAbsDev' 'MedianBRP'\n",
      " 'PairSlopeTrend' 'PercentAmplitude' 'Q31' 'Rcs' 'Skew' 'SlottedA_length'\n",
      " 'SmallKurtosis' 'Std' 'StetsonK_AC']\n"
     ]
    },
    {
     "name": "stderr",
     "output_type": "stream",
     "text": [
      "/anaconda3/lib/python3.6/site-packages/ipykernel_launcher.py:118: RuntimeWarning: divide by zero encountered in double_scalars\n",
      "/anaconda3/lib/python3.6/site-packages/ipykernel_launcher.py:119: RuntimeWarning: divide by zero encountered in double_scalars\n",
      "/anaconda3/lib/python3.6/site-packages/statsmodels/tsa/stattools.py:572: FutureWarning: fft=True will become the default in a future version of statsmodels. To suppress this warning, explicitly set fft=False.\n",
      "  FutureWarning\n",
      "/anaconda3/lib/python3.6/site-packages/numpy/core/fromnumeric.py:3118: RuntimeWarning: Mean of empty slice.\n",
      "  out=out, **kwargs)\n",
      "/anaconda3/lib/python3.6/site-packages/numpy/core/_methods.py:85: RuntimeWarning: invalid value encountered in double_scalars\n",
      "  ret = ret.dtype.type(ret / rcount)\n",
      "/anaconda3/lib/python3.6/site-packages/numpy/core/_methods.py:140: RuntimeWarning: Degrees of freedom <= 0 for slice\n",
      "  keepdims=keepdims)\n",
      "/anaconda3/lib/python3.6/site-packages/numpy/core/_methods.py:110: RuntimeWarning: invalid value encountered in true_divide\n",
      "  arrmean, rcount, out=arrmean, casting='unsafe', subok=False)\n",
      "/anaconda3/lib/python3.6/site-packages/numpy/core/_methods.py:132: RuntimeWarning: invalid value encountered in double_scalars\n",
      "  ret = ret.dtype.type(ret / rcount)\n",
      "/anaconda3/lib/python3.6/site-packages/feets/extractors/ext_stetson.py:248: RuntimeWarning: divide by zero encountered in double_scalars\n",
      "  np.sum(np.abs(sigmap)) / np.sqrt(np.sum(sigmap ** 2)))\n",
      "/anaconda3/lib/python3.6/site-packages/feets/extractors/ext_stetson.py:248: RuntimeWarning: invalid value encountered in double_scalars\n",
      "  np.sum(np.abs(sigmap)) / np.sqrt(np.sum(sigmap ** 2)))\n",
      "/anaconda3/lib/python3.6/site-packages/ipykernel_launcher.py:118: RuntimeWarning: divide by zero encountered in double_scalars\n",
      "/anaconda3/lib/python3.6/site-packages/ipykernel_launcher.py:119: RuntimeWarning: divide by zero encountered in double_scalars\n"
     ]
    },
    {
     "name": "stdout",
     "output_type": "stream",
     "text": [
      "['Autocor_length' 'Beyond1Std' 'CAR_mean' 'CAR_sigma' 'CAR_tau' 'Con'\n",
      " 'LinearTrend' 'MaxSlope' 'Mean' 'Meanvariance' 'MedianAbsDev' 'MedianBRP'\n",
      " 'PairSlopeTrend' 'PercentAmplitude' 'Q31' 'Rcs' 'Skew' 'SlottedA_length'\n",
      " 'SmallKurtosis' 'Std' 'StetsonK_AC']\n"
     ]
    },
    {
     "name": "stderr",
     "output_type": "stream",
     "text": [
      "/anaconda3/lib/python3.6/site-packages/statsmodels/tsa/stattools.py:572: FutureWarning: fft=True will become the default in a future version of statsmodels. To suppress this warning, explicitly set fft=False.\n",
      "  FutureWarning\n",
      "/anaconda3/lib/python3.6/site-packages/ipykernel_launcher.py:118: RuntimeWarning: divide by zero encountered in double_scalars\n",
      "/anaconda3/lib/python3.6/site-packages/ipykernel_launcher.py:119: RuntimeWarning: divide by zero encountered in double_scalars\n"
     ]
    },
    {
     "name": "stdout",
     "output_type": "stream",
     "text": [
      "['Autocor_length' 'Beyond1Std' 'CAR_mean' 'CAR_sigma' 'CAR_tau' 'Con'\n",
      " 'LinearTrend' 'MaxSlope' 'Mean' 'Meanvariance' 'MedianAbsDev' 'MedianBRP'\n",
      " 'PairSlopeTrend' 'PercentAmplitude' 'Q31' 'Rcs' 'Skew' 'SlottedA_length'\n",
      " 'SmallKurtosis' 'Std' 'StetsonK_AC']\n"
     ]
    },
    {
     "name": "stderr",
     "output_type": "stream",
     "text": [
      "/anaconda3/lib/python3.6/site-packages/feets/extractors/ext_max_slope.py:91: RuntimeWarning: divide by zero encountered in true_divide\n",
      "  slope = np.abs(magnitude[1:] - magnitude[:-1]) / (time[1:] - time[:-1])\n",
      "/anaconda3/lib/python3.6/site-packages/statsmodels/tsa/stattools.py:572: FutureWarning: fft=True will become the default in a future version of statsmodels. To suppress this warning, explicitly set fft=False.\n",
      "  FutureWarning\n",
      "/anaconda3/lib/python3.6/site-packages/numpy/core/fromnumeric.py:3118: RuntimeWarning: Mean of empty slice.\n",
      "  out=out, **kwargs)\n",
      "/anaconda3/lib/python3.6/site-packages/numpy/core/_methods.py:85: RuntimeWarning: invalid value encountered in double_scalars\n",
      "  ret = ret.dtype.type(ret / rcount)\n",
      "/anaconda3/lib/python3.6/site-packages/numpy/core/_methods.py:140: RuntimeWarning: Degrees of freedom <= 0 for slice\n",
      "  keepdims=keepdims)\n",
      "/anaconda3/lib/python3.6/site-packages/numpy/core/_methods.py:110: RuntimeWarning: invalid value encountered in true_divide\n",
      "  arrmean, rcount, out=arrmean, casting='unsafe', subok=False)\n",
      "/anaconda3/lib/python3.6/site-packages/numpy/core/_methods.py:132: RuntimeWarning: invalid value encountered in double_scalars\n",
      "  ret = ret.dtype.type(ret / rcount)\n",
      "/anaconda3/lib/python3.6/site-packages/feets/extractors/ext_stetson.py:248: RuntimeWarning: divide by zero encountered in double_scalars\n",
      "  np.sum(np.abs(sigmap)) / np.sqrt(np.sum(sigmap ** 2)))\n",
      "/anaconda3/lib/python3.6/site-packages/feets/extractors/ext_stetson.py:248: RuntimeWarning: invalid value encountered in double_scalars\n",
      "  np.sum(np.abs(sigmap)) / np.sqrt(np.sum(sigmap ** 2)))\n",
      "/anaconda3/lib/python3.6/site-packages/ipykernel_launcher.py:118: RuntimeWarning: divide by zero encountered in double_scalars\n",
      "/anaconda3/lib/python3.6/site-packages/ipykernel_launcher.py:119: RuntimeWarning: divide by zero encountered in double_scalars\n"
     ]
    },
    {
     "name": "stdout",
     "output_type": "stream",
     "text": [
      "['Autocor_length' 'Beyond1Std' 'CAR_mean' 'CAR_sigma' 'CAR_tau' 'Con'\n",
      " 'LinearTrend' 'MaxSlope' 'Mean' 'Meanvariance' 'MedianAbsDev' 'MedianBRP'\n",
      " 'PairSlopeTrend' 'PercentAmplitude' 'Q31' 'Rcs' 'Skew' 'SlottedA_length'\n",
      " 'SmallKurtosis' 'Std' 'StetsonK_AC']\n"
     ]
    },
    {
     "name": "stderr",
     "output_type": "stream",
     "text": [
      "/anaconda3/lib/python3.6/site-packages/statsmodels/tsa/stattools.py:572: FutureWarning: fft=True will become the default in a future version of statsmodels. To suppress this warning, explicitly set fft=False.\n",
      "  FutureWarning\n",
      "/anaconda3/lib/python3.6/site-packages/numpy/core/fromnumeric.py:3118: RuntimeWarning: Mean of empty slice.\n",
      "  out=out, **kwargs)\n",
      "/anaconda3/lib/python3.6/site-packages/numpy/core/_methods.py:85: RuntimeWarning: invalid value encountered in double_scalars\n",
      "  ret = ret.dtype.type(ret / rcount)\n",
      "/anaconda3/lib/python3.6/site-packages/numpy/core/_methods.py:140: RuntimeWarning: Degrees of freedom <= 0 for slice\n",
      "  keepdims=keepdims)\n",
      "/anaconda3/lib/python3.6/site-packages/numpy/core/_methods.py:110: RuntimeWarning: invalid value encountered in true_divide\n",
      "  arrmean, rcount, out=arrmean, casting='unsafe', subok=False)\n",
      "/anaconda3/lib/python3.6/site-packages/numpy/core/_methods.py:132: RuntimeWarning: invalid value encountered in double_scalars\n",
      "  ret = ret.dtype.type(ret / rcount)\n",
      "/anaconda3/lib/python3.6/site-packages/feets/extractors/ext_stetson.py:248: RuntimeWarning: divide by zero encountered in double_scalars\n",
      "  np.sum(np.abs(sigmap)) / np.sqrt(np.sum(sigmap ** 2)))\n",
      "/anaconda3/lib/python3.6/site-packages/feets/extractors/ext_stetson.py:248: RuntimeWarning: invalid value encountered in double_scalars\n",
      "  np.sum(np.abs(sigmap)) / np.sqrt(np.sum(sigmap ** 2)))\n",
      "/anaconda3/lib/python3.6/site-packages/ipykernel_launcher.py:118: RuntimeWarning: divide by zero encountered in double_scalars\n",
      "/anaconda3/lib/python3.6/site-packages/ipykernel_launcher.py:119: RuntimeWarning: divide by zero encountered in double_scalars\n"
     ]
    },
    {
     "name": "stdout",
     "output_type": "stream",
     "text": [
      "['Autocor_length' 'Beyond1Std' 'CAR_mean' 'CAR_sigma' 'CAR_tau' 'Con'\n",
      " 'LinearTrend' 'MaxSlope' 'Mean' 'Meanvariance' 'MedianAbsDev' 'MedianBRP'\n",
      " 'PairSlopeTrend' 'PercentAmplitude' 'Q31' 'Rcs' 'Skew' 'SlottedA_length'\n",
      " 'SmallKurtosis' 'Std' 'StetsonK_AC']\n"
     ]
    },
    {
     "name": "stderr",
     "output_type": "stream",
     "text": [
      "/anaconda3/lib/python3.6/site-packages/statsmodels/tsa/stattools.py:572: FutureWarning: fft=True will become the default in a future version of statsmodels. To suppress this warning, explicitly set fft=False.\n",
      "  FutureWarning\n",
      "/anaconda3/lib/python3.6/site-packages/numpy/core/fromnumeric.py:3118: RuntimeWarning: Mean of empty slice.\n",
      "  out=out, **kwargs)\n",
      "/anaconda3/lib/python3.6/site-packages/numpy/core/_methods.py:85: RuntimeWarning: invalid value encountered in double_scalars\n",
      "  ret = ret.dtype.type(ret / rcount)\n",
      "/anaconda3/lib/python3.6/site-packages/numpy/core/_methods.py:140: RuntimeWarning: Degrees of freedom <= 0 for slice\n",
      "  keepdims=keepdims)\n",
      "/anaconda3/lib/python3.6/site-packages/numpy/core/_methods.py:110: RuntimeWarning: invalid value encountered in true_divide\n",
      "  arrmean, rcount, out=arrmean, casting='unsafe', subok=False)\n",
      "/anaconda3/lib/python3.6/site-packages/numpy/core/_methods.py:132: RuntimeWarning: invalid value encountered in double_scalars\n",
      "  ret = ret.dtype.type(ret / rcount)\n",
      "/anaconda3/lib/python3.6/site-packages/feets/extractors/ext_stetson.py:248: RuntimeWarning: divide by zero encountered in double_scalars\n",
      "  np.sum(np.abs(sigmap)) / np.sqrt(np.sum(sigmap ** 2)))\n",
      "/anaconda3/lib/python3.6/site-packages/feets/extractors/ext_stetson.py:248: RuntimeWarning: invalid value encountered in double_scalars\n",
      "  np.sum(np.abs(sigmap)) / np.sqrt(np.sum(sigmap ** 2)))\n",
      "/anaconda3/lib/python3.6/site-packages/ipykernel_launcher.py:118: RuntimeWarning: divide by zero encountered in double_scalars\n",
      "/anaconda3/lib/python3.6/site-packages/ipykernel_launcher.py:119: RuntimeWarning: divide by zero encountered in double_scalars\n"
     ]
    },
    {
     "name": "stdout",
     "output_type": "stream",
     "text": [
      "['Autocor_length' 'Beyond1Std' 'CAR_mean' 'CAR_sigma' 'CAR_tau' 'Con'\n",
      " 'LinearTrend' 'MaxSlope' 'Mean' 'Meanvariance' 'MedianAbsDev' 'MedianBRP'\n",
      " 'PairSlopeTrend' 'PercentAmplitude' 'Q31' 'Rcs' 'Skew' 'SlottedA_length'\n",
      " 'SmallKurtosis' 'Std' 'StetsonK_AC']\n"
     ]
    },
    {
     "name": "stderr",
     "output_type": "stream",
     "text": [
      "/anaconda3/lib/python3.6/site-packages/feets/extractors/ext_max_slope.py:91: RuntimeWarning: divide by zero encountered in true_divide\n",
      "  slope = np.abs(magnitude[1:] - magnitude[:-1]) / (time[1:] - time[:-1])\n",
      "/anaconda3/lib/python3.6/site-packages/statsmodels/tsa/stattools.py:572: FutureWarning: fft=True will become the default in a future version of statsmodels. To suppress this warning, explicitly set fft=False.\n",
      "  FutureWarning\n",
      "/anaconda3/lib/python3.6/site-packages/ipykernel_launcher.py:118: RuntimeWarning: divide by zero encountered in double_scalars\n",
      "/anaconda3/lib/python3.6/site-packages/ipykernel_launcher.py:119: RuntimeWarning: divide by zero encountered in double_scalars\n"
     ]
    },
    {
     "name": "stdout",
     "output_type": "stream",
     "text": [
      "['Autocor_length' 'Beyond1Std' 'CAR_mean' 'CAR_sigma' 'CAR_tau' 'Con'\n",
      " 'LinearTrend' 'MaxSlope' 'Mean' 'Meanvariance' 'MedianAbsDev' 'MedianBRP'\n",
      " 'PairSlopeTrend' 'PercentAmplitude' 'Q31' 'Rcs' 'Skew' 'SlottedA_length'\n",
      " 'SmallKurtosis' 'Std' 'StetsonK_AC']\n"
     ]
    },
    {
     "name": "stderr",
     "output_type": "stream",
     "text": [
      "/anaconda3/lib/python3.6/site-packages/feets/extractors/ext_max_slope.py:91: RuntimeWarning: divide by zero encountered in true_divide\n",
      "  slope = np.abs(magnitude[1:] - magnitude[:-1]) / (time[1:] - time[:-1])\n",
      "/anaconda3/lib/python3.6/site-packages/statsmodels/tsa/stattools.py:572: FutureWarning: fft=True will become the default in a future version of statsmodels. To suppress this warning, explicitly set fft=False.\n",
      "  FutureWarning\n",
      "/anaconda3/lib/python3.6/site-packages/ipykernel_launcher.py:118: RuntimeWarning: divide by zero encountered in double_scalars\n",
      "/anaconda3/lib/python3.6/site-packages/ipykernel_launcher.py:119: RuntimeWarning: divide by zero encountered in double_scalars\n"
     ]
    },
    {
     "name": "stdout",
     "output_type": "stream",
     "text": [
      "['Autocor_length' 'Beyond1Std' 'CAR_mean' 'CAR_sigma' 'CAR_tau' 'Con'\n",
      " 'LinearTrend' 'MaxSlope' 'Mean' 'Meanvariance' 'MedianAbsDev' 'MedianBRP'\n",
      " 'PairSlopeTrend' 'PercentAmplitude' 'Q31' 'Rcs' 'Skew' 'SlottedA_length'\n",
      " 'SmallKurtosis' 'Std' 'StetsonK_AC']\n"
     ]
    },
    {
     "name": "stderr",
     "output_type": "stream",
     "text": [
      "/anaconda3/lib/python3.6/site-packages/statsmodels/tsa/stattools.py:572: FutureWarning: fft=True will become the default in a future version of statsmodels. To suppress this warning, explicitly set fft=False.\n",
      "  FutureWarning\n",
      "/anaconda3/lib/python3.6/site-packages/numpy/core/fromnumeric.py:3118: RuntimeWarning: Mean of empty slice.\n",
      "  out=out, **kwargs)\n",
      "/anaconda3/lib/python3.6/site-packages/numpy/core/_methods.py:85: RuntimeWarning: invalid value encountered in double_scalars\n",
      "  ret = ret.dtype.type(ret / rcount)\n",
      "/anaconda3/lib/python3.6/site-packages/numpy/core/_methods.py:140: RuntimeWarning: Degrees of freedom <= 0 for slice\n",
      "  keepdims=keepdims)\n",
      "/anaconda3/lib/python3.6/site-packages/numpy/core/_methods.py:110: RuntimeWarning: invalid value encountered in true_divide\n",
      "  arrmean, rcount, out=arrmean, casting='unsafe', subok=False)\n",
      "/anaconda3/lib/python3.6/site-packages/numpy/core/_methods.py:132: RuntimeWarning: invalid value encountered in double_scalars\n",
      "  ret = ret.dtype.type(ret / rcount)\n",
      "/anaconda3/lib/python3.6/site-packages/feets/extractors/ext_stetson.py:248: RuntimeWarning: divide by zero encountered in double_scalars\n",
      "  np.sum(np.abs(sigmap)) / np.sqrt(np.sum(sigmap ** 2)))\n",
      "/anaconda3/lib/python3.6/site-packages/feets/extractors/ext_stetson.py:248: RuntimeWarning: invalid value encountered in double_scalars\n",
      "  np.sum(np.abs(sigmap)) / np.sqrt(np.sum(sigmap ** 2)))\n",
      "/anaconda3/lib/python3.6/site-packages/ipykernel_launcher.py:118: RuntimeWarning: divide by zero encountered in double_scalars\n",
      "/anaconda3/lib/python3.6/site-packages/ipykernel_launcher.py:119: RuntimeWarning: divide by zero encountered in double_scalars\n"
     ]
    },
    {
     "name": "stdout",
     "output_type": "stream",
     "text": [
      "['Autocor_length' 'Beyond1Std' 'CAR_mean' 'CAR_sigma' 'CAR_tau' 'Con'\n",
      " 'LinearTrend' 'MaxSlope' 'Mean' 'Meanvariance' 'MedianAbsDev' 'MedianBRP'\n",
      " 'PairSlopeTrend' 'PercentAmplitude' 'Q31' 'Rcs' 'Skew' 'SlottedA_length'\n",
      " 'SmallKurtosis' 'Std' 'StetsonK_AC']\n"
     ]
    },
    {
     "name": "stderr",
     "output_type": "stream",
     "text": [
      "/anaconda3/lib/python3.6/site-packages/feets/extractors/ext_max_slope.py:91: RuntimeWarning: divide by zero encountered in true_divide\n",
      "  slope = np.abs(magnitude[1:] - magnitude[:-1]) / (time[1:] - time[:-1])\n",
      "/anaconda3/lib/python3.6/site-packages/statsmodels/tsa/stattools.py:572: FutureWarning: fft=True will become the default in a future version of statsmodels. To suppress this warning, explicitly set fft=False.\n",
      "  FutureWarning\n",
      "/anaconda3/lib/python3.6/site-packages/numpy/core/fromnumeric.py:3118: RuntimeWarning: Mean of empty slice.\n",
      "  out=out, **kwargs)\n",
      "/anaconda3/lib/python3.6/site-packages/numpy/core/_methods.py:85: RuntimeWarning: invalid value encountered in double_scalars\n",
      "  ret = ret.dtype.type(ret / rcount)\n",
      "/anaconda3/lib/python3.6/site-packages/numpy/core/_methods.py:140: RuntimeWarning: Degrees of freedom <= 0 for slice\n",
      "  keepdims=keepdims)\n",
      "/anaconda3/lib/python3.6/site-packages/numpy/core/_methods.py:110: RuntimeWarning: invalid value encountered in true_divide\n",
      "  arrmean, rcount, out=arrmean, casting='unsafe', subok=False)\n",
      "/anaconda3/lib/python3.6/site-packages/numpy/core/_methods.py:132: RuntimeWarning: invalid value encountered in double_scalars\n",
      "  ret = ret.dtype.type(ret / rcount)\n",
      "/anaconda3/lib/python3.6/site-packages/feets/extractors/ext_stetson.py:248: RuntimeWarning: divide by zero encountered in double_scalars\n",
      "  np.sum(np.abs(sigmap)) / np.sqrt(np.sum(sigmap ** 2)))\n",
      "/anaconda3/lib/python3.6/site-packages/feets/extractors/ext_stetson.py:248: RuntimeWarning: invalid value encountered in double_scalars\n",
      "  np.sum(np.abs(sigmap)) / np.sqrt(np.sum(sigmap ** 2)))\n",
      "/anaconda3/lib/python3.6/site-packages/ipykernel_launcher.py:118: RuntimeWarning: divide by zero encountered in double_scalars\n",
      "/anaconda3/lib/python3.6/site-packages/ipykernel_launcher.py:119: RuntimeWarning: divide by zero encountered in double_scalars\n"
     ]
    },
    {
     "name": "stdout",
     "output_type": "stream",
     "text": [
      "['Autocor_length' 'Beyond1Std' 'CAR_mean' 'CAR_sigma' 'CAR_tau' 'Con'\n",
      " 'LinearTrend' 'MaxSlope' 'Mean' 'Meanvariance' 'MedianAbsDev' 'MedianBRP'\n",
      " 'PairSlopeTrend' 'PercentAmplitude' 'Q31' 'Rcs' 'Skew' 'SlottedA_length'\n",
      " 'SmallKurtosis' 'Std' 'StetsonK_AC']\n"
     ]
    },
    {
     "name": "stderr",
     "output_type": "stream",
     "text": [
      "/anaconda3/lib/python3.6/site-packages/statsmodels/tsa/stattools.py:572: FutureWarning: fft=True will become the default in a future version of statsmodels. To suppress this warning, explicitly set fft=False.\n",
      "  FutureWarning\n",
      "/anaconda3/lib/python3.6/site-packages/numpy/core/fromnumeric.py:3118: RuntimeWarning: Mean of empty slice.\n",
      "  out=out, **kwargs)\n",
      "/anaconda3/lib/python3.6/site-packages/numpy/core/_methods.py:85: RuntimeWarning: invalid value encountered in double_scalars\n",
      "  ret = ret.dtype.type(ret / rcount)\n",
      "/anaconda3/lib/python3.6/site-packages/numpy/core/_methods.py:140: RuntimeWarning: Degrees of freedom <= 0 for slice\n",
      "  keepdims=keepdims)\n",
      "/anaconda3/lib/python3.6/site-packages/numpy/core/_methods.py:110: RuntimeWarning: invalid value encountered in true_divide\n",
      "  arrmean, rcount, out=arrmean, casting='unsafe', subok=False)\n",
      "/anaconda3/lib/python3.6/site-packages/numpy/core/_methods.py:132: RuntimeWarning: invalid value encountered in double_scalars\n",
      "  ret = ret.dtype.type(ret / rcount)\n",
      "/anaconda3/lib/python3.6/site-packages/feets/extractors/ext_stetson.py:248: RuntimeWarning: divide by zero encountered in double_scalars\n",
      "  np.sum(np.abs(sigmap)) / np.sqrt(np.sum(sigmap ** 2)))\n",
      "/anaconda3/lib/python3.6/site-packages/feets/extractors/ext_stetson.py:248: RuntimeWarning: invalid value encountered in double_scalars\n",
      "  np.sum(np.abs(sigmap)) / np.sqrt(np.sum(sigmap ** 2)))\n",
      "/anaconda3/lib/python3.6/site-packages/ipykernel_launcher.py:118: RuntimeWarning: divide by zero encountered in double_scalars\n",
      "/anaconda3/lib/python3.6/site-packages/ipykernel_launcher.py:119: RuntimeWarning: divide by zero encountered in double_scalars\n"
     ]
    },
    {
     "name": "stdout",
     "output_type": "stream",
     "text": [
      "['Autocor_length' 'Beyond1Std' 'CAR_mean' 'CAR_sigma' 'CAR_tau' 'Con'\n",
      " 'LinearTrend' 'MaxSlope' 'Mean' 'Meanvariance' 'MedianAbsDev' 'MedianBRP'\n",
      " 'PairSlopeTrend' 'PercentAmplitude' 'Q31' 'Rcs' 'Skew' 'SlottedA_length'\n",
      " 'SmallKurtosis' 'Std' 'StetsonK_AC']\n"
     ]
    },
    {
     "name": "stderr",
     "output_type": "stream",
     "text": [
      "/anaconda3/lib/python3.6/site-packages/feets/extractors/ext_max_slope.py:91: RuntimeWarning: divide by zero encountered in true_divide\n",
      "  slope = np.abs(magnitude[1:] - magnitude[:-1]) / (time[1:] - time[:-1])\n",
      "/anaconda3/lib/python3.6/site-packages/statsmodels/tsa/stattools.py:572: FutureWarning: fft=True will become the default in a future version of statsmodels. To suppress this warning, explicitly set fft=False.\n",
      "  FutureWarning\n",
      "/anaconda3/lib/python3.6/site-packages/numpy/core/fromnumeric.py:3118: RuntimeWarning: Mean of empty slice.\n",
      "  out=out, **kwargs)\n",
      "/anaconda3/lib/python3.6/site-packages/numpy/core/_methods.py:85: RuntimeWarning: invalid value encountered in double_scalars\n",
      "  ret = ret.dtype.type(ret / rcount)\n",
      "/anaconda3/lib/python3.6/site-packages/numpy/core/_methods.py:140: RuntimeWarning: Degrees of freedom <= 0 for slice\n",
      "  keepdims=keepdims)\n",
      "/anaconda3/lib/python3.6/site-packages/numpy/core/_methods.py:110: RuntimeWarning: invalid value encountered in true_divide\n",
      "  arrmean, rcount, out=arrmean, casting='unsafe', subok=False)\n",
      "/anaconda3/lib/python3.6/site-packages/numpy/core/_methods.py:132: RuntimeWarning: invalid value encountered in double_scalars\n",
      "  ret = ret.dtype.type(ret / rcount)\n",
      "/anaconda3/lib/python3.6/site-packages/feets/extractors/ext_stetson.py:248: RuntimeWarning: divide by zero encountered in double_scalars\n",
      "  np.sum(np.abs(sigmap)) / np.sqrt(np.sum(sigmap ** 2)))\n",
      "/anaconda3/lib/python3.6/site-packages/feets/extractors/ext_stetson.py:248: RuntimeWarning: invalid value encountered in double_scalars\n",
      "  np.sum(np.abs(sigmap)) / np.sqrt(np.sum(sigmap ** 2)))\n",
      "/anaconda3/lib/python3.6/site-packages/ipykernel_launcher.py:118: RuntimeWarning: divide by zero encountered in double_scalars\n",
      "/anaconda3/lib/python3.6/site-packages/ipykernel_launcher.py:119: RuntimeWarning: divide by zero encountered in double_scalars\n"
     ]
    },
    {
     "name": "stdout",
     "output_type": "stream",
     "text": [
      "['Autocor_length' 'Beyond1Std' 'CAR_mean' 'CAR_sigma' 'CAR_tau' 'Con'\n",
      " 'LinearTrend' 'MaxSlope' 'Mean' 'Meanvariance' 'MedianAbsDev' 'MedianBRP'\n",
      " 'PairSlopeTrend' 'PercentAmplitude' 'Q31' 'Rcs' 'Skew' 'SlottedA_length'\n",
      " 'SmallKurtosis' 'Std' 'StetsonK_AC']\n"
     ]
    },
    {
     "name": "stderr",
     "output_type": "stream",
     "text": [
      "/anaconda3/lib/python3.6/site-packages/statsmodels/tsa/stattools.py:572: FutureWarning: fft=True will become the default in a future version of statsmodels. To suppress this warning, explicitly set fft=False.\n",
      "  FutureWarning\n",
      "/anaconda3/lib/python3.6/site-packages/ipykernel_launcher.py:118: RuntimeWarning: divide by zero encountered in double_scalars\n",
      "/anaconda3/lib/python3.6/site-packages/ipykernel_launcher.py:119: RuntimeWarning: divide by zero encountered in double_scalars\n",
      "/anaconda3/lib/python3.6/site-packages/feets/extractors/ext_max_slope.py:91: RuntimeWarning: divide by zero encountered in true_divide\n",
      "  slope = np.abs(magnitude[1:] - magnitude[:-1]) / (time[1:] - time[:-1])\n"
     ]
    },
    {
     "name": "stdout",
     "output_type": "stream",
     "text": [
      "['Autocor_length' 'Beyond1Std' 'CAR_mean' 'CAR_sigma' 'CAR_tau' 'Con'\n",
      " 'LinearTrend' 'MaxSlope' 'Mean' 'Meanvariance' 'MedianAbsDev' 'MedianBRP'\n",
      " 'PairSlopeTrend' 'PercentAmplitude' 'Q31' 'Rcs' 'Skew' 'SlottedA_length'\n",
      " 'SmallKurtosis' 'Std' 'StetsonK_AC']\n",
      "['Autocor_length' 'Beyond1Std' 'CAR_mean' 'CAR_sigma' 'CAR_tau' 'Con'\n",
      " 'LinearTrend' 'MaxSlope' 'Mean' 'Meanvariance' 'MedianAbsDev' 'MedianBRP'\n",
      " 'PairSlopeTrend' 'PercentAmplitude' 'Q31' 'Rcs' 'Skew' 'SlottedA_length'\n",
      " 'SmallKurtosis' 'Std' 'StetsonK_AC']\n"
     ]
    },
    {
     "name": "stderr",
     "output_type": "stream",
     "text": [
      "/anaconda3/lib/python3.6/site-packages/ipykernel_launcher.py:118: RuntimeWarning: divide by zero encountered in double_scalars\n",
      "/anaconda3/lib/python3.6/site-packages/ipykernel_launcher.py:119: RuntimeWarning: divide by zero encountered in double_scalars\n",
      "/anaconda3/lib/python3.6/site-packages/feets/extractors/ext_max_slope.py:91: RuntimeWarning: divide by zero encountered in true_divide\n",
      "  slope = np.abs(magnitude[1:] - magnitude[:-1]) / (time[1:] - time[:-1])\n",
      "/anaconda3/lib/python3.6/site-packages/statsmodels/tsa/stattools.py:572: FutureWarning: fft=True will become the default in a future version of statsmodels. To suppress this warning, explicitly set fft=False.\n",
      "  FutureWarning\n",
      "/anaconda3/lib/python3.6/site-packages/numpy/core/fromnumeric.py:3118: RuntimeWarning: Mean of empty slice.\n",
      "  out=out, **kwargs)\n",
      "/anaconda3/lib/python3.6/site-packages/numpy/core/_methods.py:85: RuntimeWarning: invalid value encountered in double_scalars\n",
      "  ret = ret.dtype.type(ret / rcount)\n",
      "/anaconda3/lib/python3.6/site-packages/numpy/core/_methods.py:140: RuntimeWarning: Degrees of freedom <= 0 for slice\n",
      "  keepdims=keepdims)\n",
      "/anaconda3/lib/python3.6/site-packages/numpy/core/_methods.py:110: RuntimeWarning: invalid value encountered in true_divide\n",
      "  arrmean, rcount, out=arrmean, casting='unsafe', subok=False)\n",
      "/anaconda3/lib/python3.6/site-packages/numpy/core/_methods.py:132: RuntimeWarning: invalid value encountered in double_scalars\n",
      "  ret = ret.dtype.type(ret / rcount)\n",
      "/anaconda3/lib/python3.6/site-packages/feets/extractors/ext_stetson.py:248: RuntimeWarning: divide by zero encountered in double_scalars\n",
      "  np.sum(np.abs(sigmap)) / np.sqrt(np.sum(sigmap ** 2)))\n",
      "/anaconda3/lib/python3.6/site-packages/feets/extractors/ext_stetson.py:248: RuntimeWarning: invalid value encountered in double_scalars\n",
      "  np.sum(np.abs(sigmap)) / np.sqrt(np.sum(sigmap ** 2)))\n",
      "/anaconda3/lib/python3.6/site-packages/ipykernel_launcher.py:118: RuntimeWarning: divide by zero encountered in double_scalars\n",
      "/anaconda3/lib/python3.6/site-packages/ipykernel_launcher.py:119: RuntimeWarning: divide by zero encountered in double_scalars\n"
     ]
    },
    {
     "name": "stdout",
     "output_type": "stream",
     "text": [
      "['Autocor_length' 'Beyond1Std' 'CAR_mean' 'CAR_sigma' 'CAR_tau' 'Con'\n",
      " 'LinearTrend' 'MaxSlope' 'Mean' 'Meanvariance' 'MedianAbsDev' 'MedianBRP'\n",
      " 'PairSlopeTrend' 'PercentAmplitude' 'Q31' 'Rcs' 'Skew' 'SlottedA_length'\n",
      " 'SmallKurtosis' 'Std' 'StetsonK_AC']\n"
     ]
    },
    {
     "name": "stderr",
     "output_type": "stream",
     "text": [
      "/anaconda3/lib/python3.6/site-packages/feets/extractors/ext_max_slope.py:91: RuntimeWarning: divide by zero encountered in true_divide\n",
      "  slope = np.abs(magnitude[1:] - magnitude[:-1]) / (time[1:] - time[:-1])\n",
      "/anaconda3/lib/python3.6/site-packages/statsmodels/tsa/stattools.py:572: FutureWarning: fft=True will become the default in a future version of statsmodels. To suppress this warning, explicitly set fft=False.\n",
      "  FutureWarning\n",
      "/anaconda3/lib/python3.6/site-packages/numpy/core/fromnumeric.py:3118: RuntimeWarning: Mean of empty slice.\n",
      "  out=out, **kwargs)\n",
      "/anaconda3/lib/python3.6/site-packages/numpy/core/_methods.py:85: RuntimeWarning: invalid value encountered in double_scalars\n",
      "  ret = ret.dtype.type(ret / rcount)\n",
      "/anaconda3/lib/python3.6/site-packages/numpy/core/_methods.py:140: RuntimeWarning: Degrees of freedom <= 0 for slice\n",
      "  keepdims=keepdims)\n",
      "/anaconda3/lib/python3.6/site-packages/numpy/core/_methods.py:110: RuntimeWarning: invalid value encountered in true_divide\n",
      "  arrmean, rcount, out=arrmean, casting='unsafe', subok=False)\n",
      "/anaconda3/lib/python3.6/site-packages/numpy/core/_methods.py:132: RuntimeWarning: invalid value encountered in double_scalars\n",
      "  ret = ret.dtype.type(ret / rcount)\n",
      "/anaconda3/lib/python3.6/site-packages/feets/extractors/ext_stetson.py:248: RuntimeWarning: divide by zero encountered in double_scalars\n",
      "  np.sum(np.abs(sigmap)) / np.sqrt(np.sum(sigmap ** 2)))\n",
      "/anaconda3/lib/python3.6/site-packages/feets/extractors/ext_stetson.py:248: RuntimeWarning: invalid value encountered in double_scalars\n",
      "  np.sum(np.abs(sigmap)) / np.sqrt(np.sum(sigmap ** 2)))\n",
      "/anaconda3/lib/python3.6/site-packages/ipykernel_launcher.py:118: RuntimeWarning: divide by zero encountered in double_scalars\n",
      "/anaconda3/lib/python3.6/site-packages/ipykernel_launcher.py:119: RuntimeWarning: divide by zero encountered in double_scalars\n"
     ]
    },
    {
     "name": "stdout",
     "output_type": "stream",
     "text": [
      "['Autocor_length' 'Beyond1Std' 'CAR_mean' 'CAR_sigma' 'CAR_tau' 'Con'\n",
      " 'LinearTrend' 'MaxSlope' 'Mean' 'Meanvariance' 'MedianAbsDev' 'MedianBRP'\n",
      " 'PairSlopeTrend' 'PercentAmplitude' 'Q31' 'Rcs' 'Skew' 'SlottedA_length'\n",
      " 'SmallKurtosis' 'Std' 'StetsonK_AC']\n"
     ]
    },
    {
     "name": "stderr",
     "output_type": "stream",
     "text": [
      "/anaconda3/lib/python3.6/site-packages/statsmodels/tsa/stattools.py:572: FutureWarning: fft=True will become the default in a future version of statsmodels. To suppress this warning, explicitly set fft=False.\n",
      "  FutureWarning\n",
      "/anaconda3/lib/python3.6/site-packages/ipykernel_launcher.py:118: RuntimeWarning: divide by zero encountered in double_scalars\n",
      "/anaconda3/lib/python3.6/site-packages/ipykernel_launcher.py:119: RuntimeWarning: divide by zero encountered in double_scalars\n"
     ]
    },
    {
     "name": "stdout",
     "output_type": "stream",
     "text": [
      "['Autocor_length' 'Beyond1Std' 'CAR_mean' 'CAR_sigma' 'CAR_tau' 'Con'\n",
      " 'LinearTrend' 'MaxSlope' 'Mean' 'Meanvariance' 'MedianAbsDev' 'MedianBRP'\n",
      " 'PairSlopeTrend' 'PercentAmplitude' 'Q31' 'Rcs' 'Skew' 'SlottedA_length'\n",
      " 'SmallKurtosis' 'Std' 'StetsonK_AC']\n"
     ]
    },
    {
     "name": "stderr",
     "output_type": "stream",
     "text": [
      "/anaconda3/lib/python3.6/site-packages/statsmodels/tsa/stattools.py:572: FutureWarning: fft=True will become the default in a future version of statsmodels. To suppress this warning, explicitly set fft=False.\n",
      "  FutureWarning\n",
      "/anaconda3/lib/python3.6/site-packages/numpy/core/fromnumeric.py:3118: RuntimeWarning: Mean of empty slice.\n",
      "  out=out, **kwargs)\n",
      "/anaconda3/lib/python3.6/site-packages/numpy/core/_methods.py:85: RuntimeWarning: invalid value encountered in double_scalars\n",
      "  ret = ret.dtype.type(ret / rcount)\n",
      "/anaconda3/lib/python3.6/site-packages/numpy/core/_methods.py:140: RuntimeWarning: Degrees of freedom <= 0 for slice\n",
      "  keepdims=keepdims)\n",
      "/anaconda3/lib/python3.6/site-packages/numpy/core/_methods.py:110: RuntimeWarning: invalid value encountered in true_divide\n",
      "  arrmean, rcount, out=arrmean, casting='unsafe', subok=False)\n",
      "/anaconda3/lib/python3.6/site-packages/numpy/core/_methods.py:132: RuntimeWarning: invalid value encountered in double_scalars\n",
      "  ret = ret.dtype.type(ret / rcount)\n",
      "/anaconda3/lib/python3.6/site-packages/feets/extractors/ext_stetson.py:248: RuntimeWarning: divide by zero encountered in double_scalars\n",
      "  np.sum(np.abs(sigmap)) / np.sqrt(np.sum(sigmap ** 2)))\n",
      "/anaconda3/lib/python3.6/site-packages/feets/extractors/ext_stetson.py:248: RuntimeWarning: invalid value encountered in double_scalars\n",
      "  np.sum(np.abs(sigmap)) / np.sqrt(np.sum(sigmap ** 2)))\n",
      "/anaconda3/lib/python3.6/site-packages/ipykernel_launcher.py:118: RuntimeWarning: divide by zero encountered in double_scalars\n",
      "/anaconda3/lib/python3.6/site-packages/ipykernel_launcher.py:119: RuntimeWarning: divide by zero encountered in double_scalars\n"
     ]
    },
    {
     "name": "stdout",
     "output_type": "stream",
     "text": [
      "['Autocor_length' 'Beyond1Std' 'CAR_mean' 'CAR_sigma' 'CAR_tau' 'Con'\n",
      " 'LinearTrend' 'MaxSlope' 'Mean' 'Meanvariance' 'MedianAbsDev' 'MedianBRP'\n",
      " 'PairSlopeTrend' 'PercentAmplitude' 'Q31' 'Rcs' 'Skew' 'SlottedA_length'\n",
      " 'SmallKurtosis' 'Std' 'StetsonK_AC']\n"
     ]
    },
    {
     "name": "stderr",
     "output_type": "stream",
     "text": [
      "/anaconda3/lib/python3.6/site-packages/feets/extractors/ext_max_slope.py:91: RuntimeWarning: divide by zero encountered in true_divide\n",
      "  slope = np.abs(magnitude[1:] - magnitude[:-1]) / (time[1:] - time[:-1])\n",
      "/anaconda3/lib/python3.6/site-packages/statsmodels/tsa/stattools.py:572: FutureWarning: fft=True will become the default in a future version of statsmodels. To suppress this warning, explicitly set fft=False.\n",
      "  FutureWarning\n",
      "/anaconda3/lib/python3.6/site-packages/numpy/core/fromnumeric.py:3118: RuntimeWarning: Mean of empty slice.\n",
      "  out=out, **kwargs)\n",
      "/anaconda3/lib/python3.6/site-packages/numpy/core/_methods.py:85: RuntimeWarning: invalid value encountered in double_scalars\n",
      "  ret = ret.dtype.type(ret / rcount)\n",
      "/anaconda3/lib/python3.6/site-packages/numpy/core/_methods.py:140: RuntimeWarning: Degrees of freedom <= 0 for slice\n",
      "  keepdims=keepdims)\n",
      "/anaconda3/lib/python3.6/site-packages/numpy/core/_methods.py:110: RuntimeWarning: invalid value encountered in true_divide\n",
      "  arrmean, rcount, out=arrmean, casting='unsafe', subok=False)\n",
      "/anaconda3/lib/python3.6/site-packages/numpy/core/_methods.py:132: RuntimeWarning: invalid value encountered in double_scalars\n",
      "  ret = ret.dtype.type(ret / rcount)\n",
      "/anaconda3/lib/python3.6/site-packages/feets/extractors/ext_stetson.py:248: RuntimeWarning: divide by zero encountered in double_scalars\n",
      "  np.sum(np.abs(sigmap)) / np.sqrt(np.sum(sigmap ** 2)))\n",
      "/anaconda3/lib/python3.6/site-packages/feets/extractors/ext_stetson.py:248: RuntimeWarning: invalid value encountered in double_scalars\n",
      "  np.sum(np.abs(sigmap)) / np.sqrt(np.sum(sigmap ** 2)))\n",
      "/anaconda3/lib/python3.6/site-packages/ipykernel_launcher.py:118: RuntimeWarning: divide by zero encountered in double_scalars\n",
      "/anaconda3/lib/python3.6/site-packages/ipykernel_launcher.py:119: RuntimeWarning: divide by zero encountered in double_scalars\n"
     ]
    },
    {
     "name": "stdout",
     "output_type": "stream",
     "text": [
      "['Autocor_length' 'Beyond1Std' 'CAR_mean' 'CAR_sigma' 'CAR_tau' 'Con'\n",
      " 'LinearTrend' 'MaxSlope' 'Mean' 'Meanvariance' 'MedianAbsDev' 'MedianBRP'\n",
      " 'PairSlopeTrend' 'PercentAmplitude' 'Q31' 'Rcs' 'Skew' 'SlottedA_length'\n",
      " 'SmallKurtosis' 'Std' 'StetsonK_AC']\n"
     ]
    },
    {
     "name": "stderr",
     "output_type": "stream",
     "text": [
      "/anaconda3/lib/python3.6/site-packages/statsmodels/tsa/stattools.py:572: FutureWarning: fft=True will become the default in a future version of statsmodels. To suppress this warning, explicitly set fft=False.\n",
      "  FutureWarning\n",
      "/anaconda3/lib/python3.6/site-packages/ipykernel_launcher.py:118: RuntimeWarning: divide by zero encountered in double_scalars\n",
      "/anaconda3/lib/python3.6/site-packages/ipykernel_launcher.py:119: RuntimeWarning: divide by zero encountered in double_scalars\n",
      "/anaconda3/lib/python3.6/site-packages/feets/extractors/ext_max_slope.py:91: RuntimeWarning: divide by zero encountered in true_divide\n",
      "  slope = np.abs(magnitude[1:] - magnitude[:-1]) / (time[1:] - time[:-1])\n"
     ]
    },
    {
     "name": "stdout",
     "output_type": "stream",
     "text": [
      "['Autocor_length' 'Beyond1Std' 'CAR_mean' 'CAR_sigma' 'CAR_tau' 'Con'\n",
      " 'LinearTrend' 'MaxSlope' 'Mean' 'Meanvariance' 'MedianAbsDev' 'MedianBRP'\n",
      " 'PairSlopeTrend' 'PercentAmplitude' 'Q31' 'Rcs' 'Skew' 'SlottedA_length'\n",
      " 'SmallKurtosis' 'Std' 'StetsonK_AC']\n"
     ]
    },
    {
     "name": "stderr",
     "output_type": "stream",
     "text": [
      "/anaconda3/lib/python3.6/site-packages/statsmodels/tsa/stattools.py:572: FutureWarning: fft=True will become the default in a future version of statsmodels. To suppress this warning, explicitly set fft=False.\n",
      "  FutureWarning\n",
      "/anaconda3/lib/python3.6/site-packages/numpy/core/fromnumeric.py:3118: RuntimeWarning: Mean of empty slice.\n",
      "  out=out, **kwargs)\n",
      "/anaconda3/lib/python3.6/site-packages/numpy/core/_methods.py:85: RuntimeWarning: invalid value encountered in double_scalars\n",
      "  ret = ret.dtype.type(ret / rcount)\n",
      "/anaconda3/lib/python3.6/site-packages/numpy/core/_methods.py:140: RuntimeWarning: Degrees of freedom <= 0 for slice\n",
      "  keepdims=keepdims)\n",
      "/anaconda3/lib/python3.6/site-packages/numpy/core/_methods.py:110: RuntimeWarning: invalid value encountered in true_divide\n",
      "  arrmean, rcount, out=arrmean, casting='unsafe', subok=False)\n",
      "/anaconda3/lib/python3.6/site-packages/numpy/core/_methods.py:132: RuntimeWarning: invalid value encountered in double_scalars\n",
      "  ret = ret.dtype.type(ret / rcount)\n",
      "/anaconda3/lib/python3.6/site-packages/feets/extractors/ext_stetson.py:248: RuntimeWarning: divide by zero encountered in double_scalars\n",
      "  np.sum(np.abs(sigmap)) / np.sqrt(np.sum(sigmap ** 2)))\n",
      "/anaconda3/lib/python3.6/site-packages/feets/extractors/ext_stetson.py:248: RuntimeWarning: invalid value encountered in double_scalars\n",
      "  np.sum(np.abs(sigmap)) / np.sqrt(np.sum(sigmap ** 2)))\n",
      "/anaconda3/lib/python3.6/site-packages/ipykernel_launcher.py:118: RuntimeWarning: divide by zero encountered in double_scalars\n",
      "/anaconda3/lib/python3.6/site-packages/ipykernel_launcher.py:119: RuntimeWarning: divide by zero encountered in double_scalars\n"
     ]
    },
    {
     "name": "stdout",
     "output_type": "stream",
     "text": [
      "['Autocor_length' 'Beyond1Std' 'CAR_mean' 'CAR_sigma' 'CAR_tau' 'Con'\n",
      " 'LinearTrend' 'MaxSlope' 'Mean' 'Meanvariance' 'MedianAbsDev' 'MedianBRP'\n",
      " 'PairSlopeTrend' 'PercentAmplitude' 'Q31' 'Rcs' 'Skew' 'SlottedA_length'\n",
      " 'SmallKurtosis' 'Std' 'StetsonK_AC']\n"
     ]
    },
    {
     "name": "stderr",
     "output_type": "stream",
     "text": [
      "/anaconda3/lib/python3.6/site-packages/feets/extractors/ext_max_slope.py:91: RuntimeWarning: divide by zero encountered in true_divide\n",
      "  slope = np.abs(magnitude[1:] - magnitude[:-1]) / (time[1:] - time[:-1])\n",
      "/anaconda3/lib/python3.6/site-packages/statsmodels/tsa/stattools.py:572: FutureWarning: fft=True will become the default in a future version of statsmodels. To suppress this warning, explicitly set fft=False.\n",
      "  FutureWarning\n",
      "/anaconda3/lib/python3.6/site-packages/ipykernel_launcher.py:118: RuntimeWarning: divide by zero encountered in double_scalars\n",
      "/anaconda3/lib/python3.6/site-packages/ipykernel_launcher.py:119: RuntimeWarning: divide by zero encountered in double_scalars\n"
     ]
    },
    {
     "name": "stdout",
     "output_type": "stream",
     "text": [
      "['Autocor_length' 'Beyond1Std' 'CAR_mean' 'CAR_sigma' 'CAR_tau' 'Con'\n",
      " 'LinearTrend' 'MaxSlope' 'Mean' 'Meanvariance' 'MedianAbsDev' 'MedianBRP'\n",
      " 'PairSlopeTrend' 'PercentAmplitude' 'Q31' 'Rcs' 'Skew' 'SlottedA_length'\n",
      " 'SmallKurtosis' 'Std' 'StetsonK_AC']\n"
     ]
    },
    {
     "name": "stderr",
     "output_type": "stream",
     "text": [
      "/anaconda3/lib/python3.6/site-packages/statsmodels/tsa/stattools.py:572: FutureWarning: fft=True will become the default in a future version of statsmodels. To suppress this warning, explicitly set fft=False.\n",
      "  FutureWarning\n",
      "/anaconda3/lib/python3.6/site-packages/ipykernel_launcher.py:118: RuntimeWarning: divide by zero encountered in double_scalars\n",
      "/anaconda3/lib/python3.6/site-packages/ipykernel_launcher.py:119: RuntimeWarning: divide by zero encountered in double_scalars\n"
     ]
    },
    {
     "name": "stdout",
     "output_type": "stream",
     "text": [
      "['Autocor_length' 'Beyond1Std' 'CAR_mean' 'CAR_sigma' 'CAR_tau' 'Con'\n",
      " 'LinearTrend' 'MaxSlope' 'Mean' 'Meanvariance' 'MedianAbsDev' 'MedianBRP'\n",
      " 'PairSlopeTrend' 'PercentAmplitude' 'Q31' 'Rcs' 'Skew' 'SlottedA_length'\n",
      " 'SmallKurtosis' 'Std' 'StetsonK_AC']\n",
      "['Autocor_length' 'Beyond1Std' 'CAR_mean' 'CAR_sigma' 'CAR_tau' 'Con'\n",
      " 'LinearTrend' 'MaxSlope' 'Mean' 'Meanvariance' 'MedianAbsDev' 'MedianBRP'\n",
      " 'PairSlopeTrend' 'PercentAmplitude' 'Q31' 'Rcs' 'Skew' 'SlottedA_length'\n",
      " 'SmallKurtosis' 'Std' 'StetsonK_AC']\n"
     ]
    },
    {
     "name": "stderr",
     "output_type": "stream",
     "text": [
      "/anaconda3/lib/python3.6/site-packages/ipykernel_launcher.py:118: RuntimeWarning: divide by zero encountered in double_scalars\n",
      "/anaconda3/lib/python3.6/site-packages/ipykernel_launcher.py:119: RuntimeWarning: divide by zero encountered in double_scalars\n",
      "/anaconda3/lib/python3.6/site-packages/feets/extractors/ext_max_slope.py:91: RuntimeWarning: divide by zero encountered in true_divide\n",
      "  slope = np.abs(magnitude[1:] - magnitude[:-1]) / (time[1:] - time[:-1])\n",
      "/anaconda3/lib/python3.6/site-packages/statsmodels/tsa/stattools.py:572: FutureWarning: fft=True will become the default in a future version of statsmodels. To suppress this warning, explicitly set fft=False.\n",
      "  FutureWarning\n",
      "/anaconda3/lib/python3.6/site-packages/numpy/core/fromnumeric.py:3118: RuntimeWarning: Mean of empty slice.\n",
      "  out=out, **kwargs)\n",
      "/anaconda3/lib/python3.6/site-packages/numpy/core/_methods.py:85: RuntimeWarning: invalid value encountered in double_scalars\n",
      "  ret = ret.dtype.type(ret / rcount)\n",
      "/anaconda3/lib/python3.6/site-packages/numpy/core/_methods.py:140: RuntimeWarning: Degrees of freedom <= 0 for slice\n",
      "  keepdims=keepdims)\n",
      "/anaconda3/lib/python3.6/site-packages/numpy/core/_methods.py:110: RuntimeWarning: invalid value encountered in true_divide\n",
      "  arrmean, rcount, out=arrmean, casting='unsafe', subok=False)\n",
      "/anaconda3/lib/python3.6/site-packages/numpy/core/_methods.py:132: RuntimeWarning: invalid value encountered in double_scalars\n",
      "  ret = ret.dtype.type(ret / rcount)\n",
      "/anaconda3/lib/python3.6/site-packages/feets/extractors/ext_stetson.py:248: RuntimeWarning: divide by zero encountered in double_scalars\n",
      "  np.sum(np.abs(sigmap)) / np.sqrt(np.sum(sigmap ** 2)))\n",
      "/anaconda3/lib/python3.6/site-packages/feets/extractors/ext_stetson.py:248: RuntimeWarning: invalid value encountered in double_scalars\n",
      "  np.sum(np.abs(sigmap)) / np.sqrt(np.sum(sigmap ** 2)))\n",
      "/anaconda3/lib/python3.6/site-packages/ipykernel_launcher.py:118: RuntimeWarning: divide by zero encountered in double_scalars\n",
      "/anaconda3/lib/python3.6/site-packages/ipykernel_launcher.py:119: RuntimeWarning: divide by zero encountered in double_scalars\n"
     ]
    },
    {
     "name": "stdout",
     "output_type": "stream",
     "text": [
      "['Autocor_length' 'Beyond1Std' 'CAR_mean' 'CAR_sigma' 'CAR_tau' 'Con'\n",
      " 'LinearTrend' 'MaxSlope' 'Mean' 'Meanvariance' 'MedianAbsDev' 'MedianBRP'\n",
      " 'PairSlopeTrend' 'PercentAmplitude' 'Q31' 'Rcs' 'Skew' 'SlottedA_length'\n",
      " 'SmallKurtosis' 'Std' 'StetsonK_AC']\n"
     ]
    },
    {
     "name": "stderr",
     "output_type": "stream",
     "text": [
      "/anaconda3/lib/python3.6/site-packages/feets/extractors/ext_max_slope.py:91: RuntimeWarning: divide by zero encountered in true_divide\n",
      "  slope = np.abs(magnitude[1:] - magnitude[:-1]) / (time[1:] - time[:-1])\n",
      "/anaconda3/lib/python3.6/site-packages/statsmodels/tsa/stattools.py:572: FutureWarning: fft=True will become the default in a future version of statsmodels. To suppress this warning, explicitly set fft=False.\n",
      "  FutureWarning\n",
      "/anaconda3/lib/python3.6/site-packages/numpy/core/fromnumeric.py:3118: RuntimeWarning: Mean of empty slice.\n",
      "  out=out, **kwargs)\n",
      "/anaconda3/lib/python3.6/site-packages/numpy/core/_methods.py:85: RuntimeWarning: invalid value encountered in double_scalars\n",
      "  ret = ret.dtype.type(ret / rcount)\n",
      "/anaconda3/lib/python3.6/site-packages/numpy/core/_methods.py:140: RuntimeWarning: Degrees of freedom <= 0 for slice\n",
      "  keepdims=keepdims)\n",
      "/anaconda3/lib/python3.6/site-packages/numpy/core/_methods.py:110: RuntimeWarning: invalid value encountered in true_divide\n",
      "  arrmean, rcount, out=arrmean, casting='unsafe', subok=False)\n",
      "/anaconda3/lib/python3.6/site-packages/numpy/core/_methods.py:132: RuntimeWarning: invalid value encountered in double_scalars\n",
      "  ret = ret.dtype.type(ret / rcount)\n",
      "/anaconda3/lib/python3.6/site-packages/feets/extractors/ext_stetson.py:248: RuntimeWarning: divide by zero encountered in double_scalars\n",
      "  np.sum(np.abs(sigmap)) / np.sqrt(np.sum(sigmap ** 2)))\n",
      "/anaconda3/lib/python3.6/site-packages/feets/extractors/ext_stetson.py:248: RuntimeWarning: invalid value encountered in double_scalars\n",
      "  np.sum(np.abs(sigmap)) / np.sqrt(np.sum(sigmap ** 2)))\n",
      "/anaconda3/lib/python3.6/site-packages/ipykernel_launcher.py:118: RuntimeWarning: divide by zero encountered in double_scalars\n",
      "/anaconda3/lib/python3.6/site-packages/ipykernel_launcher.py:119: RuntimeWarning: divide by zero encountered in double_scalars\n"
     ]
    },
    {
     "name": "stdout",
     "output_type": "stream",
     "text": [
      "['Autocor_length' 'Beyond1Std' 'CAR_mean' 'CAR_sigma' 'CAR_tau' 'Con'\n",
      " 'LinearTrend' 'MaxSlope' 'Mean' 'Meanvariance' 'MedianAbsDev' 'MedianBRP'\n",
      " 'PairSlopeTrend' 'PercentAmplitude' 'Q31' 'Rcs' 'Skew' 'SlottedA_length'\n",
      " 'SmallKurtosis' 'Std' 'StetsonK_AC']\n"
     ]
    },
    {
     "name": "stderr",
     "output_type": "stream",
     "text": [
      "/anaconda3/lib/python3.6/site-packages/ipykernel_launcher.py:118: RuntimeWarning: divide by zero encountered in double_scalars\n",
      "/anaconda3/lib/python3.6/site-packages/ipykernel_launcher.py:119: RuntimeWarning: divide by zero encountered in double_scalars\n",
      "/anaconda3/lib/python3.6/site-packages/feets/extractors/ext_max_slope.py:91: RuntimeWarning: divide by zero encountered in true_divide\n",
      "  slope = np.abs(magnitude[1:] - magnitude[:-1]) / (time[1:] - time[:-1])\n",
      "/anaconda3/lib/python3.6/site-packages/statsmodels/tsa/stattools.py:572: FutureWarning: fft=True will become the default in a future version of statsmodels. To suppress this warning, explicitly set fft=False.\n",
      "  FutureWarning\n",
      "/anaconda3/lib/python3.6/site-packages/numpy/core/fromnumeric.py:3118: RuntimeWarning: Mean of empty slice.\n",
      "  out=out, **kwargs)\n",
      "/anaconda3/lib/python3.6/site-packages/numpy/core/_methods.py:85: RuntimeWarning: invalid value encountered in double_scalars\n",
      "  ret = ret.dtype.type(ret / rcount)\n",
      "/anaconda3/lib/python3.6/site-packages/numpy/core/_methods.py:140: RuntimeWarning: Degrees of freedom <= 0 for slice\n",
      "  keepdims=keepdims)\n",
      "/anaconda3/lib/python3.6/site-packages/numpy/core/_methods.py:110: RuntimeWarning: invalid value encountered in true_divide\n",
      "  arrmean, rcount, out=arrmean, casting='unsafe', subok=False)\n",
      "/anaconda3/lib/python3.6/site-packages/numpy/core/_methods.py:132: RuntimeWarning: invalid value encountered in double_scalars\n",
      "  ret = ret.dtype.type(ret / rcount)\n",
      "/anaconda3/lib/python3.6/site-packages/feets/extractors/ext_stetson.py:248: RuntimeWarning: divide by zero encountered in double_scalars\n",
      "  np.sum(np.abs(sigmap)) / np.sqrt(np.sum(sigmap ** 2)))\n",
      "/anaconda3/lib/python3.6/site-packages/feets/extractors/ext_stetson.py:248: RuntimeWarning: invalid value encountered in double_scalars\n",
      "  np.sum(np.abs(sigmap)) / np.sqrt(np.sum(sigmap ** 2)))\n"
     ]
    },
    {
     "name": "stdout",
     "output_type": "stream",
     "text": [
      "['Autocor_length' 'Beyond1Std' 'CAR_mean' 'CAR_sigma' 'CAR_tau' 'Con'\n",
      " 'LinearTrend' 'MaxSlope' 'Mean' 'Meanvariance' 'MedianAbsDev' 'MedianBRP'\n",
      " 'PairSlopeTrend' 'PercentAmplitude' 'Q31' 'Rcs' 'Skew' 'SlottedA_length'\n",
      " 'SmallKurtosis' 'Std' 'StetsonK_AC']\n",
      "['Autocor_length' 'Beyond1Std' 'CAR_mean' 'CAR_sigma' 'CAR_tau' 'Con'\n",
      " 'LinearTrend' 'MaxSlope' 'Mean' 'Meanvariance' 'MedianAbsDev' 'MedianBRP'\n",
      " 'PairSlopeTrend' 'PercentAmplitude' 'Q31' 'Rcs' 'Skew' 'SlottedA_length'\n",
      " 'SmallKurtosis' 'Std' 'StetsonK_AC']\n"
     ]
    },
    {
     "name": "stderr",
     "output_type": "stream",
     "text": [
      "/anaconda3/lib/python3.6/site-packages/ipykernel_launcher.py:118: RuntimeWarning: divide by zero encountered in double_scalars\n",
      "/anaconda3/lib/python3.6/site-packages/ipykernel_launcher.py:119: RuntimeWarning: divide by zero encountered in double_scalars\n",
      "/anaconda3/lib/python3.6/site-packages/statsmodels/tsa/stattools.py:572: FutureWarning: fft=True will become the default in a future version of statsmodels. To suppress this warning, explicitly set fft=False.\n",
      "  FutureWarning\n"
     ]
    },
    {
     "name": "stdout",
     "output_type": "stream",
     "text": [
      "['Autocor_length' 'Beyond1Std' 'CAR_mean' 'CAR_sigma' 'CAR_tau' 'Con'\n",
      " 'LinearTrend' 'MaxSlope' 'Mean' 'Meanvariance' 'MedianAbsDev' 'MedianBRP'\n",
      " 'PairSlopeTrend' 'PercentAmplitude' 'Q31' 'Rcs' 'Skew' 'SlottedA_length'\n",
      " 'SmallKurtosis' 'Std' 'StetsonK_AC']\n"
     ]
    },
    {
     "name": "stderr",
     "output_type": "stream",
     "text": [
      "/anaconda3/lib/python3.6/site-packages/ipykernel_launcher.py:118: RuntimeWarning: divide by zero encountered in double_scalars\n",
      "/anaconda3/lib/python3.6/site-packages/ipykernel_launcher.py:119: RuntimeWarning: divide by zero encountered in double_scalars\n",
      "/anaconda3/lib/python3.6/site-packages/statsmodels/tsa/stattools.py:572: FutureWarning: fft=True will become the default in a future version of statsmodels. To suppress this warning, explicitly set fft=False.\n",
      "  FutureWarning\n",
      "/anaconda3/lib/python3.6/site-packages/numpy/core/fromnumeric.py:3118: RuntimeWarning: Mean of empty slice.\n",
      "  out=out, **kwargs)\n",
      "/anaconda3/lib/python3.6/site-packages/numpy/core/_methods.py:85: RuntimeWarning: invalid value encountered in double_scalars\n",
      "  ret = ret.dtype.type(ret / rcount)\n",
      "/anaconda3/lib/python3.6/site-packages/numpy/core/_methods.py:140: RuntimeWarning: Degrees of freedom <= 0 for slice\n",
      "  keepdims=keepdims)\n",
      "/anaconda3/lib/python3.6/site-packages/numpy/core/_methods.py:110: RuntimeWarning: invalid value encountered in true_divide\n",
      "  arrmean, rcount, out=arrmean, casting='unsafe', subok=False)\n",
      "/anaconda3/lib/python3.6/site-packages/numpy/core/_methods.py:132: RuntimeWarning: invalid value encountered in double_scalars\n",
      "  ret = ret.dtype.type(ret / rcount)\n",
      "/anaconda3/lib/python3.6/site-packages/feets/extractors/ext_stetson.py:248: RuntimeWarning: divide by zero encountered in double_scalars\n",
      "  np.sum(np.abs(sigmap)) / np.sqrt(np.sum(sigmap ** 2)))\n",
      "/anaconda3/lib/python3.6/site-packages/feets/extractors/ext_stetson.py:248: RuntimeWarning: invalid value encountered in double_scalars\n",
      "  np.sum(np.abs(sigmap)) / np.sqrt(np.sum(sigmap ** 2)))\n",
      "/anaconda3/lib/python3.6/site-packages/ipykernel_launcher.py:118: RuntimeWarning: divide by zero encountered in double_scalars\n",
      "/anaconda3/lib/python3.6/site-packages/ipykernel_launcher.py:119: RuntimeWarning: divide by zero encountered in double_scalars\n"
     ]
    },
    {
     "name": "stdout",
     "output_type": "stream",
     "text": [
      "['Autocor_length' 'Beyond1Std' 'CAR_mean' 'CAR_sigma' 'CAR_tau' 'Con'\n",
      " 'LinearTrend' 'MaxSlope' 'Mean' 'Meanvariance' 'MedianAbsDev' 'MedianBRP'\n",
      " 'PairSlopeTrend' 'PercentAmplitude' 'Q31' 'Rcs' 'Skew' 'SlottedA_length'\n",
      " 'SmallKurtosis' 'Std' 'StetsonK_AC']\n"
     ]
    },
    {
     "name": "stderr",
     "output_type": "stream",
     "text": [
      "/anaconda3/lib/python3.6/site-packages/statsmodels/tsa/stattools.py:572: FutureWarning: fft=True will become the default in a future version of statsmodels. To suppress this warning, explicitly set fft=False.\n",
      "  FutureWarning\n",
      "/anaconda3/lib/python3.6/site-packages/ipykernel_launcher.py:118: RuntimeWarning: divide by zero encountered in double_scalars\n",
      "/anaconda3/lib/python3.6/site-packages/ipykernel_launcher.py:119: RuntimeWarning: divide by zero encountered in double_scalars\n"
     ]
    },
    {
     "name": "stdout",
     "output_type": "stream",
     "text": [
      "['Autocor_length' 'Beyond1Std' 'CAR_mean' 'CAR_sigma' 'CAR_tau' 'Con'\n",
      " 'LinearTrend' 'MaxSlope' 'Mean' 'Meanvariance' 'MedianAbsDev' 'MedianBRP'\n",
      " 'PairSlopeTrend' 'PercentAmplitude' 'Q31' 'Rcs' 'Skew' 'SlottedA_length'\n",
      " 'SmallKurtosis' 'Std' 'StetsonK_AC']\n"
     ]
    },
    {
     "name": "stderr",
     "output_type": "stream",
     "text": [
      "/anaconda3/lib/python3.6/site-packages/statsmodels/tsa/stattools.py:572: FutureWarning: fft=True will become the default in a future version of statsmodels. To suppress this warning, explicitly set fft=False.\n",
      "  FutureWarning\n",
      "/anaconda3/lib/python3.6/site-packages/numpy/core/fromnumeric.py:3118: RuntimeWarning: Mean of empty slice.\n",
      "  out=out, **kwargs)\n",
      "/anaconda3/lib/python3.6/site-packages/numpy/core/_methods.py:85: RuntimeWarning: invalid value encountered in double_scalars\n",
      "  ret = ret.dtype.type(ret / rcount)\n",
      "/anaconda3/lib/python3.6/site-packages/numpy/core/_methods.py:140: RuntimeWarning: Degrees of freedom <= 0 for slice\n",
      "  keepdims=keepdims)\n",
      "/anaconda3/lib/python3.6/site-packages/numpy/core/_methods.py:110: RuntimeWarning: invalid value encountered in true_divide\n",
      "  arrmean, rcount, out=arrmean, casting='unsafe', subok=False)\n",
      "/anaconda3/lib/python3.6/site-packages/numpy/core/_methods.py:132: RuntimeWarning: invalid value encountered in double_scalars\n",
      "  ret = ret.dtype.type(ret / rcount)\n",
      "/anaconda3/lib/python3.6/site-packages/feets/extractors/ext_stetson.py:248: RuntimeWarning: divide by zero encountered in double_scalars\n",
      "  np.sum(np.abs(sigmap)) / np.sqrt(np.sum(sigmap ** 2)))\n",
      "/anaconda3/lib/python3.6/site-packages/feets/extractors/ext_stetson.py:248: RuntimeWarning: invalid value encountered in double_scalars\n",
      "  np.sum(np.abs(sigmap)) / np.sqrt(np.sum(sigmap ** 2)))\n",
      "/anaconda3/lib/python3.6/site-packages/ipykernel_launcher.py:118: RuntimeWarning: divide by zero encountered in double_scalars\n",
      "/anaconda3/lib/python3.6/site-packages/ipykernel_launcher.py:119: RuntimeWarning: divide by zero encountered in double_scalars\n"
     ]
    },
    {
     "name": "stdout",
     "output_type": "stream",
     "text": [
      "['Autocor_length' 'Beyond1Std' 'CAR_mean' 'CAR_sigma' 'CAR_tau' 'Con'\n",
      " 'LinearTrend' 'MaxSlope' 'Mean' 'Meanvariance' 'MedianAbsDev' 'MedianBRP'\n",
      " 'PairSlopeTrend' 'PercentAmplitude' 'Q31' 'Rcs' 'Skew' 'SlottedA_length'\n",
      " 'SmallKurtosis' 'Std' 'StetsonK_AC']\n",
      "['Autocor_length' 'Beyond1Std' 'CAR_mean' 'CAR_sigma' 'CAR_tau' 'Con'\n",
      " 'LinearTrend' 'MaxSlope' 'Mean' 'Meanvariance' 'MedianAbsDev' 'MedianBRP'\n",
      " 'PairSlopeTrend' 'PercentAmplitude' 'Q31' 'Rcs' 'Skew' 'SlottedA_length'\n",
      " 'SmallKurtosis' 'Std' 'StetsonK_AC']\n"
     ]
    },
    {
     "name": "stderr",
     "output_type": "stream",
     "text": [
      "/anaconda3/lib/python3.6/site-packages/ipykernel_launcher.py:118: RuntimeWarning: divide by zero encountered in double_scalars\n",
      "/anaconda3/lib/python3.6/site-packages/ipykernel_launcher.py:119: RuntimeWarning: divide by zero encountered in double_scalars\n",
      "/anaconda3/lib/python3.6/site-packages/statsmodels/tsa/stattools.py:572: FutureWarning: fft=True will become the default in a future version of statsmodels. To suppress this warning, explicitly set fft=False.\n",
      "  FutureWarning\n",
      "/anaconda3/lib/python3.6/site-packages/feets/extractors/ext_max_slope.py:91: RuntimeWarning: divide by zero encountered in true_divide\n",
      "  slope = np.abs(magnitude[1:] - magnitude[:-1]) / (time[1:] - time[:-1])\n",
      "/anaconda3/lib/python3.6/site-packages/numpy/core/fromnumeric.py:3118: RuntimeWarning: Mean of empty slice.\n",
      "  out=out, **kwargs)\n",
      "/anaconda3/lib/python3.6/site-packages/numpy/core/_methods.py:85: RuntimeWarning: invalid value encountered in double_scalars\n",
      "  ret = ret.dtype.type(ret / rcount)\n",
      "/anaconda3/lib/python3.6/site-packages/numpy/core/_methods.py:140: RuntimeWarning: Degrees of freedom <= 0 for slice\n",
      "  keepdims=keepdims)\n",
      "/anaconda3/lib/python3.6/site-packages/numpy/core/_methods.py:110: RuntimeWarning: invalid value encountered in true_divide\n",
      "  arrmean, rcount, out=arrmean, casting='unsafe', subok=False)\n",
      "/anaconda3/lib/python3.6/site-packages/numpy/core/_methods.py:132: RuntimeWarning: invalid value encountered in double_scalars\n",
      "  ret = ret.dtype.type(ret / rcount)\n",
      "/anaconda3/lib/python3.6/site-packages/feets/extractors/ext_stetson.py:248: RuntimeWarning: divide by zero encountered in double_scalars\n",
      "  np.sum(np.abs(sigmap)) / np.sqrt(np.sum(sigmap ** 2)))\n",
      "/anaconda3/lib/python3.6/site-packages/feets/extractors/ext_stetson.py:248: RuntimeWarning: invalid value encountered in double_scalars\n",
      "  np.sum(np.abs(sigmap)) / np.sqrt(np.sum(sigmap ** 2)))\n",
      "/anaconda3/lib/python3.6/site-packages/ipykernel_launcher.py:118: RuntimeWarning: divide by zero encountered in double_scalars\n",
      "/anaconda3/lib/python3.6/site-packages/ipykernel_launcher.py:119: RuntimeWarning: divide by zero encountered in double_scalars\n"
     ]
    },
    {
     "name": "stdout",
     "output_type": "stream",
     "text": [
      "['Autocor_length' 'Beyond1Std' 'CAR_mean' 'CAR_sigma' 'CAR_tau' 'Con'\n",
      " 'LinearTrend' 'MaxSlope' 'Mean' 'Meanvariance' 'MedianAbsDev' 'MedianBRP'\n",
      " 'PairSlopeTrend' 'PercentAmplitude' 'Q31' 'Rcs' 'Skew' 'SlottedA_length'\n",
      " 'SmallKurtosis' 'Std' 'StetsonK_AC']\n"
     ]
    },
    {
     "name": "stderr",
     "output_type": "stream",
     "text": [
      "/anaconda3/lib/python3.6/site-packages/statsmodels/tsa/stattools.py:572: FutureWarning: fft=True will become the default in a future version of statsmodels. To suppress this warning, explicitly set fft=False.\n",
      "  FutureWarning\n",
      "/anaconda3/lib/python3.6/site-packages/ipykernel_launcher.py:118: RuntimeWarning: divide by zero encountered in double_scalars\n",
      "/anaconda3/lib/python3.6/site-packages/ipykernel_launcher.py:119: RuntimeWarning: divide by zero encountered in double_scalars\n"
     ]
    },
    {
     "name": "stdout",
     "output_type": "stream",
     "text": [
      "['Autocor_length' 'Beyond1Std' 'CAR_mean' 'CAR_sigma' 'CAR_tau' 'Con'\n",
      " 'LinearTrend' 'MaxSlope' 'Mean' 'Meanvariance' 'MedianAbsDev' 'MedianBRP'\n",
      " 'PairSlopeTrend' 'PercentAmplitude' 'Q31' 'Rcs' 'Skew' 'SlottedA_length'\n",
      " 'SmallKurtosis' 'Std' 'StetsonK_AC']\n"
     ]
    },
    {
     "name": "stderr",
     "output_type": "stream",
     "text": [
      "/anaconda3/lib/python3.6/site-packages/feets/extractors/ext_max_slope.py:91: RuntimeWarning: divide by zero encountered in true_divide\n",
      "  slope = np.abs(magnitude[1:] - magnitude[:-1]) / (time[1:] - time[:-1])\n",
      "/anaconda3/lib/python3.6/site-packages/ipykernel_launcher.py:118: RuntimeWarning: divide by zero encountered in double_scalars\n",
      "/anaconda3/lib/python3.6/site-packages/ipykernel_launcher.py:119: RuntimeWarning: divide by zero encountered in double_scalars\n"
     ]
    },
    {
     "name": "stdout",
     "output_type": "stream",
     "text": [
      "['Autocor_length' 'Beyond1Std' 'CAR_mean' 'CAR_sigma' 'CAR_tau' 'Con'\n",
      " 'LinearTrend' 'MaxSlope' 'Mean' 'Meanvariance' 'MedianAbsDev' 'MedianBRP'\n",
      " 'PairSlopeTrend' 'PercentAmplitude' 'Q31' 'Rcs' 'Skew' 'SlottedA_length'\n",
      " 'SmallKurtosis' 'Std' 'StetsonK_AC']\n"
     ]
    },
    {
     "name": "stderr",
     "output_type": "stream",
     "text": [
      "/anaconda3/lib/python3.6/site-packages/statsmodels/tsa/stattools.py:572: FutureWarning: fft=True will become the default in a future version of statsmodels. To suppress this warning, explicitly set fft=False.\n",
      "  FutureWarning\n",
      "/anaconda3/lib/python3.6/site-packages/numpy/core/fromnumeric.py:3118: RuntimeWarning: Mean of empty slice.\n",
      "  out=out, **kwargs)\n",
      "/anaconda3/lib/python3.6/site-packages/numpy/core/_methods.py:85: RuntimeWarning: invalid value encountered in double_scalars\n",
      "  ret = ret.dtype.type(ret / rcount)\n",
      "/anaconda3/lib/python3.6/site-packages/numpy/core/_methods.py:140: RuntimeWarning: Degrees of freedom <= 0 for slice\n",
      "  keepdims=keepdims)\n",
      "/anaconda3/lib/python3.6/site-packages/numpy/core/_methods.py:110: RuntimeWarning: invalid value encountered in true_divide\n",
      "  arrmean, rcount, out=arrmean, casting='unsafe', subok=False)\n",
      "/anaconda3/lib/python3.6/site-packages/numpy/core/_methods.py:132: RuntimeWarning: invalid value encountered in double_scalars\n",
      "  ret = ret.dtype.type(ret / rcount)\n",
      "/anaconda3/lib/python3.6/site-packages/feets/extractors/ext_stetson.py:248: RuntimeWarning: divide by zero encountered in double_scalars\n",
      "  np.sum(np.abs(sigmap)) / np.sqrt(np.sum(sigmap ** 2)))\n",
      "/anaconda3/lib/python3.6/site-packages/feets/extractors/ext_stetson.py:248: RuntimeWarning: invalid value encountered in double_scalars\n",
      "  np.sum(np.abs(sigmap)) / np.sqrt(np.sum(sigmap ** 2)))\n",
      "/anaconda3/lib/python3.6/site-packages/ipykernel_launcher.py:118: RuntimeWarning: divide by zero encountered in double_scalars\n",
      "/anaconda3/lib/python3.6/site-packages/ipykernel_launcher.py:119: RuntimeWarning: divide by zero encountered in double_scalars\n"
     ]
    },
    {
     "name": "stdout",
     "output_type": "stream",
     "text": [
      "['Autocor_length' 'Beyond1Std' 'CAR_mean' 'CAR_sigma' 'CAR_tau' 'Con'\n",
      " 'LinearTrend' 'MaxSlope' 'Mean' 'Meanvariance' 'MedianAbsDev' 'MedianBRP'\n",
      " 'PairSlopeTrend' 'PercentAmplitude' 'Q31' 'Rcs' 'Skew' 'SlottedA_length'\n",
      " 'SmallKurtosis' 'Std' 'StetsonK_AC']\n",
      "['Autocor_length' 'Beyond1Std' 'CAR_mean' 'CAR_sigma' 'CAR_tau' 'Con'\n",
      " 'LinearTrend' 'MaxSlope' 'Mean' 'Meanvariance' 'MedianAbsDev' 'MedianBRP'\n",
      " 'PairSlopeTrend' 'PercentAmplitude' 'Q31' 'Rcs' 'Skew' 'SlottedA_length'\n",
      " 'SmallKurtosis' 'Std' 'StetsonK_AC']\n"
     ]
    },
    {
     "name": "stderr",
     "output_type": "stream",
     "text": [
      "/anaconda3/lib/python3.6/site-packages/ipykernel_launcher.py:118: RuntimeWarning: divide by zero encountered in double_scalars\n",
      "/anaconda3/lib/python3.6/site-packages/ipykernel_launcher.py:119: RuntimeWarning: divide by zero encountered in double_scalars\n",
      "/anaconda3/lib/python3.6/site-packages/feets/extractors/ext_max_slope.py:91: RuntimeWarning: divide by zero encountered in true_divide\n",
      "  slope = np.abs(magnitude[1:] - magnitude[:-1]) / (time[1:] - time[:-1])\n",
      "/anaconda3/lib/python3.6/site-packages/statsmodels/tsa/stattools.py:572: FutureWarning: fft=True will become the default in a future version of statsmodels. To suppress this warning, explicitly set fft=False.\n",
      "  FutureWarning\n"
     ]
    },
    {
     "name": "stdout",
     "output_type": "stream",
     "text": [
      "['Autocor_length' 'Beyond1Std' 'CAR_mean' 'CAR_sigma' 'CAR_tau' 'Con'\n",
      " 'LinearTrend' 'MaxSlope' 'Mean' 'Meanvariance' 'MedianAbsDev' 'MedianBRP'\n",
      " 'PairSlopeTrend' 'PercentAmplitude' 'Q31' 'Rcs' 'Skew' 'SlottedA_length'\n",
      " 'SmallKurtosis' 'Std' 'StetsonK_AC']\n"
     ]
    },
    {
     "name": "stderr",
     "output_type": "stream",
     "text": [
      "/anaconda3/lib/python3.6/site-packages/ipykernel_launcher.py:118: RuntimeWarning: divide by zero encountered in double_scalars\n",
      "/anaconda3/lib/python3.6/site-packages/ipykernel_launcher.py:119: RuntimeWarning: divide by zero encountered in double_scalars\n",
      "/anaconda3/lib/python3.6/site-packages/statsmodels/tsa/stattools.py:572: FutureWarning: fft=True will become the default in a future version of statsmodels. To suppress this warning, explicitly set fft=False.\n",
      "  FutureWarning\n"
     ]
    },
    {
     "name": "stdout",
     "output_type": "stream",
     "text": [
      "['Autocor_length' 'Beyond1Std' 'CAR_mean' 'CAR_sigma' 'CAR_tau' 'Con'\n",
      " 'LinearTrend' 'MaxSlope' 'Mean' 'Meanvariance' 'MedianAbsDev' 'MedianBRP'\n",
      " 'PairSlopeTrend' 'PercentAmplitude' 'Q31' 'Rcs' 'Skew' 'SlottedA_length'\n",
      " 'SmallKurtosis' 'Std' 'StetsonK_AC']\n"
     ]
    },
    {
     "name": "stderr",
     "output_type": "stream",
     "text": [
      "/anaconda3/lib/python3.6/site-packages/feets/extractors/ext_max_slope.py:91: RuntimeWarning: divide by zero encountered in true_divide\n",
      "  slope = np.abs(magnitude[1:] - magnitude[:-1]) / (time[1:] - time[:-1])\n",
      "/anaconda3/lib/python3.6/site-packages/numpy/core/fromnumeric.py:3118: RuntimeWarning: Mean of empty slice.\n",
      "  out=out, **kwargs)\n",
      "/anaconda3/lib/python3.6/site-packages/numpy/core/_methods.py:85: RuntimeWarning: invalid value encountered in double_scalars\n",
      "  ret = ret.dtype.type(ret / rcount)\n",
      "/anaconda3/lib/python3.6/site-packages/numpy/core/_methods.py:140: RuntimeWarning: Degrees of freedom <= 0 for slice\n",
      "  keepdims=keepdims)\n",
      "/anaconda3/lib/python3.6/site-packages/numpy/core/_methods.py:110: RuntimeWarning: invalid value encountered in true_divide\n",
      "  arrmean, rcount, out=arrmean, casting='unsafe', subok=False)\n",
      "/anaconda3/lib/python3.6/site-packages/numpy/core/_methods.py:132: RuntimeWarning: invalid value encountered in double_scalars\n",
      "  ret = ret.dtype.type(ret / rcount)\n",
      "/anaconda3/lib/python3.6/site-packages/feets/extractors/ext_stetson.py:248: RuntimeWarning: divide by zero encountered in double_scalars\n",
      "  np.sum(np.abs(sigmap)) / np.sqrt(np.sum(sigmap ** 2)))\n",
      "/anaconda3/lib/python3.6/site-packages/feets/extractors/ext_stetson.py:248: RuntimeWarning: invalid value encountered in double_scalars\n",
      "  np.sum(np.abs(sigmap)) / np.sqrt(np.sum(sigmap ** 2)))\n",
      "/anaconda3/lib/python3.6/site-packages/ipykernel_launcher.py:118: RuntimeWarning: divide by zero encountered in double_scalars\n",
      "/anaconda3/lib/python3.6/site-packages/ipykernel_launcher.py:119: RuntimeWarning: divide by zero encountered in double_scalars\n"
     ]
    },
    {
     "data": {
      "text/html": [
       "<i>Table length=135</i>\n",
       "<table id=\"table4540936656\" class=\"table-striped table-bordered table-condensed\">\n",
       "<thead><tr><th>LC_name</th><th>Autocor_length</th><th>Beyond1Std</th><th>CAR_sigma</th><th>CAR_mean</th><th>CAR_tau</th><th>Con</th><th>LinearTrend</th><th>MaxSlope</th><th>Mean</th><th>Meanvariance</th><th>MedianAbsDev</th><th>MedianBRP</th><th>PairSlopeTrend</th><th>PercentAmplitude</th><th>Q31</th><th>Rcs</th><th>Skew</th><th>SlottedA_length</th><th>SmallKurtosis</th><th>Std</th><th>StetsonK_AC</th><th>Amplitudes</th><th>amp1</th><th>amp_2_1_ratio</th><th>amp_3_1_ratio</th></tr></thead>\n",
       "<thead><tr><th>str23</th><th>float64</th><th>float64</th><th>float64</th><th>float64</th><th>float64</th><th>float64</th><th>float64</th><th>float64</th><th>float64</th><th>float64</th><th>float64</th><th>float64</th><th>float64</th><th>float64</th><th>float64</th><th>float64</th><th>float64</th><th>float64</th><th>float64</th><th>float64</th><th>float64</th><th>float64</th><th>float64</th><th>float64</th><th>float64</th></tr></thead>\n",
       "<tr><td>objectID_11194_lc.ascii</td><td>113.0</td><td>0.39539347408829173</td><td>10.0</td><td>117667.38377919386</td><td>0.5</td><td>0.0</td><td>0.06520242750660331</td><td>175633.99981871923</td><td>58833.69188959693</td><td>1.5683732459424062e-06</td><td>0.07884200000262354</td><td>0.2053742802303263</td><td>0.9666666666666667</td><td>2.772408011988761e-06</td><td>0.1568970000007539</td><td>0.43134354074167824</td><td>-0.04444164947307508</td><td>nan</td><td>-1.1657285830238244</td><td>0.09227318831966255</td><td>0.9999999999999998</td><td>0.1525925000000008</td><td>13338.991988000005</td><td>0.0001788710211497675</td><td>0.0002146617581229562</td></tr>\n",
       "<tr><td>objectID_9603_lc.ascii</td><td>118.0</td><td>0.4</td><td>10.0</td><td>117667.38552437408</td><td>0.5</td><td>0.0</td><td>0.16931158787554654</td><td>inf</td><td>58833.69276218704</td><td>1.5740806977676745e-06</td><td>0.07937550000133342</td><td>0.20185185185185187</td><td>0.9666666666666667</td><td>2.8457247198093075e-06</td><td>0.1588812499976484</td><td>0.4328314900373134</td><td>-0.047389832596435075</td><td>1.0</td><td>-1.1856203947738029</td><td>0.09260898015535236</td><td>1.0</td><td>0.17041549999999894</td><td>13729.836817</td><td>0.0006379839466374241</td><td>8.976680071445384e-05</td></tr>\n",
       "<tr><td>objectID_7128_lc.ascii</td><td>124.0</td><td>0.40421792618629176</td><td>10.0</td><td>117667.37632486116</td><td>0.5</td><td>0.0</td><td>-0.25382563883447007</td><td>130125.99986989252</td><td>58833.68816243058</td><td>1.5945686531939446e-06</td><td>0.08147400000598282</td><td>0.19859402460456943</td><td>0.9666666666666667</td><td>2.7623629619212803e-06</td><td>0.16262199999619043</td><td>0.43339354165836047</td><td>0.003823580645336117</td><td>nan</td><td>-1.1990697256859806</td><td>0.09381435489559946</td><td>nan</td><td>0.08612150000000085</td><td>14166.605930999996</td><td>0.00015004747274399138</td><td>7.235866022356251e-05</td></tr>\n",
       "<tr><td>objectID_11385_lc.ascii</td><td>117.0</td><td>0.39814814814814814</td><td>10.0</td><td>117667.38384618149</td><td>0.5</td><td>0.0</td><td>0.21783638452197623</td><td>192470.99980426324</td><td>58833.691923090744</td><td>1.5786725254645266e-06</td><td>0.07930800000031013</td><td>0.2037037037037037</td><td>0.9666666666666667</td><td>2.8358920022478793e-06</td><td>0.15831975000037346</td><td>0.4315714695240064</td><td>-0.04671112391622811</td><td>1.0</td><td>-1.1603881563675202</td><td>0.09287913301062758</td><td>1.0</td><td>0.19490850000000037</td><td>13859.977020999999</td><td>0.0007320376208168352</td><td>0.0003412687315597772</td></tr>\n",
       "<tr><td>objectID_6788_lc.ascii</td><td>124.0</td><td>0.40492957746478875</td><td>10.0</td><td>117667.37715585211</td><td>0.5</td><td>0.0</td><td>-0.3860321981237948</td><td>inf</td><td>58833.688577926056</td><td>1.5933710276683862e-06</td><td>0.08102950000102283</td><td>0.198943661971831</td><td>0.9666666666666667</td><td>2.758054166055268e-06</td><td>0.16177900000911904</td><td>0.4331092377234636</td><td>-0.005540189579912094</td><td>nan</td><td>-1.1941467662334155</td><td>0.09374389483093183</td><td>nan</td><td>0.09331050000000118</td><td>14153.774879</td><td>0.00016083803594997136</td><td>0.00014407934499238408</td></tr>\n",
       "<tr><td>objectID_5180_lc.ascii</td><td>125.0</td><td>0.4077328646748682</td><td>10.0</td><td>117667.37649873112</td><td>0.5</td><td>0.0</td><td>1.1517218548355135</td><td>123207.00031525361</td><td>58833.68824936556</td><td>1.59488765044581e-06</td><td>0.08148899999650894</td><td>0.1968365553602812</td><td>0.9666666666666667</td><td>2.7532525085992187e-06</td><td>0.16262199999619043</td><td>0.4336862295737431</td><td>0.0012362709031073986</td><td>nan</td><td>-1.2004383434717503</td><td>0.0938331228190919</td><td>nan</td><td>0.12682549999999893</td><td>13654.84938599999</td><td>0.001507393298761554</td><td>0.0006566716050050094</td></tr>\n",
       "<tr><td>objectID_13043_lc.ascii</td><td>123.0</td><td>0.40425531914893614</td><td>10.0</td><td>117667.37833348935</td><td>0.5</td><td>0.0</td><td>-0.12154369984156758</td><td>101893.00025636383</td><td>58833.689166744676</td><td>1.5924542987564589e-06</td><td>0.08131100000173319</td><td>0.19858156028368795</td><td>0.9666666666666667</td><td>2.7673939995462066e-06</td><td>0.16234875000372995</td><td>0.433272409839201</td><td>-0.01234496285690415</td><td>1.0</td><td>-1.196160432428087</td><td>0.09368996122528386</td><td>1.0</td><td>0.10759650000000143</td><td>14128.769772</td><td>0.0002627947154663194</td><td>0.00016981358954282143</td></tr>\n",
       "<tr><td>objectID_783_lc.ascii</td><td>125.0</td><td>0.42105263157894735</td><td>10.0</td><td>117667.37648286665</td><td>0.5</td><td>0.0</td><td>1.6706058924881622</td><td>43875.99995826272</td><td>58833.68824143332</td><td>1.5934912576761697e-06</td><td>0.08131099999809521</td><td>0.19824561403508772</td><td>0.9666666666666667</td><td>2.7575272837000535e-06</td><td>0.16234075000829762</td><td>0.43334705836919707</td><td>0.001490981310478565</td><td>nan</td><td>-1.1972733490992156</td><td>0.09375096786956927</td><td>nan</td><td>0.0952130000000011</td><td>12735.394897</td><td>0.0011724307686320236</td><td>0.000573821734561999</td></tr>\n",
       "<tr><td>objectID_7803_lc.ascii</td><td>125.0</td><td>0.4105263157894737</td><td>10.0</td><td>117667.37648286665</td><td>0.5</td><td>0.0</td><td>-0.4352042641872577</td><td>263103.99972737895</td><td>58833.68824143332</td><td>1.5934912576761697e-06</td><td>0.08131099999809521</td><td>0.19824561403508772</td><td>0.9666666666666667</td><td>2.7575272837000535e-06</td><td>0.16234075000829762</td><td>0.43334705836919707</td><td>0.001490981310478565</td><td>1.0</td><td>-1.1972733490992156</td><td>0.09375096786956927</td><td>1.0</td><td>0.09842550000000116</td><td>14141.278779</td><td>0.0003025566352900283</td><td>0.00033968107546180736</td></tr>\n",
       "<tr><td>objectID_2644_lc.ascii</td><td>124.0</td><td>0.4109347442680776</td><td>10.0</td><td>117667.37755794356</td><td>0.5</td><td>0.0</td><td>-0.1173928110048209</td><td>inf</td><td>58833.68877897178</td><td>1.592702131507559e-06</td><td>0.08092800000304123</td><td>0.19929453262786595</td><td>0.9666666666666667</td><td>2.762855823588875e-06</td><td>0.16148949999478646</td><td>0.4329806574413773</td><td>-0.008850403684472033</td><td>nan</td><td>-1.1916423954159434</td><td>0.09370454152272072</td><td>1.0</td><td>0.0978279999999998</td><td>13177.937842</td><td>4.647959064955414e-05</td><td>0.00023446960686630768</td></tr>\n",
       "<tr><td>...</td><td>...</td><td>...</td><td>...</td><td>...</td><td>...</td><td>...</td><td>...</td><td>...</td><td>...</td><td>...</td><td>...</td><td>...</td><td>...</td><td>...</td><td>...</td><td>...</td><td>...</td><td>...</td><td>...</td><td>...</td><td>...</td><td>...</td><td>...</td><td>...</td><td>...</td></tr>\n",
       "<tr><td>objectID_12931_lc.ascii</td><td>122.0</td><td>0.3892857142857143</td><td>10.0</td><td>117667.38151686786</td><td>0.5</td><td>0.0</td><td>0.025847930555777405</td><td>50165.500034636294</td><td>58833.69075843393</td><td>1.5734953214753141e-06</td><td>0.07988299999851733</td><td>0.2</td><td>0.9666666666666667</td><td>2.757841596151221e-06</td><td>0.1594787499998347</td><td>0.4329777540509504</td><td>-0.009444676072368029</td><td>1.0</td><td>-1.191448351994819</td><td>0.09257453715352121</td><td>1.0</td><td>0.1657517500000001</td><td>14410.025939</td><td>0.00014922684447344836</td><td>9.360159235171091e-05</td></tr>\n",
       "<tr><td>objectID_9541_lc.ascii</td><td>123.0</td><td>0.38859180035650626</td><td>10.0</td><td>117667.37677695545</td><td>0.5</td><td>0.0</td><td>0.25595635905717956</td><td>51516.999946918906</td><td>58833.68838847773</td><td>1.5917901644420653e-06</td><td>0.08113999999477528</td><td>0.19786096256684493</td><td>0.9666666666666667</td><td>2.7623629619212803e-06</td><td>0.16205900000204565</td><td>0.4331827799178064</td><td>0.0023330612800950283</td><td>nan</td><td>-1.194696403161246</td><td>0.09365088651462819</td><td>nan</td><td>0.14774349999999892</td><td>14349.591348</td><td>0.0002849156371309232</td><td>0.00033636487672031746</td></tr>\n",
       "<tr><td>objectID_10435_lc.ascii</td><td>122.0</td><td>0.3953488372093023</td><td>10.0</td><td>117667.37776930591</td><td>0.5</td><td>0.0</td><td>-0.11991888471667679</td><td>84010.99991264942</td><td>58833.688884652955</td><td>1.577221832127093e-06</td><td>0.08036300000094343</td><td>0.2003577817531306</td><td>0.9666666666666667</td><td>2.7526916055255944e-06</td><td>0.16034899999795016</td><td>0.43287654358906463</td><td>0.0064884796310278525</td><td>1.0</td><td>-1.1884658560241292</td><td>0.09279377857344771</td><td>1.0</td><td>0.1533997499999984</td><td>14368.409091000001</td><td>0.0002686614107169568</td><td>0.000200541752287178</td></tr>\n",
       "<tr><td>objectID_11990_lc.ascii</td><td>124.0</td><td>0.40421792618629176</td><td>10.0</td><td>117667.3767090299</td><td>0.5</td><td>0.0</td><td>-0.42488514049322906</td><td>inf</td><td>58833.68835451495</td><td>1.5942306045731103e-06</td><td>0.08148899999650894</td><td>0.19859402460456943</td><td>0.9666666666666667</td><td>2.7532525085992187e-06</td><td>0.16262199999619043</td><td>0.433303817819516</td><td>-0.001558000452697361</td><td>nan</td><td>-1.1978383848027803</td><td>0.09379446655468432</td><td>nan</td><td>0.10912150000000054</td><td>14313.747118000014</td><td>0.00021943433804858103</td><td>0.0002853284417716096</td></tr>\n",
       "<tr><td>objectID_11626_lc.ascii</td><td>118.0</td><td>0.4099264705882353</td><td>10.0</td><td>117667.38495488971</td><td>0.5</td><td>0.0</td><td>-0.025480375874287607</td><td>73386.99992128962</td><td>58833.692477444856</td><td>1.5626728804718088e-06</td><td>0.0784525000017311</td><td>0.19852941176470587</td><td>0.9666666666666667</td><td>2.7676742622866277e-06</td><td>0.15661025000008522</td><td>0.4326657896759061</td><td>-0.02776309631669439</td><td>nan</td><td>-1.179167188170525</td><td>0.09193781569252134</td><td>1.0</td><td>0.1807344999999998</td><td>14000.842493999999</td><td>0.00019648770245147607</td><td>8.653184214781465e-05</td></tr>\n",
       "<tr><td>objectID_12687_lc.ascii</td><td>107.0</td><td>0.4049586776859504</td><td>10.0</td><td>117667.38194808264</td><td>0.5</td><td>0.0</td><td>-0.09425758829767218</td><td>inf</td><td>58833.69097404132</td><td>1.5722030622826477e-06</td><td>0.08102100000178325</td><td>0.19421487603305784</td><td>0.9666666666666667</td><td>2.7094594271614012e-06</td><td>0.16175250000378583</td><td>0.4351779758612098</td><td>0.004451983801072822</td><td>1.0</td><td>-1.2276357777286426</td><td>0.09249850911477873</td><td>0.9427380281854487</td><td>0.3000335000000014</td><td>12213.160297</td><td>0.00035600675266886703</td><td>0.0003765697846623239</td></tr>\n",
       "<tr><td>objectID_8017_lc.ascii</td><td>124.0</td><td>0.40669014084507044</td><td>10.0</td><td>117667.37654053874</td><td>0.5</td><td>0.0</td><td>0.3091840185499574</td><td>inf</td><td>58833.68827026937</td><td>1.5922563580803754e-06</td><td>0.08102999999755411</td><td>0.198943661971831</td><td>0.9666666666666667</td><td>2.7575272837000535e-06</td><td>0.16177824998885626</td><td>0.4331015083644875</td><td>0.0019033789203825476</td><td>nan</td><td>-1.1927525270496837</td><td>0.09367831421765521</td><td>nan</td><td>0.0751584999999988</td><td>13939.991849000002</td><td>6.295042883781086e-05</td><td>0.00022657297886338764</td></tr>\n",
       "<tr><td>objectID_6819_lc.ascii</td><td>123.0</td><td>0.4067495559502664</td><td>10.0</td><td>117667.37937360923</td><td>0.5</td><td>0.0</td><td>-0.11848786094871123</td><td>124706.9998708411</td><td>58833.68968680462</td><td>1.587000042892523e-06</td><td>0.0805739999996149</td><td>0.20071047957371227</td><td>0.9666666666666667</td><td>2.782147438003945e-06</td><td>0.16091650000453228</td><td>0.43273797249378015</td><td>-0.016281882051389796</td><td>nan</td><td>-1.1870649957512418</td><td>0.09336906805648432</td><td>1.0</td><td>0.1431754999999999</td><td>14020.585487000006</td><td>0.0003055747382093285</td><td>0.0002610776488262421</td></tr>\n",
       "<tr><td>objectID_10841_lc.ascii</td><td>92.0</td><td>0.3891509433962264</td><td>10.0</td><td>117667.37995422169</td><td>0.5</td><td>0.0</td><td>-0.013712205878022556</td><td>inf</td><td>58833.689977110844</td><td>1.61420772495031e-06</td><td>0.0831430000034743</td><td>0.2028301886792453</td><td>0.9666666666666667</td><td>2.9322151566107285e-06</td><td>0.16799774999526562</td><td>0.4354196730774268</td><td>0.0839258682398978</td><td>nan</td><td>-1.2421029303786923</td><td>0.09496979684838396</td><td>1.0</td><td>0.2925865000000005</td><td>10870.859033</td><td>0.00022744586665137897</td><td>0.0004068759672300276</td></tr>\n",
       "<tr><td>objectID_6910_lc.ascii</td><td>125.0</td><td>0.4087719298245614</td><td>10.0</td><td>117667.37648286665</td><td>0.5</td><td>0.0</td><td>0.34295747743117844</td><td>inf</td><td>58833.68824143332</td><td>1.5934912576761697e-06</td><td>0.08131099999809521</td><td>0.19824561403508772</td><td>0.9666666666666667</td><td>2.7575272837000535e-06</td><td>0.16234075000829762</td><td>0.43334705836919707</td><td>0.001490981310478565</td><td>nan</td><td>-1.1972733490992156</td><td>0.09375096786956927</td><td>nan</td><td>0.06538549999999965</td><td>13896.934404</td><td>0.00011928898280684054</td><td>7.499011730647745e-05</td></tr>\n",
       "</table>"
      ],
      "text/plain": [
       "<Table length=135>\n",
       "        LC_name         Autocor_length ...     amp_3_1_ratio     \n",
       "         str23             float64     ...        float64        \n",
       "----------------------- -------------- ... ----------------------\n",
       "objectID_11194_lc.ascii          113.0 ...  0.0002146617581229562\n",
       " objectID_9603_lc.ascii          118.0 ...  8.976680071445384e-05\n",
       " objectID_7128_lc.ascii          124.0 ...  7.235866022356251e-05\n",
       "objectID_11385_lc.ascii          117.0 ...  0.0003412687315597772\n",
       " objectID_6788_lc.ascii          124.0 ... 0.00014407934499238408\n",
       " objectID_5180_lc.ascii          125.0 ...  0.0006566716050050094\n",
       "objectID_13043_lc.ascii          123.0 ... 0.00016981358954282143\n",
       "  objectID_783_lc.ascii          125.0 ...   0.000573821734561999\n",
       " objectID_7803_lc.ascii          125.0 ... 0.00033968107546180736\n",
       " objectID_2644_lc.ascii          124.0 ... 0.00023446960686630768\n",
       "                    ...            ... ...                    ...\n",
       "objectID_12931_lc.ascii          122.0 ...  9.360159235171091e-05\n",
       " objectID_9541_lc.ascii          123.0 ... 0.00033636487672031746\n",
       "objectID_10435_lc.ascii          122.0 ...   0.000200541752287178\n",
       "objectID_11990_lc.ascii          124.0 ...  0.0002853284417716096\n",
       "objectID_11626_lc.ascii          118.0 ...  8.653184214781465e-05\n",
       "objectID_12687_lc.ascii          107.0 ...  0.0003765697846623239\n",
       " objectID_8017_lc.ascii          124.0 ... 0.00022657297886338764\n",
       " objectID_6819_lc.ascii          123.0 ...  0.0002610776488262421\n",
       "objectID_10841_lc.ascii           92.0 ...  0.0004068759672300276\n",
       " objectID_6910_lc.ascii          125.0 ...  7.499011730647745e-05"
      ]
     },
     "execution_count": 6,
     "metadata": {},
     "output_type": "execute_result"
    }
   ],
   "source": [
    "## run the code \n",
    "\n",
    "get_feats_blank()"
   ]
  },
  {
   "cell_type": "markdown",
   "metadata": {},
   "source": [
    "# Step 3: Cluster the features "
   ]
  },
  {
   "cell_type": "code",
   "execution_count": 7,
   "metadata": {},
   "outputs": [
    {
     "name": "stdout",
     "output_type": "stream",
     "text": [
      "     Unnamed: 0                  LC_name  Autocor_length  Beyond1Std  \\\n",
      "0             0  objectID_11194_lc.ascii           113.0    0.395393   \n",
      "1             1   objectID_9603_lc.ascii           118.0    0.400000   \n",
      "2             2   objectID_7128_lc.ascii           124.0    0.404218   \n",
      "3             3  objectID_11385_lc.ascii           117.0    0.398148   \n",
      "4             4   objectID_6788_lc.ascii           124.0    0.404930   \n",
      "..          ...                      ...             ...         ...   \n",
      "130         130  objectID_12687_lc.ascii           107.0    0.404959   \n",
      "131         131   objectID_8017_lc.ascii           124.0    0.406690   \n",
      "132         132   objectID_6819_lc.ascii           123.0    0.406750   \n",
      "133         133  objectID_10841_lc.ascii            92.0    0.389151   \n",
      "134         134   objectID_6910_lc.ascii           125.0    0.408772   \n",
      "\n",
      "     CAR_sigma       CAR_mean  CAR_tau  Con  LinearTrend      MaxSlope  ...  \\\n",
      "0         10.0  117667.383779      0.5  0.0     0.065202  1.756340e+05  ...   \n",
      "1         10.0  117667.385524      0.5  0.0     0.169312           inf  ...   \n",
      "2         10.0  117667.376325      0.5  0.0    -0.253826  1.301260e+05  ...   \n",
      "3         10.0  117667.383846      0.5  0.0     0.217836  1.924710e+05  ...   \n",
      "4         10.0  117667.377156      0.5  0.0    -0.386032           inf  ...   \n",
      "..         ...            ...      ...  ...          ...           ...  ...   \n",
      "130       10.0  117667.381948      0.5  0.0    -0.094258           inf  ...   \n",
      "131       10.0  117667.376541      0.5  0.0     0.309184           inf  ...   \n",
      "132       10.0  117667.379374      0.5  0.0    -0.118488  1.247070e+05  ...   \n",
      "133       10.0  117667.379954      0.5  0.0    -0.013712           inf  ...   \n",
      "134       10.0  117667.376483      0.5  0.0     0.342957           inf  ...   \n",
      "\n",
      "          Rcs      Skew  SlottedA_length  SmallKurtosis       Std  \\\n",
      "0    0.431344 -0.044442              0.0      -1.165729  0.092273   \n",
      "1    0.432831 -0.047390              1.0      -1.185620  0.092609   \n",
      "2    0.433394  0.003824              0.0      -1.199070  0.093814   \n",
      "3    0.431571 -0.046711              1.0      -1.160388  0.092879   \n",
      "4    0.433109 -0.005540              0.0      -1.194147  0.093744   \n",
      "..        ...       ...              ...            ...       ...   \n",
      "130  0.435178  0.004452              1.0      -1.227636  0.092499   \n",
      "131  0.433102  0.001903              0.0      -1.192753  0.093678   \n",
      "132  0.432738 -0.016282              0.0      -1.187065  0.093369   \n",
      "133  0.435420  0.083926              0.0      -1.242103  0.094970   \n",
      "134  0.433347  0.001491              0.0      -1.197273  0.093751   \n",
      "\n",
      "     StetsonK_AC  Amplitudes          amp1  amp_2_1_ratio  amp_3_1_ratio  \n",
      "0       1.000000    0.152593  13338.991988       0.000179       0.000215  \n",
      "1       1.000000    0.170415  13729.836817       0.000638       0.000090  \n",
      "2       0.000000    0.086122  14166.605931       0.000150       0.000072  \n",
      "3       1.000000    0.194909  13859.977021       0.000732       0.000341  \n",
      "4       0.000000    0.093311  14153.774879       0.000161       0.000144  \n",
      "..           ...         ...           ...            ...            ...  \n",
      "130     0.942738    0.300034  12213.160297       0.000356       0.000377  \n",
      "131     0.000000    0.075158  13939.991849       0.000063       0.000227  \n",
      "132     1.000000    0.143175  14020.585487       0.000306       0.000261  \n",
      "133     1.000000    0.292587  10870.859033       0.000227       0.000407  \n",
      "134     0.000000    0.065385  13896.934404       0.000119       0.000075  \n",
      "\n",
      "[135 rows x 27 columns]\n"
     ]
    }
   ],
   "source": [
    "## Read in the feature file and turn into Data frame\n",
    "filename = 'features_test_set.csv'\n",
    "filepath = \"/Users/swebb/Documents/renee/feature_files/\"+filename\n",
    "df = pd.read_csv(filepath, delimiter=',')\n",
    "df.replace([np.inf, -np.inf], 0)\n",
    "df = df.replace(np.nan, 0)\n",
    "print(df)"
   ]
  },
  {
   "cell_type": "code",
   "execution_count": 8,
   "metadata": {
    "scrolled": true
   },
   "outputs": [],
   "source": [
    "# Seperate into clean lists\n",
    "\n",
    "LC_name = []\n",
    "Autocor_length = []\n",
    "Beyond1Std = []\n",
    "CAR_sigma = []\n",
    "CAR_mean= []\n",
    "CAR_tau= []\n",
    "Con= []\n",
    "LinearTrend= []\n",
    "MaxSlope= []\n",
    "Mean= []\n",
    "Meanvariance= []\n",
    "MedianAbsDev= []\n",
    "MedianBRP= []\n",
    "PairSlopeTrend= []\n",
    "PercentAmplitude= []\n",
    "Q31= []\n",
    "Rcs= []\n",
    "Skew= []\n",
    "SlottedA_length= []\n",
    "SmallKurtosis= []\n",
    "Std= []\n",
    "StetsonK_AC= []\n",
    "Amplitudes= []\n",
    "Amp1= []\n",
    "Amp_2_1_ratio= []\n",
    "Amp_3_1_ratio = []\n",
    "for index, row in df.iterrows():\n",
    "    LC_name.append(row.LC_name)\n",
    "    Autocor_length.append(row.Autocor_length)\n",
    "    Beyond1Std.append(row.Beyond1Std)\n",
    "    CAR_sigma.append(row.CAR_sigma)\n",
    "    CAR_mean.append(row.CAR_mean)\n",
    "    CAR_tau.append(row.CAR_tau)\n",
    "    Con.append(row.Con)\n",
    "    LinearTrend.append(row.LinearTrend)\n",
    "    MaxSlope.append(row.MaxSlope)\n",
    "    Mean.append(row.Mean)\n",
    "    Meanvariance.append(row.Meanvariance)\n",
    "    MedianAbsDev.append(row.MedianAbsDev)\n",
    "    MedianBRP.append(row.MedianBRP)\n",
    "    PairSlopeTrend.append(row.PairSlopeTrend)\n",
    "    PercentAmplitude.append(row.PercentAmplitude)\n",
    "    Q31.append(row.Q31)\n",
    "    Rcs.append(row.Rcs)\n",
    "    Skew.append(row.Skew)\n",
    "    SlottedA_length.append(row.SlottedA_length)\n",
    "    SmallKurtosis.append(row.SmallKurtosis)\n",
    "    Std.append(row.Std)\n",
    "    StetsonK_AC.append(row.StetsonK_AC)\n",
    "    Amplitudes.append(row.Amplitudes)\n",
    "    Amp1.append(row.amp1)\n",
    "    Amp_2_1_ratio.append(row.amp_2_1_ratio)\n",
    "    Amp_3_1_ratio.append(row.amp_3_1_ratio)\n",
    "    \n",
    "    \n",
    "#Beyond1Std, CAR_sigma, CAR_mean, CAR_tau, Con, LinearTrend, MaxSlope, Mean, Meanvariance, MedianAbsDev, MedianBRP, PairSlopeTrend, PercentAmplitude, Q31, Rcs, Skew, SlottedA_length, SmallKurtosis, Std, StetsonK_AC, Amplitudes, Amp1, Amp_2_1_ratio, Amp_3_1_ratio = np.loadtxt(filepath, unpack = True, skiprows=1)"
   ]
  },
  {
   "cell_type": "code",
   "execution_count": 10,
   "metadata": {},
   "outputs": [],
   "source": [
    "# create dictionary for all the wanted features (change up for different requirements,\n",
    "# you dont' have to use all the features :) \n",
    "dict = {'Filename': LC_name, 'Autocor_length': Autocor_length, \n",
    "        'Beyond1Std' : Beyond1Std, 'CAR_sigma': CAR_sigma, \n",
    "        'CAR_mean': CAR_mean, 'CAR_tau':CAR_tau, 'Con':Con, \n",
    "        'LinearTrend': LinearTrend, \n",
    "        'MaxSlope':MaxSlope, 'Mean' : Mean, \n",
    "        'Meanvariance': Meanvariance, 'MedianAbsDev': MedianAbsDev,\n",
    "        'MedianBRP' : MedianBRP, 'PairSlopeTrend' : PairSlopeTrend, \n",
    "        'PercentAmplitude' : PercentAmplitude, 'Q31':Q31, 'Rcs':Rcs,\n",
    "        'Skew':Skew, 'SlottedA_length' :SlottedA_length,\n",
    "        'SmallKurtosis':SmallKurtosis, 'Std':Std, \n",
    "        'StetsonK_AC':StetsonK_AC, 'Amplitudes':Amplitudes,\n",
    "        'Amp1': Amp1, 'Amp_2_1_ratio': Amp_2_1_ratio, 'Amp_3_1_ratio': Amp_3_1_ratio}"
   ]
  },
  {
   "cell_type": "code",
   "execution_count": 11,
   "metadata": {},
   "outputs": [
    {
     "name": "stdout",
     "output_type": "stream",
     "text": [
      "135\n",
      "                    Filename  Autocor_length  Beyond1Std  CAR_sigma  \\\n",
      "0    objectID_11194_lc.ascii           113.0    0.395393       10.0   \n",
      "1     objectID_9603_lc.ascii           118.0    0.400000       10.0   \n",
      "2     objectID_7128_lc.ascii           124.0    0.404218       10.0   \n",
      "3    objectID_11385_lc.ascii           117.0    0.398148       10.0   \n",
      "4     objectID_6788_lc.ascii           124.0    0.404930       10.0   \n",
      "..                       ...             ...         ...        ...   \n",
      "130  objectID_12687_lc.ascii           107.0    0.404959       10.0   \n",
      "131   objectID_8017_lc.ascii           124.0    0.406690       10.0   \n",
      "132   objectID_6819_lc.ascii           123.0    0.406750       10.0   \n",
      "133  objectID_10841_lc.ascii            92.0    0.389151       10.0   \n",
      "134   objectID_6910_lc.ascii           125.0    0.408772       10.0   \n",
      "\n",
      "          CAR_mean  CAR_tau  Con  LinearTrend      MaxSlope          Mean  \\\n",
      "0    117667.383779      0.5  0.0     0.065202  1.756340e+05  58833.691890   \n",
      "1    117667.385524      0.5  0.0     0.169312           inf  58833.692762   \n",
      "2    117667.376325      0.5  0.0    -0.253826  1.301260e+05  58833.688162   \n",
      "3    117667.383846      0.5  0.0     0.217836  1.924710e+05  58833.691923   \n",
      "4    117667.377156      0.5  0.0    -0.386032           inf  58833.688578   \n",
      "..             ...      ...  ...          ...           ...           ...   \n",
      "130  117667.381948      0.5  0.0    -0.094258           inf  58833.690974   \n",
      "131  117667.376541      0.5  0.0     0.309184           inf  58833.688270   \n",
      "132  117667.379374      0.5  0.0    -0.118488  1.247070e+05  58833.689687   \n",
      "133  117667.379954      0.5  0.0    -0.013712           inf  58833.689977   \n",
      "134  117667.376483      0.5  0.0     0.342957           inf  58833.688241   \n",
      "\n",
      "     ...       Rcs      Skew  SlottedA_length  SmallKurtosis       Std  \\\n",
      "0    ...  0.431344 -0.044442              0.0      -1.165729  0.092273   \n",
      "1    ...  0.432831 -0.047390              1.0      -1.185620  0.092609   \n",
      "2    ...  0.433394  0.003824              0.0      -1.199070  0.093814   \n",
      "3    ...  0.431571 -0.046711              1.0      -1.160388  0.092879   \n",
      "4    ...  0.433109 -0.005540              0.0      -1.194147  0.093744   \n",
      "..   ...       ...       ...              ...            ...       ...   \n",
      "130  ...  0.435178  0.004452              1.0      -1.227636  0.092499   \n",
      "131  ...  0.433102  0.001903              0.0      -1.192753  0.093678   \n",
      "132  ...  0.432738 -0.016282              0.0      -1.187065  0.093369   \n",
      "133  ...  0.435420  0.083926              0.0      -1.242103  0.094970   \n",
      "134  ...  0.433347  0.001491              0.0      -1.197273  0.093751   \n",
      "\n",
      "     StetsonK_AC  Amplitudes          Amp1  Amp_2_1_ratio  Amp_3_1_ratio  \n",
      "0       1.000000    0.152593  13338.991988       0.000179       0.000215  \n",
      "1       1.000000    0.170415  13729.836817       0.000638       0.000090  \n",
      "2       0.000000    0.086122  14166.605931       0.000150       0.000072  \n",
      "3       1.000000    0.194909  13859.977021       0.000732       0.000341  \n",
      "4       0.000000    0.093311  14153.774879       0.000161       0.000144  \n",
      "..           ...         ...           ...            ...            ...  \n",
      "130     0.942738    0.300034  12213.160297       0.000356       0.000377  \n",
      "131     0.000000    0.075158  13939.991849       0.000063       0.000227  \n",
      "132     1.000000    0.143175  14020.585487       0.000306       0.000261  \n",
      "133     1.000000    0.292587  10870.859033       0.000227       0.000407  \n",
      "134     0.000000    0.065385  13896.934404       0.000119       0.000075  \n",
      "\n",
      "[135 rows x 26 columns]\n"
     ]
    }
   ],
   "source": [
    "#Put dictionary into a pandas datadframe with no NaNs or Infs  #\n",
    "dframe = pd.DataFrame(dict)\n",
    "dframe.replace('inf', 0)\n",
    "dframe = dframe.replace(np.nan, 0)\n",
    "print(len(dframe))\n",
    "print(dframe)"
   ]
  },
  {
   "cell_type": "code",
   "execution_count": 15,
   "metadata": {},
   "outputs": [],
   "source": [
    "#Define what features to use in the clustering, don't cluster on the targert/ID names! # \n",
    "features = ['Autocor_length', 'Beyond1Std', 'CAR_sigma', 'CAR_mean', \n",
    "            'CAR_tau', 'Con', 'LinearTrend', \n",
    "            'Mean', 'Meanvariance', 'MedianAbsDev', 'MedianBRP', \n",
    "            'PairSlopeTrend', 'Q31', 'Rcs', 'Skew', 'SlottedA_length',\n",
    "            'SmallKurtosis', 'Std', 'StetsonK_AC', 'Amplitudes',\n",
    "            'Amp1', 'Amp_2_1_ratio', 'Amp_3_1_ratio']"
   ]
  },
  {
   "cell_type": "code",
   "execution_count": 16,
   "metadata": {},
   "outputs": [],
   "source": [
    "## Separating out the features:\n",
    "x = dframe.loc[:, features].values\n",
    "## Separating out the LC names:\n",
    "y = dframe.loc[:,['Filename']].values\n",
    "# Standardise the features\n",
    "x = StandardScaler().fit_transform(x)"
   ]
  },
  {
   "cell_type": "markdown",
   "metadata": {},
   "source": [
    "## run quick PCA "
   ]
  },
  {
   "cell_type": "code",
   "execution_count": 19,
   "metadata": {},
   "outputs": [],
   "source": [
    "## Simple 2D component breakdown for PCA. Don't need to do this but can be helpful to see ##\n",
    "pca = PCA(n_components=2)\n",
    "principalComponents = pca.fit_transform(x)\n",
    "principalDf = pd.DataFrame(data = principalComponents, columns =['PC1', 'PC2'])\n",
    "finalDf = pd.concat([principalDf, dframe[['Filename']]], axis =1)"
   ]
  },
  {
   "cell_type": "code",
   "execution_count": 20,
   "metadata": {},
   "outputs": [
    {
     "data": {
      "image/png": "[encoded data removed]",
      "text/plain": [
       "<Figure size 1440x1440 with 1 Axes>"
      ]
     },
     "metadata": {},
     "output_type": "display_data"
    },
    {
     "name": "stdout",
     "output_type": "stream",
     "text": [
      "['Autocor_length', 'Beyond1Std', 'CAR_sigma', 'CAR_mean', 'CAR_tau', 'Con', 'LinearTrend', 'Mean', 'Meanvariance', 'MedianAbsDev', 'MedianBRP', 'PairSlopeTrend', 'Q31', 'Rcs', 'Skew', 'SlottedA_length', 'SmallKurtosis', 'Std', 'StetsonK_AC', 'Amplitudes', 'Amp1', 'Amp_2_1_ratio', 'Amp_3_1_ratio']\n"
     ]
    }
   ],
   "source": [
    "def myplot(score, coeff, labels=None):\n",
    "        xs = score[:,0]\n",
    "        ys = score[:,1]\n",
    "        n = coeff.shape[0]\n",
    "        scalex = 1.0/(xs.max() - xs.min())\n",
    "        scaley = 1.0/(ys.max() - ys.min())\n",
    "        plt.scatter(xs*scalex, ys*scaley, c ='b' , alpha =0.3, s =2)\n",
    "        for i in range(n):\n",
    "                plt.arrow(0,0, coeff[i,0], coeff[i,1], color = 'r', alpha =0.7)\n",
    "                if labels is None:\n",
    "                        plt.text(coeff[i,0]*1.15, coeff[i,1] *1.15, \"Var\"+str(i+1), color=\"hotpink\", ha = 'center', va = 'center')\n",
    "                else:\n",
    "                        plt.text(coeff[i,0]* 1.15, coeff[i,1] * 1.15, labels[i], color = 'g', ha = 'center', va = 'center')\n",
    "fig = plt.figure(figsize=(20,20))\n",
    "plt.xlim(-1,1)\n",
    "plt.ylim(-1, 1)\n",
    "plt.xlabel(\"PC{}\".format(1))\n",
    "plt.ylabel(\"PC{}\".format(2))\n",
    "plt.grid()\n",
    "myplot(principalComponents[:,0:2],np.transpose(pca.components_[0:2, :]), labels=features)\n",
    "plt.show()\n",
    "print(features)"
   ]
  },
  {
   "cell_type": "markdown",
   "metadata": {},
   "source": [
    "## run quick TNSE and HDBSCAN on the featues  "
   ]
  },
  {
   "cell_type": "code",
   "execution_count": 40,
   "metadata": {},
   "outputs": [
    {
     "name": "stdout",
     "output_type": "stream",
     "text": [
      "3\n"
     ]
    }
   ],
   "source": [
    "tsne =TSNE(n_components=2, perplexity=50, n_iter=300)\n",
    "tsne_results = tsne.fit_transform(x)\n",
    "clusterer = hdbscan.HDBSCAN(metric='euclidean')\n",
    "hdbscan_result = clusterer.fit(x)\n",
    "hdbscan_result.labels_\n",
    "hdbscan_result.labels_.max()\n",
    "labels = hdbscan_result.labels_\n",
    "n_clusters_ = len(set(labels))-(1 if -1 in labels else 0)\n",
    "print(n_clusters_)"
   ]
  },
  {
   "cell_type": "code",
   "execution_count": 30,
   "metadata": {},
   "outputs": [
    {
     "name": "stdout",
     "output_type": "stream",
     "text": [
      "HDBSCAN(algorithm='best', allow_single_cluster=False, alpha=1.0,\n",
      "        approx_min_span_tree=True, cluster_selection_method='eom',\n",
      "        core_dist_n_jobs=4, gen_min_span_tree=False, leaf_size=40,\n",
      "        match_reference_implementation=False, memory=Memory(location=None),\n",
      "        metric='euclidean', min_cluster_size=5, min_samples=None, p=None,\n",
      "        prediction_data=False)\n"
     ]
    },
    {
     "data": {
      "text/plain": [
       "<matplotlib.axes._subplots.AxesSubplot at 0x1a2c08ca58>"
      ]
     },
     "execution_count": 30,
     "metadata": {},
     "output_type": "execute_result"
    },
    {
     "data": {
      "image/png": "[encoded data removed]",
      "text/plain": [
       "<Figure size 864x864 with 2 Axes>"
      ]
     },
     "metadata": {},
     "output_type": "display_data"
    }
   ],
   "source": [
    "print(hdbscan_result)\n",
    "fig = plt.figure(figsize=(12,12))\n",
    "clusterer.condensed_tree_.plot()"
   ]
  },
  {
   "cell_type": "code",
   "execution_count": 39,
   "metadata": {},
   "outputs": [
    {
     "name": "stdout",
     "output_type": "stream",
     "text": [
      "135\n"
     ]
    }
   ],
   "source": []
  },
  {
   "cell_type": "markdown",
   "metadata": {},
   "source": []
  },
  {
   "cell_type": "code",
   "execution_count": 32,
   "metadata": {},
   "outputs": [
    {
     "data": {
      "text/plain": [
       "Text(0, 0.5, 'Number of Light Curves')"
      ]
     },
     "execution_count": 32,
     "metadata": {},
     "output_type": "execute_result"
    },
    {
     "data": {
      "image/png": "[encoded data removed]",
      "text/plain": [
       "<Figure size 1440x1440 with 1 Axes>"
      ]
     },
     "metadata": {},
     "output_type": "display_data"
    }
   ],
   "source": [
    "## clusterer.outlier_scores_\n",
    "fig = plt.figure(figsize=(20,20))\n",
    "plt.hist(clusterer.outlier_scores_, bins=100, color='purple', alpha=0.5)\n",
    "plt.xlabel('Outlier Score')\n",
    "plt.ylabel('Number of Light Curves')"
   ]
  },
  {
   "cell_type": "code",
   "execution_count": 33,
   "metadata": {},
   "outputs": [
    {
     "name": "stdout",
     "output_type": "stream",
     "text": [
      "[['objectID_11194_lc.ascii' -6.73720645904541 -1.2740370035171509 -1]\n",
      " ['objectID_9603_lc.ascii' -6.917633056640625 -2.3261349201202393 -1]\n",
      " ['objectID_7128_lc.ascii' 3.0284085273742676 1.6304161548614502 0]\n",
      " ['objectID_11385_lc.ascii' -3.247802257537842 -4.496291160583496 -1]\n",
      " ['objectID_6788_lc.ascii' 2.629826784133911 2.188831090927124 0]\n",
      " ['objectID_5180_lc.ascii' 1.669119119644165 -2.2071659564971924 0]\n",
      " ['objectID_13043_lc.ascii' -4.544244289398193 -3.9947590827941895 2]\n",
      " ['objectID_783_lc.ascii' -0.8088378310203552 0.3532129228115082 -1]\n",
      " ['objectID_7803_lc.ascii' -4.109713554382324 -4.5015411376953125 2]\n",
      " ['objectID_2644_lc.ascii' -2.6304383277893066 -2.376779079437256 1]\n",
      " ['objectID_4110_lc.ascii' 2.875474452972412 -1.203310251235962 0]\n",
      " ['objectID_4504_lc.ascii' -1.3363358974456787 -8.097517967224121 -1]\n",
      " ['objectID_4995_lc.ascii' 1.8810129165649414 -2.3310678005218506 0]\n",
      " ['objectID_2400_lc.ascii' 2.1463167667388916 -2.3807315826416016 0]\n",
      " ['objectID_11907_lc.ascii' 1.3862757682800293 1.1928783655166626 0]\n",
      " ['objectID_7148_lc.ascii' 3.7050228118896484 1.3227354288101196 0]\n",
      " ['objectID_10905_lc.ascii' 1.0818674564361572 0.18019214272499084 0]\n",
      " ['objectID_5357_lc.ascii' -1.8213543891906738 -8.223691940307617 -1]\n",
      " ['objectID_3801_lc.ascii' 5.424871444702148 2.195305347442627 0]\n",
      " ['objectID_9979_lc.ascii' 1.6813257932662964 1.4280680418014526 0]\n",
      " ['objectID_12727_lc.ascii' 1.8794023990631104 1.7471120357513428 0]\n",
      " ['objectID_10728_lc.ascii' -5.446547031402588 -4.012571811676025 2]\n",
      " ['objectID_5776_lc.ascii' 2.249133348464966 -1.5007057189941406 0]\n",
      " ['objectID_5913_lc.ascii' -0.32646602392196655 0.9371205568313599 -1]\n",
      " ['objectID_10615_lc.ascii' -6.237632751464844 -4.352506637573242 -1]\n",
      " ['objectID_8300_lc.ascii' 3.2996768951416016 2.130476951599121 0]\n",
      " ['objectID_11274_lc.ascii' -5.739029407501221 -4.667578220367432 2]\n",
      " ['objectID_9760_lc.ascii' -3.2374727725982666 -1.2867112159729004 1]\n",
      " ['objectID_7638_lc.ascii' 4.3859758377075195 2.017462730407715 0]\n",
      " ['objectID_10308_lc.ascii' 0.7848884463310242 0.37573838233947754 0]\n",
      " ['objectID_7695_lc.ascii' 2.5468246936798096 0.8920094966888428 0]\n",
      " ['objectID_9570_lc.ascii' 0.5750337839126587 -0.3967718183994293 0]\n",
      " ['objectID_130_lc.ascii' 5.665199279785156 3.252424955368042 0]\n",
      " ['objectID_12398_lc.ascii' 1.9001463651657104 2.15362548828125 0]\n",
      " ['objectID_11499_lc.ascii' -2.8865435123443604 -1.2961872816085815 1]\n",
      " ['objectID_11371_lc.ascii' -3.82483172416687 -0.7973077893257141 1]\n",
      " ['objectID_9909_lc.ascii' 1.896981120109558 0.8234239816665649 0]\n",
      " ['objectID_13082_lc.ascii' -3.398378372192383 -6.534570693969727 -1]\n",
      " ['objectID_10055_lc.ascii' -4.624455451965332 -4.309920787811279 2]\n",
      " ['objectID_10902_lc.ascii' -2.890275239944458 -2.5466129779815674 1]\n",
      " ['objectID_6511_lc.ascii' 2.923656702041626 0.5472919344902039 0]\n",
      " ['objectID_4886_lc.ascii' 6.3074445724487305 1.516404151916504 -1]\n",
      " ['objectID_7827_lc.ascii' 6.735353469848633 1.8097248077392578 -1]\n",
      " ['objectID_8307_lc.ascii' 3.0642282962799072 0.6228489279747009 0]\n",
      " ['objectID_7411_lc.ascii' 3.4811484813690186 -0.6651267409324646 0]\n",
      " ['objectID_7677_lc.ascii' 3.378340721130371 2.882671356201172 0]\n",
      " ['objectID_7736_lc.ascii' -7.65461540222168 -6.506326675415039 -1]\n",
      " ['objectID_11155_lc.ascii' -1.6461296081542969 3.5273890495300293 -1]\n",
      " ['objectID_11123_lc.ascii' -5.150509357452393 0.9343749284744263 -1]\n",
      " ['objectID_10543_lc.ascii' -2.9978973865509033 -1.03292977809906 1]\n",
      " ['objectID_10908_lc.ascii' -4.78584098815918 -4.571866035461426 2]\n",
      " ['objectID_10491_lc.ascii' -4.996896743774414 -3.329009532928467 2]\n",
      " ['objectID_7505_lc.ascii' -4.4121527671813965 -4.119729042053223 2]\n",
      " ['objectID_6833_lc.ascii' 2.245281219482422 2.6422107219696045 0]\n",
      " ['objectID_7018_lc.ascii' 2.989091157913208 1.7807904481887817 0]\n",
      " ['objectID_11868_lc.ascii' -3.6023600101470947 -5.367446422576904 -1]\n",
      " ['objectID_10098_lc.ascii' -2.778404712677002 -1.559369683265686 1]\n",
      " ['objectID_5061_lc.ascii' -2.7124087810516357 -8.728720664978027 -1]\n",
      " ['objectID_11422_lc.ascii' -3.564591884613037 -1.1979122161865234 1]\n",
      " ['objectID_11143_lc.ascii' -6.8668317794799805 -0.6742818355560303 -1]\n",
      " ['objectID_7628_lc.ascii' 4.515908241271973 2.762579917907715 0]\n",
      " ['objectID_11638_lc.ascii' -0.05628567934036255 -0.5350450277328491 0]\n",
      " ['objectID_7152_lc.ascii' 2.560061454772949 1.9683516025543213 0]\n",
      " ['objectID_4837_lc.ascii' -2.556882858276367 -8.656189918518066 -1]\n",
      " ['objectID_12911_lc.ascii' 1.4286962747573853 0.199673593044281 0]\n",
      " ['objectID_54_lc.ascii' 6.283617973327637 5.10651159286499 0]\n",
      " ['objectID_5220_lc.ascii' -3.949188232421875 -3.9523143768310547 2]\n",
      " ['objectID_7487_lc.ascii' 3.7330033779144287 0.7547507286071777 0]\n",
      " ['objectID_12441_lc.ascii' -6.262751579284668 -2.9538395404815674 2]\n",
      " ['objectID_10944_lc.ascii' -3.6408443450927734 -1.3757164478302002 1]\n",
      " ['objectID_11293_lc.ascii' 0.14236074686050415 -0.6858412623405457 0]\n",
      " ['objectID_5790_lc.ascii' -1.7937452793121338 -0.8140296936035156 -1]\n",
      " ['objectID_9546_lc.ascii' -4.460357666015625 -0.8832776546478271 1]\n",
      " ['objectID_7043_lc.ascii' 3.7772130966186523 1.0147625207901 0]\n",
      " ['objectID_747_lc.ascii' 5.107058048248291 2.3378612995147705 0]\n",
      " ['objectID_11113_lc.ascii' -1.5603291988372803 3.5264077186584473 -1]\n",
      " ['objectID_12801_lc.ascii' -2.9990365505218506 -2.5524420738220215 1]\n",
      " ['objectID_3508_lc.ascii' -4.138686180114746 -3.7818000316619873 2]\n",
      " ['objectID_4951_lc.ascii' 3.8929896354675293 3.4321889877319336 0]\n",
      " ['objectID_11164_lc.ascii' 0.9734979271888733 1.1487562656402588 0]\n",
      " ['objectID_7529_lc.ascii' 4.148234844207764 2.5699820518493652 0]\n",
      " ['objectID_12270_lc.ascii' -5.758828163146973 -5.852217197418213 -1]\n",
      " ['objectID_11810_lc.ascii' -8.025278091430664 -2.3511040210723877 -1]\n",
      " ['objectID_8427_lc.ascii' -4.370466232299805 -4.209465026855469 2]\n",
      " ['objectID_6659_lc.ascii' 0.22863931953907013 1.581893801689148 0]\n",
      " ['objectID_11216_lc.ascii' -2.1881284713745117 -1.4987865686416626 1]\n",
      " ['objectID_9826_lc.ascii' 1.3211272954940796 1.0696866512298584 0]\n",
      " ['objectID_11866_lc.ascii' -6.669161796569824 -7.484352111816406 -1]\n",
      " ['objectID_10790_lc.ascii' 2.1120519638061523 0.9701453447341919 0]\n",
      " ['objectID_4870_lc.ascii' -0.6748242378234863 -5.289515018463135 -1]\n",
      " ['objectID_6781_lc.ascii' 3.66223406791687 -0.31884539127349854 0]\n",
      " ['objectID_8480_lc.ascii' 3.8570361137390137 2.5442306995391846 0]\n",
      " ['objectID_11640_lc.ascii' -5.523933410644531 -4.637645721435547 2]\n",
      " ['objectID_1077_lc.ascii' 1.3816068172454834 -2.297828197479248 0]\n",
      " ['objectID_11884_lc.ascii' -5.44923210144043 -3.6874277591705322 2]\n",
      " ['objectID_2044_lc.ascii' -8.277216911315918 -2.1544179916381836 -1]\n",
      " ['objectID_3827_lc.ascii' 5.191498756408691 3.2472598552703857 0]\n",
      " ['objectID_7894_lc.ascii' -7.174018383026123 -4.053548336029053 -1]\n",
      " ['objectID_8647_lc.ascii' 3.969752073287964 0.6020680069923401 0]\n",
      " ['objectID_7472_lc.ascii' 4.065219402313232 1.445082187652588 0]\n",
      " ['objectID_3982_lc.ascii' -0.4570939242839813 0.7137546539306641 0]\n",
      " ['objectID_3774_lc.ascii' -2.3417611122131348 -8.056336402893066 -1]\n",
      " ['objectID_5394_lc.ascii' -2.879579782485962 -8.704644203186035 -1]\n",
      " ['objectID_8224_lc.ascii' 2.112076997756958 -0.2833203375339508 0]\n",
      " ['objectID_3851_lc.ascii' 2.9102494716644287 -1.737644076347351 0]\n",
      " ['objectID_7838_lc.ascii' 4.723540306091309 0.28959983587265015 0]\n",
      " ['objectID_6654_lc.ascii' 3.0369317531585693 1.3191522359848022 0]\n",
      " ['objectID_6939_lc.ascii' -7.425145626068115 -6.5345659255981445 -1]\n",
      " ['objectID_11630_lc.ascii' -5.568470001220703 -3.4104225635528564 2]\n",
      " ['objectID_125_lc.ascii' 6.0045976638793945 3.6966681480407715 -1]\n",
      " ['objectID_8861_lc.ascii' -7.845943927764893 -1.8055291175842285 -1]\n",
      " ['objectID_11561_lc.ascii' -5.206045150756836 -4.964260578155518 2]\n",
      " ['objectID_5123_lc.ascii' -0.5192906856536865 -4.8813796043396 -1]\n",
      " ['objectID_7025_lc.ascii' 2.4913644790649414 1.3457590341567993 0]\n",
      " ['objectID_4849_lc.ascii' -3.571584939956665 -2.732328414916992 -1]\n",
      " ['objectID_9606_lc.ascii' 1.291899561882019 0.35647547245025635 0]\n",
      " ['objectID_12413_lc.ascii' -2.515890598297119 -1.6541659832000732 1]\n",
      " ['objectID_11940_lc.ascii' -5.7937188148498535 -4.085501670837402 2]\n",
      " ['objectID_8396_lc.ascii' -6.188258171081543 -2.474294662475586 -1]\n",
      " ['objectID_6708_lc.ascii' 2.9025793075561523 2.5745608806610107 0]\n",
      " ['objectID_7950_lc.ascii' 4.293697357177734 1.5497076511383057 0]\n",
      " ['objectID_2973_lc.ascii' -5.282729625701904 -8.074616432189941 -1]\n",
      " ['objectID_7179_lc.ascii' 3.6784512996673584 2.0432088375091553 0]\n",
      " ['objectID_4365_lc.ascii' -3.161881923675537 0.4746282696723938 -1]\n",
      " ['objectID_10837_lc.ascii' 0.6156274080276489 -0.16336163878440857 0]\n",
      " ['objectID_12931_lc.ascii' -6.687079429626465 -2.7167840003967285 -1]\n",
      " ['objectID_9541_lc.ascii' 1.328324317932129 -0.31774601340293884 0]\n",
      " ['objectID_10435_lc.ascii' -5.830770492553711 -3.2912933826446533 2]\n",
      " ['objectID_11990_lc.ascii' 2.493929147720337 2.7659075260162354 0]\n",
      " ['objectID_11626_lc.ascii' -7.149500846862793 -1.7556884288787842 -1]\n",
      " ['objectID_12687_lc.ascii' -5.210943222045898 -2.4405744075775146 -1]\n",
      " ['objectID_8017_lc.ascii' 2.6994400024414062 -0.2592945396900177 0]\n",
      " ['objectID_6819_lc.ascii' -3.4788405895233154 -2.283219337463379 1]\n",
      " ['objectID_10841_lc.ascii' -2.447805404663086 -5.48629903793335 -1]\n",
      " ['objectID_6910_lc.ascii' 3.0173282623291016 -0.1522849202156067 0]]\n"
     ]
    }
   ],
   "source": [
    "tsne = tsne_results \n",
    "filenames = np.array(y)\n",
    "cluster_score = np.array(hdbscan_result.labels_)\n",
    "cluster_score_reshape = cluster_score.reshape(len(x),1)\n",
    "tsne_filenames = np.append(filenames, tsne, axis=1)\n",
    "tsne_filenames_clusters = np.append(tsne_filenames,cluster_score_reshape, axis=1 )\n"
   ]
  },
  {
   "cell_type": "code",
   "execution_count": 34,
   "metadata": {},
   "outputs": [],
   "source": [
    "def get_cmap(n, name='nipy_spectral'):\n",
    "    '''Returns a function that maps each index in 0, 1, ..., n-1 to a distinct \n",
    "    RGB color; the keyword argument name must be a standard mpl colormap name.'''\n",
    "    return plt.cm.get_cmap(name, n)"
   ]
  },
  {
   "cell_type": "code",
   "execution_count": 41,
   "metadata": {},
   "outputs": [
    {
     "name": "stderr",
     "output_type": "stream",
     "text": [
      "'c' argument looks like a single numeric RGB or RGBA sequence, which should be avoided as value-mapping will have precedence in case its length matches with 'x' & 'y'.  Please use a 2-D array with a single row if you really want to specify the same RGB or RGBA value for all points.\n",
      "'c' argument looks like a single numeric RGB or RGBA sequence, which should be avoided as value-mapping will have precedence in case its length matches with 'x' & 'y'.  Please use a 2-D array with a single row if you really want to specify the same RGB or RGBA value for all points.\n",
      "'c' argument looks like a single numeric RGB or RGBA sequence, which should be avoided as value-mapping will have precedence in case its length matches with 'x' & 'y'.  Please use a 2-D array with a single row if you really want to specify the same RGB or RGBA value for all points.\n",
      "'c' argument looks like a single numeric RGB or RGBA sequence, which should be avoided as value-mapping will have precedence in case its length matches with 'x' & 'y'.  Please use a 2-D array with a single row if you really want to specify the same RGB or RGBA value for all points.\n"
     ]
    },
    {
     "data": {
      "image/png": "[encoded data removed]",
      "text/plain": [
       "<Figure size 7200x7200 with 1 Axes>"
      ]
     },
     "metadata": {},
     "output_type": "display_data"
    }
   ],
   "source": [
    "cmap = get_cmap(n_clusters_)\n",
    "fig = plt.figure(figsize=(100,100))\n",
    "ax = fig.add_subplot(111)\n",
    "\n",
    "params = {'legend.fontsize': 'x-large',\n",
    "          'legend.fontsize': 100,\n",
    "          'legend.handlelength': 2,\n",
    "          'figure.figsize': (100, 100),\n",
    "         'axes.labelsize': '100',\n",
    "         'axes.titlesize':'100',\n",
    "         'xtick.labelsize':'100',\n",
    "         'ytick.labelsize':'100'}\n",
    "pylab.rcParams.update(params)\n",
    "\n",
    "for cluster in np.unique(tsne_filenames_clusters[:,n_clusters_]):\n",
    "    #msk = np.where(tsne_filenames_clusters[:,4]==cluster)[0]\n",
    "    msk = np.where(tsne_filenames_clusters[:,n_clusters_]==cluster)[0]\n",
    "    xx = tsne_filenames_clusters[msk,1]\n",
    "    yy = tsne_filenames_clusters[msk,2]\n",
    "    ax.scatter(xx, yy, alpha=0.6, label=cluster, c=cmap(cluster), s=1000)"
   ]
  },
  {
   "cell_type": "code",
   "execution_count": null,
   "metadata": {},
   "outputs": [],
   "source": [
    "# save clusters for looking \n",
    "d = {}\n",
    "for cluster in np.unique(tsne_filenames_clusters[:,n_clusters_]):\n",
    "    #print(cluster)\n",
    "    msk = np.where(tsne_filenames_clusters[:,3]==cluster)[0]\n",
    "    #print(tsne_filenames_clusters[:,0])\n",
    "    d[\"cluster{0}\".format(cluster)] = tsne_filenames_clusters[msk,0]\n",
    "    xx = tsne_filenames_clusters[msk,1]\n",
    "    yy = tsne_filenames_clusters[msk,2]\n",
    "   #print(tsne_filenames_clusters)\n",
    "f = open(filename+'_clsuters.pkl', \"wb\")\n",
    "pickle.dump(d, f)\n",
    "f.close()"
   ]
  },
  {
   "cell_type": "code",
   "execution_count": null,
   "metadata": {},
   "outputs": [],
   "source": []
  }
 ],
 "metadata": {
  "kernelspec": {
   "display_name": "Python 3",
   "language": "python",
   "name": "python3"
  },
  "language_info": {
   "codemirror_mode": {
    "name": "ipython",
    "version": 3
   },
   "file_extension": ".py",
   "mimetype": "text/x-python",
   "name": "python",
   "nbconvert_exporter": "python",
   "pygments_lexer": "ipython3",
   "version": "3.6.4"
  }
 },
 "nbformat": 4,
 "nbformat_minor": 2
}
